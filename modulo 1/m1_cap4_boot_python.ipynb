{
  "nbformat": 4,
  "nbformat_minor": 0,
  "metadata": {
    "colab": {
      "name": "m1_cap4_boot_python.ipynb",
      "provenance": [],
      "collapsed_sections": [
        "77Cz2GWmHcxT"
      ],
      "authorship_tag": "ABX9TyMKogFoNLScaGa9T3nPsMxL",
      "include_colab_link": true
    },
    "kernelspec": {
      "name": "python3",
      "display_name": "Python 3"
    }
  },
  "cells": [
    {
      "cell_type": "markdown",
      "metadata": {
        "id": "view-in-github",
        "colab_type": "text"
      },
      "source": [
        "<a href=\"https://colab.research.google.com/github/jlvoltan/bootcamp_python/blob/master/m1_cap4_boot_python.ipynb\" target=\"_parent\"><img src=\"https://colab.research.google.com/assets/colab-badge.svg\" alt=\"Open In Colab\"/></a>"
      ]
    },
    {
      "cell_type": "markdown",
      "metadata": {
        "id": "oijHAfMeWB9t",
        "colab_type": "text"
      },
      "source": [
        "# **Módulo 1 - Cap 4 - Bootcamp PYTHON**\n",
        "*Atualizado em 24 JUL 2020*"
      ]
    },
    {
      "cell_type": "markdown",
      "metadata": {
        "id": "FudDOXFo02P2",
        "colab_type": "text"
      },
      "source": [
        "##Escopo em Python\n",
        "Escopo = região onde determinada variável ou função podem ser acessadas. Nível:\n",
        "1. Local                    \n",
        "2. Global \t\n",
        "3. Parametrizado (Cabeçalho de funções)\n",
        "\n",
        "De um nível mais interno, posso acessar funções e variáveis do mais externo, a recíproca  NÃO VALE\n",
        "\n",
        "* nonlocal: Instrução nonlocal: Permite acessar membros que não são nem locais e nem  globais contidos em escopos externos (usado em funções aninhadas).\n"
      ]
    },
    {
      "cell_type": "markdown",
      "metadata": {
        "id": "cgxAxSrF1B4J",
        "colab_type": "text"
      },
      "source": [
        "* As variáveis são restritas ao escopo de sua criação.\n",
        "* Variável de mesmo nome em + de 1 escopo:\n",
        "    - Posso acessar a variavel externa com uso da palavra global"
      ]
    },
    {
      "cell_type": "code",
      "metadata": {
        "id": "kulZEqvJ1ixX",
        "colab_type": "code",
        "colab": {
          "base_uri": "https://localhost:8080/",
          "height": 68
        },
        "outputId": "01d73439-e733-4f7c-d584-532e3b5a921a"
      },
      "source": [
        "variavel1 = 500\n",
        "variavel2 = 9\n",
        "\n",
        "def uma_funcao():\n",
        "  variavel1 = 200\n",
        "  print(variavel1)\n",
        "  \n",
        "  global variavel2\n",
        "  variavel2 = 1\n",
        "\n",
        "uma_funcao()\n",
        "print(variavel1)\n",
        "print(variavel2)"
      ],
      "execution_count": 27,
      "outputs": [
        {
          "output_type": "stream",
          "text": [
            "200\n",
            "500\n",
            "1\n"
          ],
          "name": "stdout"
        }
      ]
    },
    {
      "cell_type": "markdown",
      "metadata": {
        "id": "q0bNnyue2PWf",
        "colab_type": "text"
      },
      "source": [
        "* Variaveis declaradas dentro do escopo local, tornam-se globais:"
      ]
    },
    {
      "cell_type": "code",
      "metadata": {
        "colab_type": "code",
        "id": "OJJ6XuyG2OVa",
        "colab": {
          "base_uri": "https://localhost:8080/",
          "height": 51
        },
        "outputId": "c97cefe3-2b25-44f9-dce9-85cacfaeb805"
      },
      "source": [
        "def uma_funcao():\n",
        "  global variavel1\n",
        "  variavel1 = 200\n",
        "  print(variavel1)\n",
        "\n",
        "uma_funcao()\n",
        "print(variavel1)"
      ],
      "execution_count": 28,
      "outputs": [
        {
          "output_type": "stream",
          "text": [
            "200\n",
            "200\n"
          ],
          "name": "stdout"
        }
      ]
    },
    {
      "cell_type": "markdown",
      "metadata": {
        "id": "jRzrnm9pQXq1",
        "colab_type": "text"
      },
      "source": [
        "###Pilha de dados - Stack Data"
      ]
    },
    {
      "cell_type": "markdown",
      "metadata": {
        "id": "gvHVyK54QhcM",
        "colab_type": "text"
      },
      "source": [
        "* FILO - First in - Last out\n",
        "* Adição e retirada ocorrem no topo da pilha\n",
        "* o Python trabalha dessa forma com os escopos locais e globais\n"
      ]
    },
    {
      "cell_type": "markdown",
      "metadata": {
        "id": "vMjuCfQbzteG",
        "colab_type": "text"
      },
      "source": [
        "* **Nome da função**: Deve fazer sentido com a tarefa da função\n",
        "* **Tarefa**: O que ela irá executar\n",
        "* **Argumentos**: Definir quais ela irá receber\n",
        "* **Retorno**: O que a função deve retornar\n"
      ]
    },
    {
      "cell_type": "markdown",
      "metadata": {
        "id": "RxkIU6eua6ht",
        "colab_type": "text"
      },
      "source": [
        "##Funções"
      ]
    },
    {
      "cell_type": "markdown",
      "metadata": {
        "id": "qejTieRbkfCa",
        "colab_type": "text"
      },
      "source": [
        "1. Escopo local.\n",
        "2.  Funções (tem retorno – return retorna e encerra) x Método (não tem retorno)\n"
      ]
    },
    {
      "cell_type": "code",
      "metadata": {
        "id": "PG1Efh_TTaIr",
        "colab_type": "code",
        "colab": {}
      },
      "source": [
        "#Definindo a função\n",
        "def funcao_imprime_nome(nome):\n",
        "  \"\"\" A função imprime o nome passado e retorna 1 se realizou com sucesso\"\"\"\n",
        "  print(\"O seu nome é \", nome)\n",
        "  return 1"
      ],
      "execution_count": 29,
      "outputs": []
    },
    {
      "cell_type": "code",
      "metadata": {
        "id": "dk86opnftBak",
        "colab_type": "code",
        "colab": {
          "base_uri": "https://localhost:8080/",
          "height": 51
        },
        "outputId": "c71114b4-09f9-48c9-bb70-7e4f263eb916"
      },
      "source": [
        "#Executando/Chamando a função\n",
        "funcao_imprime_nome(\"Jose\")"
      ],
      "execution_count": 30,
      "outputs": [
        {
          "output_type": "stream",
          "text": [
            "O seu nome é  Jose\n"
          ],
          "name": "stdout"
        },
        {
          "output_type": "execute_result",
          "data": {
            "text/plain": [
              "1"
            ]
          },
          "metadata": {
            "tags": []
          },
          "execution_count": 30
        }
      ]
    },
    {
      "cell_type": "markdown",
      "metadata": {
        "id": "T4r6Qduyr3Yi",
        "colab_type": "text"
      },
      "source": [
        "* Posso passar parâmetros;\n",
        " 1. Passagem posicional:  Deve-se passar na sequencia da def. da func\n",
        " 2. Passagem nomeada:  Especifica-se o par atributo:valor, daí não precisa ser na ordem\n",
        " 3. Existe a mistura dos dois, sigo com o Posicional, a partir de certo ponto começo com o nomeado, e dai terá que ser nomeado até o final\n",
        "\n",
        "* A função pode me retornar valores;\n",
        " * retorno de valores múltiplos,\n",
        "* A função tem um propósito específico (p.e. calcular uma reta, área de um obj.)\n",
        "* Proporciona reuso de código.\n"
      ]
    },
    {
      "cell_type": "markdown",
      "metadata": {
        "id": "4jevvD1kSVLU",
        "colab_type": "text"
      },
      "source": [
        "##Funções predicadas"
      ]
    },
    {
      "cell_type": "markdown",
      "metadata": {
        "id": "XEOSdc9YSvxs",
        "colab_type": "text"
      },
      "source": [
        "* São aquelas funções que retornam True or False."
      ]
    },
    {
      "cell_type": "code",
      "metadata": {
        "id": "ZB-2zZd0SApi",
        "colab_type": "code",
        "colab": {
          "base_uri": "https://localhost:8080/",
          "height": 34
        },
        "outputId": "7ed1ae68-67bb-4df7-f916-39012de6243c"
      },
      "source": [
        "def verifica_par(numero):\n",
        "  eh_par = False\n",
        "  if (numero%2 == 0):\n",
        "    eh_par = True\n",
        "  return eh_par\n",
        "\n",
        "print(verifica_par(5))"
      ],
      "execution_count": 31,
      "outputs": [
        {
          "output_type": "stream",
          "text": [
            "False\n"
          ],
          "name": "stdout"
        }
      ]
    },
    {
      "cell_type": "markdown",
      "metadata": {
        "id": "xf48o3Mkb69F",
        "colab_type": "text"
      },
      "source": [
        "##Abordagens de desenvolvimento"
      ]
    },
    {
      "cell_type": "markdown",
      "metadata": {
        "id": "fu_3-ECgccLo",
        "colab_type": "text"
      },
      "source": [
        "![texto alternativo](https://drive.google.com/uc?id=14rF9EmgLmwQafxh6Guawery8_46ACUa4)"
      ]
    },
    {
      "cell_type": "markdown",
      "metadata": {
        "id": "d_XhNADbdu-D",
        "colab_type": "text"
      },
      "source": [
        "* POO utiliza Bottom-up"
      ]
    },
    {
      "cell_type": "markdown",
      "metadata": {
        "id": "GCvm9J4fi9R3",
        "colab_type": "text"
      },
      "source": [
        "## Recursividade em funções\n",
        "* Uma função que chama a si mesma;\n",
        "* exemplos clássicos: \n",
        "    * Fatorial:  n! = n * (n-1)!  e 1!=1\n",
        "    * Número de Fibonatti : Fn = F*(n-1)* + F*(n-2)*  e F*1* = F*2* = 1   "
      ]
    },
    {
      "cell_type": "code",
      "metadata": {
        "id": "ONbMCg0ATcVq",
        "colab_type": "code",
        "colab": {}
      },
      "source": [
        "def fibonatti(n):\n",
        "  if (n==1 or n==2): return 1\n",
        "  else: return (fibonatti(n-1) + fibonatti(n-2))"
      ],
      "execution_count": 32,
      "outputs": []
    },
    {
      "cell_type": "code",
      "metadata": {
        "id": "x2VRJqOXkfkV",
        "colab_type": "code",
        "colab": {
          "base_uri": "https://localhost:8080/",
          "height": 34
        },
        "outputId": "35520f53-6e53-4a09-dd4e-4588dba37d5b"
      },
      "source": [
        "print(fibonatti(6))"
      ],
      "execution_count": 33,
      "outputs": [
        {
          "output_type": "stream",
          "text": [
            "8\n"
          ],
          "name": "stdout"
        }
      ]
    },
    {
      "cell_type": "markdown",
      "metadata": {
        "id": "EBkVOh2xk7o3",
        "colab_type": "text"
      },
      "source": [
        "## main()\n",
        "* Não precisa, mas facilita\n"
      ]
    },
    {
      "cell_type": "code",
      "metadata": {
        "id": "aRFMtmbmkudU",
        "colab_type": "code",
        "colab": {
          "base_uri": "https://localhost:8080/",
          "height": 34
        },
        "outputId": "b8d78f19-bed7-445b-d0c6-e8e0011e4dab"
      },
      "source": [
        "def main():\n",
        "  print(\"Estou no contexto main()\")\n",
        "\n",
        "if __name__ == \"__main__\": main() #se o meu contexto for o main, ele invoca o main()"
      ],
      "execution_count": 34,
      "outputs": [
        {
          "output_type": "stream",
          "text": [
            "Estou no contexto main()\n"
          ],
          "name": "stdout"
        }
      ]
    },
    {
      "cell_type": "markdown",
      "metadata": {
        "id": "X7NPB7MbnKRW",
        "colab_type": "text"
      },
      "source": [
        "## Importando"
      ]
    },
    {
      "cell_type": "markdown",
      "metadata": {
        "id": "sZUon1wpnP8l",
        "colab_type": "text"
      },
      "source": [
        "* para importar o *código/módulo* todo  codigo. py ; executo:\n",
        "\n",
        " * *import codigo*  ou *import codigo as novo_nome*\n",
        "\n",
        "* para importar apenas a função *funcao* do código/módulo  codigo. py ; executo:\n",
        "\n",
        " * *from modulo import funcao*\n",
        "* O módulo é carregado uma única vez. \n",
        "  * Posso formar o recarregamento, usando *importlib.reload(nome_do_modulo)*\n",
        "* O Python procura na pasta do códio, se não encontrar pesquisa no diretório PYTHONPATH onde os módulos estão localizados.\n"
      ]
    },
    {
      "cell_type": "markdown",
      "metadata": {
        "id": "ZJou-j4douOs",
        "colab_type": "text"
      },
      "source": [
        "## Argumentos\n",
        "* 3 tipos:\n",
        "  * Argumento default: Já se encontram \"setados\"\n",
        "  * Argumento posicional: Os argumentos são passados na mesma ordem que a função pede.\n",
        "\n",
        "  * Funções variádicas:\n",
        "   * Argumento arbitrário: Uso de  **\\*args** e  **\\* \\*kwargs** \n",
        "     * \\*args : A função possui n parâmetros (Lista de argumentos);\n",
        "     * \\* \\*kwargs : Funciona como um dicionário (argumentos associados a um nome  (CHAVE/VALOR))."
      ]
    },
    {
      "cell_type": "code",
      "metadata": {
        "id": "prruXFKUoy7R",
        "colab_type": "code",
        "colab": {
          "base_uri": "https://localhost:8080/",
          "height": 68
        },
        "outputId": "e82a168a-37a0-4cf7-8d4b-e4d9276cca47"
      },
      "source": [
        "#default \n",
        "def bom_dia(nome=\"Sr/Sra\", idade=\"sem idade\"):\n",
        "  if (idade == \"sem idade\"): print(\"Bom dia \"+ nome)\n",
        "  else: print(\"Bom dia \"+ nome + \" de \" + idade +\" anos.\")\n",
        "\n",
        "\n",
        "bom_dia()\n",
        "bom_dia(\"Joao\",\"20\")\n",
        "bom_dia(\"Joao\")"
      ],
      "execution_count": 35,
      "outputs": [
        {
          "output_type": "stream",
          "text": [
            "Bom dia Sr/Sra\n",
            "Bom dia Joao de 20 anos.\n",
            "Bom dia Joao\n"
          ],
          "name": "stdout"
        }
      ]
    },
    {
      "cell_type": "code",
      "metadata": {
        "id": "inrwncs4t8bm",
        "colab_type": "code",
        "colab": {
          "base_uri": "https://localhost:8080/",
          "height": 68
        },
        "outputId": "a96e0810-1c79-4c56-e4f6-30fa25416b69"
      },
      "source": [
        "#Indicando explicitamente os argumentos\n",
        "\n",
        "bom_dia(nome=\"Joao\",idade=\"20\")\n",
        "bom_dia(nome=\"Joao\")\n",
        "bom_dia(idade=\"20\")"
      ],
      "execution_count": 36,
      "outputs": [
        {
          "output_type": "stream",
          "text": [
            "Bom dia Joao de 20 anos.\n",
            "Bom dia Joao\n",
            "Bom dia Sr/Sra de 20 anos.\n"
          ],
          "name": "stdout"
        }
      ]
    },
    {
      "cell_type": "code",
      "metadata": {
        "id": "jf3LqUXfuSVS",
        "colab_type": "code",
        "colab": {}
      },
      "source": [
        "#Argumento arbitrário:\n",
        "\n",
        "def media(*valores_inteiros):\n",
        "  n = len(valores_inteiros)\n",
        "  soma=0\n",
        "  for valor in valores_inteiros:\n",
        "    soma += valor\n",
        "  return soma/n"
      ],
      "execution_count": 37,
      "outputs": []
    },
    {
      "cell_type": "code",
      "metadata": {
        "id": "_d-k8Wanwm2D",
        "colab_type": "code",
        "colab": {
          "base_uri": "https://localhost:8080/",
          "height": 34
        },
        "outputId": "6cf85027-e500-4d22-8469-873d7f1fa694"
      },
      "source": [
        "print(media(1,2,3))"
      ],
      "execution_count": 38,
      "outputs": [
        {
          "output_type": "stream",
          "text": [
            "2.0\n"
          ],
          "name": "stdout"
        }
      ]
    },
    {
      "cell_type": "code",
      "metadata": {
        "id": "_FnYtRYzxmSn",
        "colab_type": "code",
        "colab": {
          "base_uri": "https://localhost:8080/",
          "height": 51
        },
        "outputId": "42d96d83-f909-44c3-ae44-0b74dd5b9b64"
      },
      "source": [
        "def alunos(**aluno_idade):\n",
        "  print(str(aluno_idade))\n",
        "\n",
        "alunos(julia=20, miguel=19)\n",
        "alunos(julia=20, miguel=19, rafael=21)"
      ],
      "execution_count": 39,
      "outputs": [
        {
          "output_type": "stream",
          "text": [
            "{'julia': 20, 'miguel': 19}\n",
            "{'julia': 20, 'miguel': 19, 'rafael': 21}\n"
          ],
          "name": "stdout"
        }
      ]
    },
    {
      "cell_type": "markdown",
      "metadata": {
        "id": "KcdWorF_BB5m",
        "colab_type": "text"
      },
      "source": [
        "## Programação Orientada a Objeto"
      ]
    },
    {
      "cell_type": "markdown",
      "metadata": {
        "id": "i_bFrvmpBlIH",
        "colab_type": "text"
      },
      "source": [
        "* Programação procedural ou estruturada: Inicio -> Processamento -> Fim\n",
        "* POO: Classes, objetos, reuso de código, encapsulamento, atributos e métodos. Instância de uma classe."
      ]
    },
    {
      "cell_type": "markdown",
      "metadata": {
        "id": "MhzZJy3-CKvK",
        "colab_type": "text"
      },
      "source": [
        "* Pode-se criar módulos, contendo funções, classes e variáveis.\n",
        "* módulo"
      ]
    },
    {
      "cell_type": "markdown",
      "metadata": {
        "id": "77Cz2GWmHcxT",
        "colab_type": "text"
      },
      "source": [
        "## Módulos\n"
      ]
    },
    {
      "cell_type": "markdown",
      "metadata": {
        "id": "SJx8v3U2IXSq",
        "colab_type": "text"
      },
      "source": [
        "* Módulos build-in \n",
        "\n"
      ]
    },
    {
      "cell_type": "code",
      "metadata": {
        "id": "tBJE0oy4x3IG",
        "colab_type": "code",
        "colab": {
          "base_uri": "https://localhost:8080/",
          "height": 0
        },
        "outputId": "0f873f12-6d60-45f7-beb6-80ab643e490f"
      },
      "source": [
        "# Vendo onde o Python pesquisa pelos módulos\n",
        "import sys\n",
        "print(sys.path)"
      ],
      "execution_count": 40,
      "outputs": [
        {
          "output_type": "stream",
          "text": [
            "['', '/env/python', '/usr/lib/python36.zip', '/usr/lib/python3.6', '/usr/lib/python3.6/lib-dynload', '/usr/local/lib/python3.6/dist-packages', '/usr/lib/python3/dist-packages', '/usr/local/lib/python3.6/dist-packages/IPython/extensions', '/root/.ipython']\n"
          ],
          "name": "stdout"
        }
      ]
    },
    {
      "cell_type": "code",
      "metadata": {
        "id": "Vmq3SthJH1He",
        "colab_type": "code",
        "colab": {
          "base_uri": "https://localhost:8080/",
          "height": 0
        },
        "outputId": "98d8b29d-b915-4f7a-957e-544aea31159c"
      },
      "source": [
        "#Módulo voltado para informações do PC\n",
        "import platform\n",
        "\n",
        "plataforma = platform\n",
        "sistema_operacional = plataforma.system() \n",
        "print(plataforma.python_version())\n",
        "print(plataforma.processor())\n",
        "print(sistema_operacional)"
      ],
      "execution_count": 41,
      "outputs": [
        {
          "output_type": "stream",
          "text": [
            "3.6.9\n",
            "x86_64\n",
            "Linux\n"
          ],
          "name": "stdout"
        }
      ]
    },
    {
      "cell_type": "code",
      "metadata": {
        "id": "nd480mw9JRnx",
        "colab_type": "code",
        "colab": {
          "base_uri": "https://localhost:8080/",
          "height": 0
        },
        "outputId": "2b0f432e-0664-4997-930b-ca475d6fd03c"
      },
      "source": [
        "#Tabela de nomes existentes\n",
        "print(dir())\n",
        "\n",
        "#quando importo um módulo, ele insere esse nome nessa tabela\n",
        "import math as matematica\n",
        "\n",
        "print(dir())"
      ],
      "execution_count": 42,
      "outputs": [
        {
          "output_type": "stream",
          "text": [
            "['In', 'Out', 'Turtle', '_', '_3', '_30', '_7', '__', '___', '__builtin__', '__builtins__', '__doc__', '__loader__', '__name__', '__package__', '__spec__', '_dh', '_exit_code', '_i', '_i1', '_i10', '_i11', '_i12', '_i13', '_i14', '_i15', '_i16', '_i17', '_i18', '_i19', '_i2', '_i20', '_i21', '_i22', '_i23', '_i24', '_i25', '_i26', '_i27', '_i28', '_i29', '_i3', '_i30', '_i31', '_i32', '_i33', '_i34', '_i35', '_i36', '_i37', '_i38', '_i39', '_i4', '_i40', '_i41', '_i42', '_i5', '_i6', '_i7', '_i8', '_i9', '_ih', '_ii', '_iii', '_oh', '_sh', 'aluno', 'alunos', 'bom_dia', 'exit', 'fibonatti', 'funcao_imprime_nome', 'get_ipython', 'idade_1', 'julia', 'main', 'mariana', 'matematica', 'media', 'plataforma', 'platform', 'quit', 'sistema_operacional', 'sys', 't', 'uma_funcao', 'variavel1', 'variavel2', 'verifica_par']\n",
            "['In', 'Out', 'Turtle', '_', '_3', '_30', '_7', '__', '___', '__builtin__', '__builtins__', '__doc__', '__loader__', '__name__', '__package__', '__spec__', '_dh', '_exit_code', '_i', '_i1', '_i10', '_i11', '_i12', '_i13', '_i14', '_i15', '_i16', '_i17', '_i18', '_i19', '_i2', '_i20', '_i21', '_i22', '_i23', '_i24', '_i25', '_i26', '_i27', '_i28', '_i29', '_i3', '_i30', '_i31', '_i32', '_i33', '_i34', '_i35', '_i36', '_i37', '_i38', '_i39', '_i4', '_i40', '_i41', '_i42', '_i5', '_i6', '_i7', '_i8', '_i9', '_ih', '_ii', '_iii', '_oh', '_sh', 'aluno', 'alunos', 'bom_dia', 'exit', 'fibonatti', 'funcao_imprime_nome', 'get_ipython', 'idade_1', 'julia', 'main', 'mariana', 'matematica', 'media', 'plataforma', 'platform', 'quit', 'sistema_operacional', 'sys', 't', 'uma_funcao', 'variavel1', 'variavel2', 'verifica_par']\n"
          ],
          "name": "stdout"
        }
      ]
    },
    {
      "cell_type": "markdown",
      "metadata": {
        "id": "CJ-fOxASLHtY",
        "colab_type": "text"
      },
      "source": [
        "* Como **INSTALAR MÓDULOS** no Google COLAB\n"
      ]
    },
    {
      "cell_type": "code",
      "metadata": {
        "id": "EcB3L2-IKoNh",
        "colab_type": "code",
        "colab": {
          "base_uri": "https://localhost:8080/",
          "height": 0
        },
        "outputId": "596825b4-bd47-4fd4-b3a7-edf29758f30b"
      },
      "source": [
        "!pip3 install ColabTurtle"
      ],
      "execution_count": 43,
      "outputs": [
        {
          "output_type": "stream",
          "text": [
            "Requirement already satisfied: ColabTurtle in /usr/local/lib/python3.6/dist-packages (2.0.0)\n"
          ],
          "name": "stdout"
        }
      ]
    },
    {
      "cell_type": "code",
      "metadata": {
        "id": "sJvgn963KoRX",
        "colab_type": "code",
        "colab": {}
      },
      "source": [
        "from ColabTurtle import Turtle"
      ],
      "execution_count": 44,
      "outputs": []
    },
    {
      "cell_type": "code",
      "metadata": {
        "id": "56WjNZd4LhYW",
        "colab_type": "code",
        "colab": {
          "base_uri": "https://localhost:8080/",
          "height": 0
        },
        "outputId": "d198be15-09a9-4144-bece-0464ae015c9e"
      },
      "source": [
        "t=Turtle\n",
        "t.initializeTurtle()\n",
        "t.forward(50)\n",
        "t.left(80)\n",
        "t.right(100)\n"
      ],
      "execution_count": 45,
      "outputs": [
        {
          "output_type": "display_data",
          "data": {
            "text/html": [
              "\n",
              "      <svg width=\"800\" height=\"500\">\n",
              "        <rect width=\"100%\" height=\"100%\" fill=\"black\"/>\n",
              "        <line x1=\"400\" y1=\"250\" x2=\"400.0\" y2=\"200.0\" stroke-linecap=\"round\" style=\"stroke:white;stroke-width:4\"/>\n",
              "        \n",
              "      <g visibility=visible transform=\"rotate(200,400.0,200.0) translate(400.0, 200.0)\">\n",
              "        <circle stroke=\"white\" stroke-width=\"3\" fill=\"transparent\" r=\"12\" cx=\"0\" cy=\"0\"/>\n",
              "        <polygon points=\"0,19 3,16 -3,16\" style=\"fill:white;stroke:white;stroke-width:2\"/>\n",
              "      </g>\n",
              "    \n",
              "      </svg>\n",
              "    "
            ],
            "text/plain": [
              "<IPython.core.display.HTML object>"
            ]
          },
          "metadata": {
            "tags": []
          }
        }
      ]
    },
    {
      "cell_type": "markdown",
      "metadata": {
        "id": "5aBeCI8BME4B",
        "colab_type": "text"
      },
      "source": [
        "## Pacote\n",
        "* import pacote.modulo1, pacote.modulo2\n",
        "* import pacote.*\n",
        "\n"
      ]
    },
    {
      "cell_type": "markdown",
      "metadata": {
        "id": "Y3diGlPZMJEg",
        "colab_type": "text"
      },
      "source": [
        "## Classes\n",
        "* Construtores: Servem para setar atributos de inicialização\n",
        "  * def \\_\\__init\\_\\__()\n"
      ]
    },
    {
      "cell_type": "code",
      "metadata": {
        "id": "LS6TTeC8L50G",
        "colab_type": "code",
        "colab": {}
      },
      "source": [
        "class aluno:\n",
        "  def __init__(self, nome, codigo):\n",
        "    self.nome = nome\n",
        "    self.codigo = codigo\n",
        "  def get_nome(self):     return self.nome\n",
        "  def get_codigo(self): return self.codigo\n",
        "\n",
        "  def set_nome(self,nome): self.nome = nome\n",
        "  def set_codigo(self,codigo): self.codigo = codigo "
      ],
      "execution_count": 46,
      "outputs": []
    },
    {
      "cell_type": "code",
      "metadata": {
        "id": "5BH-KzY_TLyv",
        "colab_type": "code",
        "colab": {
          "base_uri": "https://localhost:8080/",
          "height": 68
        },
        "outputId": "4d2d2a12-846b-4de8-8e32-14eb017e29ec"
      },
      "source": [
        "julia = aluno(\"Julia\", 200)\n",
        "print(julia.get_nome())\n",
        "print(julia.get_codigo())\n",
        "\n",
        "julia.set_nome(\"Júlia\")\n",
        "print(julia.get_nome())"
      ],
      "execution_count": 47,
      "outputs": [
        {
          "output_type": "stream",
          "text": [
            "Julia\n",
            "200\n",
            "Júlia\n"
          ],
          "name": "stdout"
        }
      ]
    },
    {
      "cell_type": "markdown",
      "metadata": {
        "id": "wi-TbSN7Vvif",
        "colab_type": "text"
      },
      "source": [
        "* Quando faço objeto_novo = objeto_velho, o que o Python faz é criar uma referência (só tenho 1 objeto em memória)"
      ]
    },
    {
      "cell_type": "code",
      "metadata": {
        "id": "xVK5HgmCV6Jf",
        "colab_type": "code",
        "colab": {
          "base_uri": "https://localhost:8080/",
          "height": 68
        },
        "outputId": "580c1051-dc71-4883-8f9c-29e5ce048eca"
      },
      "source": [
        "mariana = julia\n",
        "print(id(mariana))\n",
        "print(id(julia))\n",
        "\n",
        "mariana.set_nome(\"Mariana\")  #Acabo mudando o nome do único obj aluno que tenho\n",
        "print(julia.get_nome())"
      ],
      "execution_count": 48,
      "outputs": [
        {
          "output_type": "stream",
          "text": [
            "140401478339944\n",
            "140401478339944\n",
            "Mariana\n"
          ],
          "name": "stdout"
        }
      ]
    },
    {
      "cell_type": "markdown",
      "metadata": {
        "id": "yRB45622WgSd",
        "colab_type": "text"
      },
      "source": [
        "* Classes Imutáveis\n",
        "  * int, float, string"
      ]
    },
    {
      "cell_type": "code",
      "metadata": {
        "id": "rVfjg9kVWJ1R",
        "colab_type": "code",
        "colab": {
          "base_uri": "https://localhost:8080/",
          "height": 51
        },
        "outputId": "f03dcbfa-de0e-480c-c2bc-83a8f7349f2a"
      },
      "source": [
        " idade_1= 12\n",
        " print(id(idade_1))\n",
        " idade_1 = 20            #Perceba que ao mudar o valor, o que ocorre é a criação de um novo objeto\n",
        " print(id(idade_1))"
      ],
      "execution_count": 49,
      "outputs": [
        {
          "output_type": "stream",
          "text": [
            "10914848\n",
            "10915104\n"
          ],
          "name": "stdout"
        }
      ]
    }
  ]
}
