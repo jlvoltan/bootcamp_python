{
  "nbformat": 4,
  "nbformat_minor": 0,
  "metadata": {
    "colab": {
      "name": "m1_cap2_3_boot_python.ipynb",
      "provenance": [],
      "collapsed_sections": [
        "-zBuaUb_RLMe"
      ],
      "authorship_tag": "ABX9TyPX3MthH+uatFcsMqnrkhvJ",
      "include_colab_link": true
    },
    "kernelspec": {
      "name": "python3",
      "display_name": "Python 3"
    }
  },
  "cells": [
    {
      "cell_type": "markdown",
      "metadata": {
        "id": "view-in-github",
        "colab_type": "text"
      },
      "source": [
        "<a href=\"https://colab.research.google.com/github/jlvoltan/bootcamp_python/blob/master/m1_cap2_3_boot_python.ipynb\" target=\"_parent\"><img src=\"https://colab.research.google.com/assets/colab-badge.svg\" alt=\"Open In Colab\"/></a>"
      ]
    },
    {
      "cell_type": "markdown",
      "metadata": {
        "id": "n5WwD6RjqpY6",
        "colab_type": "text"
      },
      "source": [
        "# **Módulo 1 - Cap 2 e 3 - Bootcamp PYTHON**\n",
        "*Atualizado em 23 JUL 2020*"
      ]
    },
    {
      "cell_type": "markdown",
      "metadata": {
        "id": "U7mCwC5PravK",
        "colab_type": "text"
      },
      "source": [
        "## **Operadores condicionais:**\n",
        "\n",
        "* São usados quando queremos verificar condição lógica, por exemplo 5>2 ou 2==2 ou 5 !=2\n",
        "\n",
        ">  * <   >   <=   >=  ==  !=\n",
        "\n"
      ]
    },
    {
      "cell_type": "markdown",
      "metadata": {
        "id": "-zBuaUb_RLMe",
        "colab_type": "text"
      },
      "source": [
        "## **Identificadores:**\n",
        "* is  - not is"
      ]
    },
    {
      "cell_type": "code",
      "metadata": {
        "id": "7V6ae5nCRUr7",
        "colab_type": "code",
        "colab": {
          "base_uri": "https://localhost:8080/",
          "height": 0
        },
        "outputId": "6237469e-3f62-420a-92fb-732bb9a8ca6e"
      },
      "source": [
        "print(2 is 2)"
      ],
      "execution_count": 10,
      "outputs": [
        {
          "output_type": "stream",
          "text": [
            "True\n"
          ],
          "name": "stdout"
        }
      ]
    },
    {
      "cell_type": "code",
      "metadata": {
        "id": "rANClUBoRfdb",
        "colab_type": "code",
        "colab": {
          "base_uri": "https://localhost:8080/",
          "height": 0
        },
        "outputId": "864d2ca0-4d31-4d70-e9ca-c26c7f8a7ed5"
      },
      "source": [
        "print(type(2) is float)"
      ],
      "execution_count": 11,
      "outputs": [
        {
          "output_type": "stream",
          "text": [
            "False\n"
          ],
          "name": "stdout"
        }
      ]
    },
    {
      "cell_type": "markdown",
      "metadata": {
        "id": "56Y5ks-oq0mT",
        "colab_type": "text"
      },
      "source": [
        "## **Condicional IF**"
      ]
    },
    {
      "cell_type": "code",
      "metadata": {
        "id": "1qa2WAILqo3_",
        "colab_type": "code",
        "colab": {
          "base_uri": "https://localhost:8080/",
          "height": 51
        },
        "outputId": "4aff380d-e624-43e2-e3d3-79853727493f"
      },
      "source": [
        "CONDICAO = \"condicao2\"\n",
        "if \"condicao\" == CONDICAO:\n",
        "  print(\"Como a condicao foi verdadeira, executo isso\")\n",
        "else:\n",
        "  print(\"Como a condicao NÃO foi verdadeira, executo isso\")\n",
        "print(\"Vida que segue\")"
      ],
      "execution_count": 12,
      "outputs": [
        {
          "output_type": "stream",
          "text": [
            "Como a condicao NÃO foi verdadeira, executo isso\n",
            "Vida que segue\n"
          ],
          "name": "stdout"
        }
      ]
    },
    {
      "cell_type": "markdown",
      "metadata": {
        "id": "wGk4H2kWNJed",
        "colab_type": "text"
      },
      "source": [
        "### IF Aninhado\n",
        "\n",
        "\n",
        "> * If dentro de If\n",
        "\n",
        "\n",
        "> * Else + If = Elif\n",
        "\n",
        "\n",
        "\n"
      ]
    },
    {
      "cell_type": "code",
      "metadata": {
        "id": "qgD37q8SNnbH",
        "colab_type": "code",
        "colab": {
          "base_uri": "https://localhost:8080/",
          "height": 34
        },
        "outputId": "295ec4ba-3fab-4f1e-aaba-15b9bf6c2889"
      },
      "source": [
        "numero = 0\n",
        "if(numero > 10):\n",
        "  print(\"Seu numero é maior que 10\")\n",
        "  if(numero > 14):\n",
        "    print(\"Seu numero é maior que 14\")\n",
        "  else:\n",
        "    print(\"Seu numero é menor ou igual a 14\")\n",
        "elif(numero >0 ):\n",
        "  print(\"Seu numero é menor ou igual a 10, mas é positivo\")\n",
        "else:\n",
        "    print(\"Seu numero é negativo ou nulo\")"
      ],
      "execution_count": 13,
      "outputs": [
        {
          "output_type": "stream",
          "text": [
            "Seu numero é negativo ou nulo\n"
          ],
          "name": "stdout"
        }
      ]
    },
    {
      "cell_type": "markdown",
      "metadata": {
        "id": "lFotcfebjWXS",
        "colab_type": "text"
      },
      "source": [
        "* **Atribuição Condicional** :Se uma condição for verdade atribui-se a variável o 1º valor, senão o 2º. É o que em C++ chamamos de operador ternário\n",
        " \n",
        " * *variável1 = valor1 if(condição1) else valor2*\n",
        "\n"
      ]
    },
    {
      "cell_type": "code",
      "metadata": {
        "id": "lXLYLX36j32Q",
        "colab_type": "code",
        "colab": {
          "base_uri": "https://localhost:8080/",
          "height": 34
        },
        "outputId": "82df636e-1cc6-4854-a87a-7514b17a2b99"
      },
      "source": [
        "variavel1 = 20 if (2>10) else 5\n",
        "print(variavel1)"
      ],
      "execution_count": 14,
      "outputs": [
        {
          "output_type": "stream",
          "text": [
            "5\n"
          ],
          "name": "stdout"
        }
      ]
    },
    {
      "cell_type": "markdown",
      "metadata": {
        "id": "L39kayYlmJMk",
        "colab_type": "text"
      },
      "source": [
        "## **Exceções**\n"
      ]
    },
    {
      "cell_type": "markdown",
      "metadata": {
        "id": "m5xBbxKtmSCd",
        "colab_type": "text"
      },
      "source": [
        "* Exceção é todo desvio de uma regra  *Toda regra tem exceção*\n",
        "* É diferente do erro de sintaxe.\n",
        "* A Exceção auxilia a identificar o que gerou o erro.\n",
        "* Cada erro gera um tipo específico. A ideia do **try-except** é capturar esse erro, identificando o tipo para dizer qual ação deve ser tomada. Depois disso, posso continuar com a execução ou terminar (exit()).\n",
        "* Exemplo da divisão por zero"
      ]
    },
    {
      "cell_type": "code",
      "metadata": {
        "id": "_Q7zwqszmRKc",
        "colab_type": "code",
        "colab": {
          "base_uri": "https://localhost:8080/",
          "height": 198
        },
        "outputId": "1db7b449-edce-4ecb-f674-be7261e697c1"
      },
      "source": [
        "x = 10000\n",
        "if x > 110:\n",
        "  raise Exception(\"Sua idade não pode ser superior a 110 anos.\")"
      ],
      "execution_count": 15,
      "outputs": [
        {
          "output_type": "error",
          "ename": "Exception",
          "evalue": "ignored",
          "traceback": [
            "\u001b[0;31m---------------------------------------------------------------------------\u001b[0m",
            "\u001b[0;31mException\u001b[0m                                 Traceback (most recent call last)",
            "\u001b[0;32m<ipython-input-15-a4920bc87ac2>\u001b[0m in \u001b[0;36m<module>\u001b[0;34m()\u001b[0m\n\u001b[1;32m      1\u001b[0m \u001b[0mx\u001b[0m \u001b[0;34m=\u001b[0m \u001b[0;36m10000\u001b[0m\u001b[0;34m\u001b[0m\u001b[0;34m\u001b[0m\u001b[0m\n\u001b[1;32m      2\u001b[0m \u001b[0;32mif\u001b[0m \u001b[0mx\u001b[0m \u001b[0;34m>\u001b[0m \u001b[0;36m110\u001b[0m\u001b[0;34m:\u001b[0m\u001b[0;34m\u001b[0m\u001b[0;34m\u001b[0m\u001b[0m\n\u001b[0;32m----> 3\u001b[0;31m   \u001b[0;32mraise\u001b[0m \u001b[0mException\u001b[0m\u001b[0;34m(\u001b[0m\u001b[0;34m\"Sua idade não pode ser superior a 110 anos.\"\u001b[0m\u001b[0;34m)\u001b[0m\u001b[0;34m\u001b[0m\u001b[0;34m\u001b[0m\u001b[0m\n\u001b[0m",
            "\u001b[0;31mException\u001b[0m: Sua idade não pode ser superior a 110 anos."
          ]
        }
      ]
    },
    {
      "cell_type": "code",
      "metadata": {
        "id": "01_LNFi2nRNL",
        "colab_type": "code",
        "colab": {
          "base_uri": "https://localhost:8080/",
          "height": 51
        },
        "outputId": "7ed79ae7-0ce6-4051-de81-ed9773444d1d"
      },
      "source": [
        "\n",
        "try:\n",
        "  idade = int(input(\"Digite a sua idade: \"))\n",
        "except ValueError:  #Essa exceção captura erros do tipo ValueError\n",
        "  print(\"A idade deve ser um número inteiro.\")  \n",
        "  exit(0)   #para não prossegir com a execução do código\n",
        "except: #erro genérico\n",
        "  print(\"Ocorreu um erro. Programa será finalizado.\") \n",
        "  exit(0)\n",
        "else:\n",
        " print(\"Você possui \" + str(idade) + \" anos.\")"
      ],
      "execution_count": 16,
      "outputs": [
        {
          "output_type": "stream",
          "text": [
            "Digite a sua idade: 20\n",
            "Você possui 20 anos.\n"
          ],
          "name": "stdout"
        }
      ]
    },
    {
      "cell_type": "markdown",
      "metadata": {
        "id": "nZIVPqvPnQ8_",
        "colab_type": "text"
      },
      "source": [
        "## **Laços de repetição**"
      ]
    },
    {
      "cell_type": "markdown",
      "metadata": {
        "id": "DbkA0Drtzg5M",
        "colab_type": "text"
      },
      "source": [
        "### **Função range()**\n",
        "* range(a, b, c) - inicio - parada - passo\n",
        "* range(a,b) - inicio e parada   -           passo = 1      \n",
        "* range(a) - parada        -     inicio = 0, passo = 1"
      ]
    },
    {
      "cell_type": "code",
      "metadata": {
        "id": "g9_SCHccMqrj",
        "colab_type": "code",
        "colab": {
          "base_uri": "https://localhost:8080/",
          "height": 102
        },
        "outputId": "57baf660-e5e5-4943-fed7-59d576289e23"
      },
      "source": [
        "for i in range(5):\n",
        "  print(i)"
      ],
      "execution_count": 17,
      "outputs": [
        {
          "output_type": "stream",
          "text": [
            "0\n",
            "1\n",
            "2\n",
            "3\n",
            "4\n"
          ],
          "name": "stdout"
        }
      ]
    },
    {
      "cell_type": "code",
      "metadata": {
        "id": "_EOB3RwKOlB3",
        "colab_type": "code",
        "colab": {
          "base_uri": "https://localhost:8080/",
          "height": 68
        },
        "outputId": "58a8e830-350e-4acf-e67b-736387f5106a"
      },
      "source": [
        "for i in range(2,5):\n",
        "  print(i)"
      ],
      "execution_count": 18,
      "outputs": [
        {
          "output_type": "stream",
          "text": [
            "2\n",
            "3\n",
            "4\n"
          ],
          "name": "stdout"
        }
      ]
    },
    {
      "cell_type": "code",
      "metadata": {
        "id": "x9GHf0mkOudk",
        "colab_type": "code",
        "colab": {
          "base_uri": "https://localhost:8080/",
          "height": 85
        },
        "outputId": "9b1d4a1f-6195-49f4-caff-c123aca76771"
      },
      "source": [
        "for i in range(10,2,-2):\n",
        "    print(i)"
      ],
      "execution_count": 19,
      "outputs": [
        {
          "output_type": "stream",
          "text": [
            "10\n",
            "8\n",
            "6\n",
            "4\n"
          ],
          "name": "stdout"
        }
      ]
    },
    {
      "cell_type": "code",
      "metadata": {
        "id": "MO-rO5cSO3hF",
        "colab_type": "code",
        "colab": {
          "base_uri": "https://localhost:8080/",
          "height": 85
        },
        "outputId": "8ca17134-a936-41b8-d18e-188cec77ca3b"
      },
      "source": [
        "nome = \"JOSE\"\n",
        "for n in range(len(nome)):\n",
        "  print(nome[n])"
      ],
      "execution_count": 20,
      "outputs": [
        {
          "output_type": "stream",
          "text": [
            "J\n",
            "O\n",
            "S\n",
            "E\n"
          ],
          "name": "stdout"
        }
      ]
    },
    {
      "cell_type": "markdown",
      "metadata": {
        "id": "PWPnjMDNPpIE",
        "colab_type": "text"
      },
      "source": [
        "### **Operador in e not in**\n",
        "* Passo uma lista para verificação"
      ]
    },
    {
      "cell_type": "code",
      "metadata": {
        "id": "RKFnYhhdy7Yo",
        "colab_type": "code",
        "colab": {
          "base_uri": "https://localhost:8080/",
          "height": 51
        },
        "outputId": "df639de0-546d-4edf-a9a3-a502f946808e"
      },
      "source": [
        "lista = ['Jose','Luiz','Ana']\n",
        "seu_nome = input(\"Digite seu nome: \")\n",
        "if seu_nome not in lista:\n",
        "  print(\"Sr. {}, Você não está na lista de convidados.\" .format(seu_nome))\n",
        "else: print(\"Ok, pode entrar\")"
      ],
      "execution_count": 23,
      "outputs": [
        {
          "output_type": "stream",
          "text": [
            "Digite seu nome: Jose\n",
            "Ok, pode entrar\n"
          ],
          "name": "stdout"
        }
      ]
    },
    {
      "cell_type": "markdown",
      "metadata": {
        "id": "TLdlcDIuhtka",
        "colab_type": "text"
      },
      "source": [
        "### **Break e Continue**\n",
        "* Break: interrompe o laço, mas não o programa.\n",
        "* Continue: ele deixa de executar os comandos seguintes do while, e recomeça a execução."
      ]
    },
    {
      "cell_type": "code",
      "metadata": {
        "id": "j4MTjCdnh9KN",
        "colab_type": "code",
        "colab": {
          "base_uri": "https://localhost:8080/",
          "height": 119
        },
        "outputId": "ebc9f1e0-c20c-47d4-b1e3-2863797ea568"
      },
      "source": [
        "i= 0\n",
        "while i<10:\n",
        "  print(i)\n",
        "  if(i == 3):\n",
        "    print(\"Saindo! \")\n",
        "    break\n",
        "  i+=1\n",
        "print(\"Fora do While\")"
      ],
      "execution_count": 24,
      "outputs": [
        {
          "output_type": "stream",
          "text": [
            "0\n",
            "1\n",
            "2\n",
            "3\n",
            "Saindo! \n",
            "Fora do While\n"
          ],
          "name": "stdout"
        }
      ]
    },
    {
      "cell_type": "code",
      "metadata": {
        "colab_type": "code",
        "id": "ubZfUd7ljE7E",
        "colab": {
          "base_uri": "https://localhost:8080/",
          "height": 204
        },
        "outputId": "b66780e4-02b3-43c1-968e-029fc1658c87"
      },
      "source": [
        "i= 0\n",
        "while i<10:\n",
        "  i+=1\n",
        "  if(i == 3):\n",
        "    print(\"Saindo! \")\n",
        "    continue\n",
        "    print(\"NUnca serei usado\")\n",
        "  print(\"Me imprime\" + str(i))\n",
        "print(\"Fora do While\")"
      ],
      "execution_count": 25,
      "outputs": [
        {
          "output_type": "stream",
          "text": [
            "Me imprime1\n",
            "Me imprime2\n",
            "Saindo! \n",
            "Me imprime4\n",
            "Me imprime5\n",
            "Me imprime6\n",
            "Me imprime7\n",
            "Me imprime8\n",
            "Me imprime9\n",
            "Me imprime10\n",
            "Fora do While\n"
          ],
          "name": "stdout"
        }
      ]
    },
    {
      "cell_type": "markdown",
      "metadata": {
        "id": "DHqfCEauq3Bq",
        "colab_type": "text"
      },
      "source": [
        "### **FOR**\n",
        "* o elemento é iterado dentro de um conjunto.\n",
        "\n",
        ">`    for elemento in lista: faça isso`\n",
        "\n"
      ]
    },
    {
      "cell_type": "code",
      "metadata": {
        "id": "2jWtRLw-wbTP",
        "colab_type": "code",
        "colab": {
          "base_uri": "https://localhost:8080/",
          "height": 34
        },
        "outputId": "9c33ca1d-9c80-4f7f-f32c-91c2cd4cc396"
      },
      "source": [
        "nome = \"jose\"\n",
        "for elemento in nome:\n",
        "  print(elemento.upper(), end=\"\")"
      ],
      "execution_count": 26,
      "outputs": [
        {
          "output_type": "stream",
          "text": [
            "JOSE"
          ],
          "name": "stdout"
        }
      ]
    },
    {
      "cell_type": "markdown",
      "metadata": {
        "id": "ww9ykhqFXeIg",
        "colab_type": "text"
      },
      "source": [
        "### **WHILE**\n",
        "* o elemento é iterado até atingir a condição de parada."
      ]
    },
    {
      "cell_type": "code",
      "metadata": {
        "id": "uD36dPcmEIRI",
        "colab_type": "code",
        "colab": {
          "base_uri": "https://localhost:8080/",
          "height": 102
        },
        "outputId": "b8d15305-5523-4ac9-a11f-3440409b2aaa"
      },
      "source": [
        "i = 0\n",
        "while i <5:\n",
        "  print(\"Contagem  \" + str(i))\n",
        "  i +=1"
      ],
      "execution_count": 27,
      "outputs": [
        {
          "output_type": "stream",
          "text": [
            "Contagem  0\n",
            "Contagem  1\n",
            "Contagem  2\n",
            "Contagem  3\n",
            "Contagem  4\n"
          ],
          "name": "stdout"
        }
      ]
    },
    {
      "cell_type": "markdown",
      "metadata": {
        "id": "J27ey4_4X_LY",
        "colab_type": "text"
      },
      "source": [
        "## **Leitura de Arquivos**\n"
      ]
    },
    {
      "cell_type": "markdown",
      "metadata": {
        "id": "ux9_qftObxdH",
        "colab_type": "text"
      },
      "source": [
        "**1º Carregar o arquivo no Google Colab**\n",
        "* Adicionar diretamente pela barra lateral esquerda, ou\n",
        "* Usando biblioteca google.colab"
      ]
    },
    {
      "cell_type": "code",
      "metadata": {
        "id": "58lLw50-YJ5t",
        "colab_type": "code",
        "colab": {}
      },
      "source": [
        "from google.colab import files\n",
        "arquivo = files.upload()"
      ],
      "execution_count": null,
      "outputs": []
    },
    {
      "cell_type": "markdown",
      "metadata": {
        "id": "gfT1D3neZZkm",
        "colab_type": "text"
      },
      "source": [
        "**2º Ler propriamente o arquivo**\n",
        "* Função open()"
      ]
    },
    {
      "cell_type": "code",
      "metadata": {
        "id": "8sskt5e5YSbG",
        "colab_type": "code",
        "colab": {}
      },
      "source": [
        "nome_arquivo = \"teste1.txt\"\n",
        "arquivo = open(nome_arquivo,\"r\")\n",
        "\n",
        "for linhas in arquivo:  #Ele percorre linha a linha do arquivo\n",
        "  print(linhas)\n",
        "arquivo.close()         #Lembrar de sempre fechar o arquivo"
      ],
      "execution_count": null,
      "outputs": []
    },
    {
      "cell_type": "markdown",
      "metadata": {
        "id": "faQt8rspgUIH",
        "colab_type": "text"
      },
      "source": [
        "* Observe que em Python retorna-se string vazia ao invés do EOF em si.\n",
        "*Perceba que para não pular linha duas vezes devo usar o .rstrip()"
      ]
    },
    {
      "cell_type": "code",
      "metadata": {
        "id": "O3wmP2nRdfzg",
        "colab_type": "code",
        "colab": {}
      },
      "source": [
        "#Função readline()\n",
        "nome_arquivo = \"teste1.txt\"\n",
        "arquivo = open(nome_arquivo,\"r\")\n",
        "\n",
        "linha = arquivo.readline()\n",
        "while linha != '':\n",
        "  print(linha.rstrip())\n",
        "  linha = arquivo.readline()   #Ele percorre linha a linha do arquivo\n",
        "  \n",
        "arquivo.close()                #Lembrar de sempre fechar o arquivo"
      ],
      "execution_count": null,
      "outputs": []
    },
    {
      "cell_type": "markdown",
      "metadata": {
        "colab_type": "text",
        "id": "uRAqDYpebnvI"
      },
      "source": [
        "## **Escrita de Arquivos**"
      ]
    },
    {
      "cell_type": "code",
      "metadata": {
        "id": "2YGupNlNb8G8",
        "colab_type": "code",
        "colab": {}
      },
      "source": [
        "nome_arquivo = \"teste1.txt\"\n",
        "arquivo = open(nome_arquivo,\"w\")\n",
        "arquivo.write(\"Teste da linha 1; \\n \")\n",
        "arquivo.write(\"Teste da linha 2; \\n \")\n",
        "arquivo.close()"
      ],
      "execution_count": null,
      "outputs": []
    }
  ]
}
