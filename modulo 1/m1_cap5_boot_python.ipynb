{
  "nbformat": 4,
  "nbformat_minor": 0,
  "metadata": {
    "colab": {
      "name": "m1_cap5_boot_python.ipynb",
      "provenance": [],
      "collapsed_sections": [],
      "toc_visible": true,
      "authorship_tag": "ABX9TyMYOf9AqN2awj72Hqt4an/o",
      "include_colab_link": true
    },
    "kernelspec": {
      "name": "python3",
      "display_name": "Python 3"
    }
  },
  "cells": [
    {
      "cell_type": "markdown",
      "metadata": {
        "id": "view-in-github",
        "colab_type": "text"
      },
      "source": [
        "<a href=\"https://colab.research.google.com/github/jlvoltan/bootcamp_python/blob/master/m1_cap5_boot_python.ipynb\" target=\"_parent\"><img src=\"https://colab.research.google.com/assets/colab-badge.svg\" alt=\"Open In Colab\"/></a>"
      ]
    },
    {
      "cell_type": "markdown",
      "metadata": {
        "id": "KiIHj8biZjWN",
        "colab_type": "text"
      },
      "source": [
        "# **Módulo 1 - Cap 5 - Bootcamp PYTHON**\n",
        "*Atualizado em 23 JUL 2020*"
      ]
    },
    {
      "cell_type": "markdown",
      "metadata": {
        "id": "VYgNKiyUZm06",
        "colab_type": "text"
      },
      "source": [
        "## **Arquivos XML**\n",
        "* Extensible Markup Language"
      ]
    },
    {
      "cell_type": "markdown",
      "metadata": {
        "id": "7K0wWDCPZ8Cw",
        "colab_type": "text"
      },
      "source": [
        "* É hierarquico\n",
        "* Uso de tags\n",
        "* primeira linha, indicar versão e codificação\n",
        "  * \\<?xml version=\"1.0\" encoding = \"UTF-8\" standalone = \"no\" ?>\n",
        "* entre tags, chamo de elementos\n",
        "    * \\<nome\\>elemento\\</nome\\>\n",
        "* atributo\n",
        "  * \\<nome cpf=\"atributo\"\\>\\</nome\\>\n",
        "* comentários\n",
        "  * \\<!-- comentarios -->\n",
        "\n",
        "\n"
      ]
    },
    {
      "cell_type": "markdown",
      "metadata": {
        "id": "S3HThIiWaHM5",
        "colab_type": "text"
      },
      "source": [
        "<aluno>\n",
        "</aluno>\n"
      ]
    },
    {
      "cell_type": "markdown",
      "metadata": {
        "id": "1RA5dZmEblKD",
        "colab_type": "text"
      },
      "source": [
        "### **Exemplo**  \n",
        "* Criei um arquivo chamado meu.xml com o seguinte conteudo:\n",
        "\n",
        "\\<?xml version=\"1.0\" encoding = \"UTF-8\" standalone = \"no\" ?>\n",
        "\\<data>\n",
        "\n",
        "  \\<alunos>\n",
        "\n",
        "     \\<aluno codigo=\"1020\">Joao da Silva</aluno>\n",
        "\n",
        "      \\<aluno codigo=\"1021\">Jose Luiz</aluno>\n",
        "\n",
        "       \\<aluno codigo=\"1028\">Ana Lima</aluno>\n",
        "\n",
        "    \\</alunos>\n",
        "\n",
        "\\</data>"
      ]
    },
    {
      "cell_type": "markdown",
      "metadata": {
        "id": "nYPkJ8B5dGGK",
        "colab_type": "text"
      },
      "source": [
        "### Carregando o XML"
      ]
    },
    {
      "cell_type": "code",
      "metadata": {
        "id": "_8T5k5lZZdlk",
        "colab_type": "code",
        "colab": {}
      },
      "source": [
        "from xml.dom import minidom\n",
        "nome_do_meu_arquivo = \"meu.xml\"\n",
        "documento_xml = minidom.parse(nome_do_meu_arquivo)"
      ],
      "execution_count": null,
      "outputs": []
    },
    {
      "cell_type": "code",
      "metadata": {
        "id": "YwFfcsZddh1w",
        "colab_type": "code",
        "colab": {
          "base_uri": "https://localhost:8080/",
          "height": 34
        },
        "outputId": "63a10db5-cccf-42f2-82ee-c53f33b88970"
      },
      "source": [
        "documento_xml"
      ],
      "execution_count": null,
      "outputs": [
        {
          "output_type": "execute_result",
          "data": {
            "text/plain": [
              "<xml.dom.minidom.Document at 0x7f49c23c3348>"
            ]
          },
          "metadata": {
            "tags": []
          },
          "execution_count": 35
        }
      ]
    },
    {
      "cell_type": "code",
      "metadata": {
        "id": "U90VN_xmdnL_",
        "colab_type": "code",
        "colab": {
          "base_uri": "https://localhost:8080/",
          "height": 51
        },
        "outputId": "861e590b-319e-40cf-c798-fca3cfa65e84"
      },
      "source": [
        "#Nó raiz\n",
        "nos = documento_xml.documentElement\n",
        "print(nos.tagName)\n",
        "versao = documento_xml.version\n",
        "print(versao)"
      ],
      "execution_count": null,
      "outputs": [
        {
          "output_type": "stream",
          "text": [
            "data\n",
            "1.0\n"
          ],
          "name": "stdout"
        }
      ]
    },
    {
      "cell_type": "code",
      "metadata": {
        "id": "8SRXImYKd3sW",
        "colab_type": "code",
        "colab": {}
      },
      "source": [
        "lista_de_alunos=documento_xml.getElementsByTagName(\"aluno\")"
      ],
      "execution_count": null,
      "outputs": []
    },
    {
      "cell_type": "code",
      "metadata": {
        "id": "59imYSD5ezwv",
        "colab_type": "code",
        "colab": {
          "base_uri": "https://localhost:8080/",
          "height": 85
        },
        "outputId": "880a0472-a9bb-48ee-f8c3-cb5106ef9d3e"
      },
      "source": [
        "print(type(lista_de_alunos))\n",
        "for i in lista_de_alunos:\n",
        "  print(i)"
      ],
      "execution_count": null,
      "outputs": [
        {
          "output_type": "stream",
          "text": [
            "<class 'xml.dom.minicompat.NodeList'>\n",
            "<DOM Element: aluno at 0x7f49c23b6df0>\n",
            "<DOM Element: aluno at 0x7f49c2389048>\n",
            "<DOM Element: aluno at 0x7f49c23890e0>\n"
          ],
          "name": "stdout"
        }
      ]
    },
    {
      "cell_type": "code",
      "metadata": {
        "id": "U_00JW2NfEB1",
        "colab_type": "code",
        "colab": {
          "base_uri": "https://localhost:8080/",
          "height": 68
        },
        "outputId": "e5fadf53-c8fa-431c-80f9-6f9308a72848"
      },
      "source": [
        "for aluno in lista_de_alunos:\n",
        "  print(aluno.firstChild.data)"
      ],
      "execution_count": null,
      "outputs": [
        {
          "output_type": "stream",
          "text": [
            "Joao da Silva\n",
            "Jose Luiz\n",
            "Ana Lima\n"
          ],
          "name": "stdout"
        }
      ]
    },
    {
      "cell_type": "code",
      "metadata": {
        "colab_type": "code",
        "id": "QS8yEueigOHG",
        "colab": {
          "base_uri": "https://localhost:8080/",
          "height": 34
        },
        "outputId": "59761305-b29d-4e7f-9b0b-12d9ef4ad1c4"
      },
      "source": [
        "print(lista_de_alunos[1].attributes['codigo'].value)"
      ],
      "execution_count": null,
      "outputs": [
        {
          "output_type": "stream",
          "text": [
            "1021\n"
          ],
          "name": "stdout"
        }
      ]
    },
    {
      "cell_type": "code",
      "metadata": {
        "id": "tH1DDUWdfYgu",
        "colab_type": "code",
        "colab": {
          "base_uri": "https://localhost:8080/",
          "height": 68
        },
        "outputId": "bb981b36-d7d5-4a5d-efce-66f7b889b42f"
      },
      "source": [
        "for i in lista_de_alunos:\n",
        "  print(i.attributes['codigo'].value)"
      ],
      "execution_count": null,
      "outputs": [
        {
          "output_type": "stream",
          "text": [
            "1020\n",
            "1021\n",
            "1028\n"
          ],
          "name": "stdout"
        }
      ]
    }
  ]
}
