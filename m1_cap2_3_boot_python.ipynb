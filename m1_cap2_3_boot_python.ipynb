{
  "nbformat": 4,
  "nbformat_minor": 0,
  "metadata": {
    "colab": {
      "name": "m1_cap2_3_boot_python.ipynb",
      "provenance": [],
      "collapsed_sections": [
        "-zBuaUb_RLMe",
        "56Y5ks-oq0mT",
        "wGk4H2kWNJed",
        "L39kayYlmJMk",
        "DbkA0Drtzg5M",
        "TLdlcDIuhtka",
        "J27ey4_4X_LY",
        "uRAqDYpebnvI"
      ],
      "authorship_tag": "ABX9TyOnzHxj/Llhmd7xp+GgtoVv",
      "include_colab_link": true
    },
    "kernelspec": {
      "name": "python3",
      "display_name": "Python 3"
    }
  },
  "cells": [
    {
      "cell_type": "markdown",
      "metadata": {
        "id": "view-in-github",
        "colab_type": "text"
      },
      "source": [
        "<a href=\"https://colab.research.google.com/github/jlvoltan/bootcamp_python/blob/master/m1_cap2_3_boot_python.ipynb\" target=\"_parent\"><img src=\"https://colab.research.google.com/assets/colab-badge.svg\" alt=\"Open In Colab\"/></a>"
      ]
    },
    {
      "cell_type": "markdown",
      "metadata": {
        "id": "n5WwD6RjqpY6",
        "colab_type": "text"
      },
      "source": [
        "# **Módulo 1 - Cap 2 e 3 - Bootcamp PYTHON**\n",
        "*Atualizado em 23 JUL 2020*"
      ]
    },
    {
      "cell_type": "markdown",
      "metadata": {
        "id": "U7mCwC5PravK",
        "colab_type": "text"
      },
      "source": [
        "## **Operadores condicionais:**\n",
        "\n",
        "* São usados quando queremos verificar condição lógica, por exemplo 5>2 ou 2==2 ou 5 !=2\n",
        "\n",
        ">  * <   >   <=   >=  ==  !=\n",
        "\n"
      ]
    },
    {
      "cell_type": "markdown",
      "metadata": {
        "id": "-zBuaUb_RLMe",
        "colab_type": "text"
      },
      "source": [
        "## **Identificadores:**\n",
        "* is  - not is"
      ]
    },
    {
      "cell_type": "code",
      "metadata": {
        "id": "7V6ae5nCRUr7",
        "colab_type": "code",
        "colab": {
          "base_uri": "https://localhost:8080/",
          "height": 34
        },
        "outputId": "4616033c-33ba-4166-f029-323edb6564f9"
      },
      "source": [
        "print(2 is 2)"
      ],
      "execution_count": null,
      "outputs": [
        {
          "output_type": "stream",
          "text": [
            "True\n"
          ],
          "name": "stdout"
        }
      ]
    },
    {
      "cell_type": "code",
      "metadata": {
        "id": "rANClUBoRfdb",
        "colab_type": "code",
        "colab": {
          "base_uri": "https://localhost:8080/",
          "height": 34
        },
        "outputId": "70f885e6-5878-4c3b-cfb0-3a857a634081"
      },
      "source": [
        "print(type(2) is float)"
      ],
      "execution_count": null,
      "outputs": [
        {
          "output_type": "stream",
          "text": [
            "False\n"
          ],
          "name": "stdout"
        }
      ]
    },
    {
      "cell_type": "markdown",
      "metadata": {
        "id": "56Y5ks-oq0mT",
        "colab_type": "text"
      },
      "source": [
        "## **Condicional IF**"
      ]
    },
    {
      "cell_type": "code",
      "metadata": {
        "id": "1qa2WAILqo3_",
        "colab_type": "code",
        "colab": {
          "base_uri": "https://localhost:8080/",
          "height": 51
        },
        "outputId": "824d1068-6f30-43ef-aafc-fd9b178c1e4d"
      },
      "source": [
        "CONDICAO = \"condicao2\"\n",
        "if \"condicao\" == CONDICAO:\n",
        "  print(\"Como a condicao foi verdadeira, executo isso\")\n",
        "else:\n",
        "  print(\"Como a condicao NÃO foi verdadeira, executo isso\")\n",
        "print(\"Vida que segue\")"
      ],
      "execution_count": null,
      "outputs": [
        {
          "output_type": "stream",
          "text": [
            "Como a condicao NÃO foi verdadeira, executo isso\n",
            "Vida que segue\n"
          ],
          "name": "stdout"
        }
      ]
    },
    {
      "cell_type": "markdown",
      "metadata": {
        "id": "wGk4H2kWNJed",
        "colab_type": "text"
      },
      "source": [
        "### IF Aninhado\n",
        "\n",
        "\n",
        "> * If dentro de If\n",
        "\n",
        "\n",
        "> * Else + If = Elif\n",
        "\n",
        "\n",
        "\n"
      ]
    },
    {
      "cell_type": "code",
      "metadata": {
        "id": "qgD37q8SNnbH",
        "colab_type": "code",
        "colab": {
          "base_uri": "https://localhost:8080/",
          "height": 34
        },
        "outputId": "a42d4620-b6ea-4cb3-ac4a-2dc2c9669dfa"
      },
      "source": [
        "numero = 0\n",
        "if(numero > 10):\n",
        "  print(\"Seu numero é maior que 10\")\n",
        "  if(numero > 14):\n",
        "    print(\"Seu numero é maior que 14\")\n",
        "  else:\n",
        "    print(\"Seu numero é menor ou igual a 14\")\n",
        "elif(numero >0 ):\n",
        "  print(\"Seu numero é menor ou igual a 10, mas é positivo\")\n",
        "else:\n",
        "    print(\"Seu numero é negativo ou nulo\")"
      ],
      "execution_count": null,
      "outputs": [
        {
          "output_type": "stream",
          "text": [
            "Seu numero é negativo ou nulo\n"
          ],
          "name": "stdout"
        }
      ]
    },
    {
      "cell_type": "markdown",
      "metadata": {
        "id": "L39kayYlmJMk",
        "colab_type": "text"
      },
      "source": [
        "## **Exceções**\n"
      ]
    },
    {
      "cell_type": "markdown",
      "metadata": {
        "id": "m5xBbxKtmSCd",
        "colab_type": "text"
      },
      "source": [
        "* É diferente do erro de sintaxe.\n",
        "* A Exceção auxilia a identificar o que gerou o erro.\n",
        "* Cada erro gera um tipo específico. A ideia do **try-except** é capturar esse erro, identificando o tipo para dizer qual ação deve ser tomada. Depois disso, posso continuar com a execução ou terminar (exit()).\n",
        "* Exemplo da divisão por zero"
      ]
    },
    {
      "cell_type": "code",
      "metadata": {
        "id": "_Q7zwqszmRKc",
        "colab_type": "code",
        "colab": {}
      },
      "source": [
        "x = 10000\n",
        "if x > 110:\n",
        "  raise Exception(\"Sua idade não pode ser superior a 110 anos.\")"
      ],
      "execution_count": null,
      "outputs": []
    },
    {
      "cell_type": "code",
      "metadata": {
        "id": "01_LNFi2nRNL",
        "colab_type": "code",
        "colab": {}
      },
      "source": [
        "\n",
        "try:\n",
        "  idade = int(input(\"Digite a sua idade: \"))\n",
        "except ValueError:  #Essa exceção captura erros do tipo ValueError\n",
        "  print(\"A idade deve ser um número inteiro.\")  \n",
        "  exit(0)   #para não prossegir com a execução do código\n",
        "except: #erro genérico\n",
        "  print(\"Ocorreu um erro. Programa será finalizado.\") \n",
        "  exit(0)\n",
        "print(\"Você possui \" + str(idade) + \" anos.\")"
      ],
      "execution_count": null,
      "outputs": []
    },
    {
      "cell_type": "markdown",
      "metadata": {
        "id": "nZIVPqvPnQ8_",
        "colab_type": "text"
      },
      "source": [
        "## **Laços de repetição**"
      ]
    },
    {
      "cell_type": "markdown",
      "metadata": {
        "id": "DbkA0Drtzg5M",
        "colab_type": "text"
      },
      "source": [
        "### **Função range()**\n",
        "* range(a, b, c) - inicio - parada - passo\n",
        "* range(a,b) - inicio e parada   -           passo = 1      \n",
        "* range(a) - parada        -     inicio = 0, passo = 1"
      ]
    },
    {
      "cell_type": "code",
      "metadata": {
        "id": "g9_SCHccMqrj",
        "colab_type": "code",
        "colab": {}
      },
      "source": [
        "for i in range(5):\n",
        "  print(i)"
      ],
      "execution_count": null,
      "outputs": []
    },
    {
      "cell_type": "code",
      "metadata": {
        "id": "_EOB3RwKOlB3",
        "colab_type": "code",
        "colab": {}
      },
      "source": [
        "for i in range(2,5):\n",
        "  print(i)"
      ],
      "execution_count": null,
      "outputs": []
    },
    {
      "cell_type": "code",
      "metadata": {
        "id": "x9GHf0mkOudk",
        "colab_type": "code",
        "colab": {}
      },
      "source": [
        "for i in range(10,2,-2):\n",
        "    print(i)"
      ],
      "execution_count": null,
      "outputs": []
    },
    {
      "cell_type": "code",
      "metadata": {
        "id": "MO-rO5cSO3hF",
        "colab_type": "code",
        "colab": {}
      },
      "source": [
        "nome = \"JOSE\"\n",
        "for n in range(len(nome)):\n",
        "  print(nome[n])"
      ],
      "execution_count": null,
      "outputs": []
    },
    {
      "cell_type": "markdown",
      "metadata": {
        "id": "PWPnjMDNPpIE",
        "colab_type": "text"
      },
      "source": [
        "### **Operador in e not in**\n",
        "* Passo uma lista para verificação"
      ]
    },
    {
      "cell_type": "code",
      "metadata": {
        "id": "RKFnYhhdy7Yo",
        "colab_type": "code",
        "colab": {}
      },
      "source": [
        "lista = ['Jose','Luiz','Ana']\n",
        "seu_nome = input(\"Digite seu nome: \")\n",
        "if i not in lista:\n",
        "  print(\"Sr. {}, Você não está na lista de convidados.\" .format(seu_nome))"
      ],
      "execution_count": null,
      "outputs": []
    },
    {
      "cell_type": "markdown",
      "metadata": {
        "id": "TLdlcDIuhtka",
        "colab_type": "text"
      },
      "source": [
        "### **Break e Continue**\n",
        "* Break: interrompe o laço, mas não o programa.\n",
        "* Continue: ele deixa de executar os comandos seguintes do while, e recomeça a execução."
      ]
    },
    {
      "cell_type": "code",
      "metadata": {
        "id": "j4MTjCdnh9KN",
        "colab_type": "code",
        "colab": {
          "base_uri": "https://localhost:8080/",
          "height": 119
        },
        "outputId": "fd541b49-a1fe-4302-eb6c-cf315c148311"
      },
      "source": [
        "i= 0\n",
        "while i<10:\n",
        "  print(i)\n",
        "  if(i == 3):\n",
        "    print(\"Saindo! \")\n",
        "    break\n",
        "  i+=1\n",
        "print(\"Fora do While\")"
      ],
      "execution_count": null,
      "outputs": [
        {
          "output_type": "stream",
          "text": [
            "0\n",
            "1\n",
            "2\n",
            "3\n",
            "Saindo! \n",
            "Fora do While\n"
          ],
          "name": "stdout"
        }
      ]
    },
    {
      "cell_type": "code",
      "metadata": {
        "colab_type": "code",
        "id": "ubZfUd7ljE7E",
        "colab": {
          "base_uri": "https://localhost:8080/",
          "height": 204
        },
        "outputId": "96cd26fd-9557-4afb-dfe0-84ac6ae0a1f8"
      },
      "source": [
        "i= 0\n",
        "while i<10:\n",
        "  i+=1\n",
        "  if(i == 3):\n",
        "    print(\"Saindo! \")\n",
        "    continue\n",
        "    print(\"NUnca serei usado\")\n",
        "  print(\"Me imprime\" + str(i))\n",
        "print(\"Fora do While\")"
      ],
      "execution_count": null,
      "outputs": [
        {
          "output_type": "stream",
          "text": [
            "Me imprime1\n",
            "Me imprime2\n",
            "Saindo! \n",
            "Me imprime4\n",
            "Me imprime5\n",
            "Me imprime6\n",
            "Me imprime7\n",
            "Me imprime8\n",
            "Me imprime9\n",
            "Me imprime10\n",
            "Fora do While\n"
          ],
          "name": "stdout"
        }
      ]
    },
    {
      "cell_type": "markdown",
      "metadata": {
        "id": "DHqfCEauq3Bq",
        "colab_type": "text"
      },
      "source": [
        "### **FOR**\n",
        "* o elemento é iterado dentro de um conjunto.\n",
        "\n",
        ">`    for elemento in lista: faça isso`\n",
        "\n"
      ]
    },
    {
      "cell_type": "code",
      "metadata": {
        "id": "2jWtRLw-wbTP",
        "colab_type": "code",
        "colab": {
          "base_uri": "https://localhost:8080/",
          "height": 34
        },
        "outputId": "6a2a9a05-649a-4af3-9831-7c545b4b3cb4"
      },
      "source": [
        "nome = \"jose\"\n",
        "for elemento in nome:\n",
        "  print(elemento.upper(), end=\"\")"
      ],
      "execution_count": null,
      "outputs": [
        {
          "output_type": "stream",
          "text": [
            "JOSE"
          ],
          "name": "stdout"
        }
      ]
    },
    {
      "cell_type": "markdown",
      "metadata": {
        "id": "ww9ykhqFXeIg",
        "colab_type": "text"
      },
      "source": [
        "### **WHILE**\n",
        "* o elemento é iterado até atingir a condição de parada."
      ]
    },
    {
      "cell_type": "code",
      "metadata": {
        "id": "uD36dPcmEIRI",
        "colab_type": "code",
        "colab": {
          "base_uri": "https://localhost:8080/",
          "height": 102
        },
        "outputId": "03449302-5586-4166-a367-20c6323856d0"
      },
      "source": [
        "i = 0\n",
        "while i <5:\n",
        "  print(\"Contagem  \" + str(i))\n",
        "  i +=1"
      ],
      "execution_count": null,
      "outputs": [
        {
          "output_type": "stream",
          "text": [
            "Contagem  0\n",
            "Contagem  1\n",
            "Contagem  2\n",
            "Contagem  3\n",
            "Contagem  4\n"
          ],
          "name": "stdout"
        }
      ]
    },
    {
      "cell_type": "markdown",
      "metadata": {
        "id": "J27ey4_4X_LY",
        "colab_type": "text"
      },
      "source": [
        "## **Leitura de Arquivos**\n"
      ]
    },
    {
      "cell_type": "markdown",
      "metadata": {
        "id": "ux9_qftObxdH",
        "colab_type": "text"
      },
      "source": [
        "**1º Carregar o arquivo no Google Colab**\n",
        "* Adicionar diretamente pela barra lateral esquerda, ou\n",
        "* Usando biblioteca google.colab"
      ]
    },
    {
      "cell_type": "code",
      "metadata": {
        "id": "58lLw50-YJ5t",
        "colab_type": "code",
        "colab": {
          "resources": {
            "http://localhost:8080/nbextensions/google.colab/files.js": {
              "data": "Ly8gQ29weXJpZ2h0IDIwMTcgR29vZ2xlIExMQwovLwovLyBMaWNlbnNlZCB1bmRlciB0aGUgQXBhY2hlIExpY2Vuc2UsIFZlcnNpb24gMi4wICh0aGUgIkxpY2Vuc2UiKTsKLy8geW91IG1heSBub3QgdXNlIHRoaXMgZmlsZSBleGNlcHQgaW4gY29tcGxpYW5jZSB3aXRoIHRoZSBMaWNlbnNlLgovLyBZb3UgbWF5IG9idGFpbiBhIGNvcHkgb2YgdGhlIExpY2Vuc2UgYXQKLy8KLy8gICAgICBodHRwOi8vd3d3LmFwYWNoZS5vcmcvbGljZW5zZXMvTElDRU5TRS0yLjAKLy8KLy8gVW5sZXNzIHJlcXVpcmVkIGJ5IGFwcGxpY2FibGUgbGF3IG9yIGFncmVlZCB0byBpbiB3cml0aW5nLCBzb2Z0d2FyZQovLyBkaXN0cmlidXRlZCB1bmRlciB0aGUgTGljZW5zZSBpcyBkaXN0cmlidXRlZCBvbiBhbiAiQVMgSVMiIEJBU0lTLAovLyBXSVRIT1VUIFdBUlJBTlRJRVMgT1IgQ09ORElUSU9OUyBPRiBBTlkgS0lORCwgZWl0aGVyIGV4cHJlc3Mgb3IgaW1wbGllZC4KLy8gU2VlIHRoZSBMaWNlbnNlIGZvciB0aGUgc3BlY2lmaWMgbGFuZ3VhZ2UgZ292ZXJuaW5nIHBlcm1pc3Npb25zIGFuZAovLyBsaW1pdGF0aW9ucyB1bmRlciB0aGUgTGljZW5zZS4KCi8qKgogKiBAZmlsZW92ZXJ2aWV3IEhlbHBlcnMgZm9yIGdvb2dsZS5jb2xhYiBQeXRob24gbW9kdWxlLgogKi8KKGZ1bmN0aW9uKHNjb3BlKSB7CmZ1bmN0aW9uIHNwYW4odGV4dCwgc3R5bGVBdHRyaWJ1dGVzID0ge30pIHsKICBjb25zdCBlbGVtZW50ID0gZG9jdW1lbnQuY3JlYXRlRWxlbWVudCgnc3BhbicpOwogIGVsZW1lbnQudGV4dENvbnRlbnQgPSB0ZXh0OwogIGZvciAoY29uc3Qga2V5IG9mIE9iamVjdC5rZXlzKHN0eWxlQXR0cmlidXRlcykpIHsKICAgIGVsZW1lbnQuc3R5bGVba2V5XSA9IHN0eWxlQXR0cmlidXRlc1trZXldOwogIH0KICByZXR1cm4gZWxlbWVudDsKfQoKLy8gTWF4IG51bWJlciBvZiBieXRlcyB3aGljaCB3aWxsIGJlIHVwbG9hZGVkIGF0IGEgdGltZS4KY29uc3QgTUFYX1BBWUxPQURfU0laRSA9IDEwMCAqIDEwMjQ7CgpmdW5jdGlvbiBfdXBsb2FkRmlsZXMoaW5wdXRJZCwgb3V0cHV0SWQpIHsKICBjb25zdCBzdGVwcyA9IHVwbG9hZEZpbGVzU3RlcChpbnB1dElkLCBvdXRwdXRJZCk7CiAgY29uc3Qgb3V0cHV0RWxlbWVudCA9IGRvY3VtZW50LmdldEVsZW1lbnRCeUlkKG91dHB1dElkKTsKICAvLyBDYWNoZSBzdGVwcyBvbiB0aGUgb3V0cHV0RWxlbWVudCB0byBtYWtlIGl0IGF2YWlsYWJsZSBmb3IgdGhlIG5leHQgY2FsbAogIC8vIHRvIHVwbG9hZEZpbGVzQ29udGludWUgZnJvbSBQeXRob24uCiAgb3V0cHV0RWxlbWVudC5zdGVwcyA9IHN0ZXBzOwoKICByZXR1cm4gX3VwbG9hZEZpbGVzQ29udGludWUob3V0cHV0SWQpOwp9CgovLyBUaGlzIGlzIHJvdWdobHkgYW4gYXN5bmMgZ2VuZXJhdG9yIChub3Qgc3VwcG9ydGVkIGluIHRoZSBicm93c2VyIHlldCksCi8vIHdoZXJlIHRoZXJlIGFyZSBtdWx0aXBsZSBhc3luY2hyb25vdXMgc3RlcHMgYW5kIHRoZSBQeXRob24gc2lkZSBpcyBnb2luZwovLyB0byBwb2xsIGZvciBjb21wbGV0aW9uIG9mIGVhY2ggc3RlcC4KLy8gVGhpcyB1c2VzIGEgUHJvbWlzZSB0byBibG9jayB0aGUgcHl0aG9uIHNpZGUgb24gY29tcGxldGlvbiBvZiBlYWNoIHN0ZXAsCi8vIHRoZW4gcGFzc2VzIHRoZSByZXN1bHQgb2YgdGhlIHByZXZpb3VzIHN0ZXAgYXMgdGhlIGlucHV0IHRvIHRoZSBuZXh0IHN0ZXAuCmZ1bmN0aW9uIF91cGxvYWRGaWxlc0NvbnRpbnVlKG91dHB1dElkKSB7CiAgY29uc3Qgb3V0cHV0RWxlbWVudCA9IGRvY3VtZW50LmdldEVsZW1lbnRCeUlkKG91dHB1dElkKTsKICBjb25zdCBzdGVwcyA9IG91dHB1dEVsZW1lbnQuc3RlcHM7CgogIGNvbnN0IG5leHQgPSBzdGVwcy5uZXh0KG91dHB1dEVsZW1lbnQubGFzdFByb21pc2VWYWx1ZSk7CiAgcmV0dXJuIFByb21pc2UucmVzb2x2ZShuZXh0LnZhbHVlLnByb21pc2UpLnRoZW4oKHZhbHVlKSA9PiB7CiAgICAvLyBDYWNoZSB0aGUgbGFzdCBwcm9taXNlIHZhbHVlIHRvIG1ha2UgaXQgYXZhaWxhYmxlIHRvIHRoZSBuZXh0CiAgICAvLyBzdGVwIG9mIHRoZSBnZW5lcmF0b3IuCiAgICBvdXRwdXRFbGVtZW50Lmxhc3RQcm9taXNlVmFsdWUgPSB2YWx1ZTsKICAgIHJldHVybiBuZXh0LnZhbHVlLnJlc3BvbnNlOwogIH0pOwp9CgovKioKICogR2VuZXJhdG9yIGZ1bmN0aW9uIHdoaWNoIGlzIGNhbGxlZCBiZXR3ZWVuIGVhY2ggYXN5bmMgc3RlcCBvZiB0aGUgdXBsb2FkCiAqIHByb2Nlc3MuCiAqIEBwYXJhbSB7c3RyaW5nfSBpbnB1dElkIEVsZW1lbnQgSUQgb2YgdGhlIGlucHV0IGZpbGUgcGlja2VyIGVsZW1lbnQuCiAqIEBwYXJhbSB7c3RyaW5nfSBvdXRwdXRJZCBFbGVtZW50IElEIG9mIHRoZSBvdXRwdXQgZGlzcGxheS4KICogQHJldHVybiB7IUl0ZXJhYmxlPCFPYmplY3Q+fSBJdGVyYWJsZSBvZiBuZXh0IHN0ZXBzLgogKi8KZnVuY3Rpb24qIHVwbG9hZEZpbGVzU3RlcChpbnB1dElkLCBvdXRwdXRJZCkgewogIGNvbnN0IGlucHV0RWxlbWVudCA9IGRvY3VtZW50LmdldEVsZW1lbnRCeUlkKGlucHV0SWQpOwogIGlucHV0RWxlbWVudC5kaXNhYmxlZCA9IGZhbHNlOwoKICBjb25zdCBvdXRwdXRFbGVtZW50ID0gZG9jdW1lbnQuZ2V0RWxlbWVudEJ5SWQob3V0cHV0SWQpOwogIG91dHB1dEVsZW1lbnQuaW5uZXJIVE1MID0gJyc7CgogIGNvbnN0IHBpY2tlZFByb21pc2UgPSBuZXcgUHJvbWlzZSgocmVzb2x2ZSkgPT4gewogICAgaW5wdXRFbGVtZW50LmFkZEV2ZW50TGlzdGVuZXIoJ2NoYW5nZScsIChlKSA9PiB7CiAgICAgIHJlc29sdmUoZS50YXJnZXQuZmlsZXMpOwogICAgfSk7CiAgfSk7CgogIGNvbnN0IGNhbmNlbCA9IGRvY3VtZW50LmNyZWF0ZUVsZW1lbnQoJ2J1dHRvbicpOwogIGlucHV0RWxlbWVudC5wYXJlbnRFbGVtZW50LmFwcGVuZENoaWxkKGNhbmNlbCk7CiAgY2FuY2VsLnRleHRDb250ZW50ID0gJ0NhbmNlbCB1cGxvYWQnOwogIGNvbnN0IGNhbmNlbFByb21pc2UgPSBuZXcgUHJvbWlzZSgocmVzb2x2ZSkgPT4gewogICAgY2FuY2VsLm9uY2xpY2sgPSAoKSA9PiB7CiAgICAgIHJlc29sdmUobnVsbCk7CiAgICB9OwogIH0pOwoKICAvLyBXYWl0IGZvciB0aGUgdXNlciB0byBwaWNrIHRoZSBmaWxlcy4KICBjb25zdCBmaWxlcyA9IHlpZWxkIHsKICAgIHByb21pc2U6IFByb21pc2UucmFjZShbcGlja2VkUHJvbWlzZSwgY2FuY2VsUHJvbWlzZV0pLAogICAgcmVzcG9uc2U6IHsKICAgICAgYWN0aW9uOiAnc3RhcnRpbmcnLAogICAgfQogIH07CgogIGNhbmNlbC5yZW1vdmUoKTsKCiAgLy8gRGlzYWJsZSB0aGUgaW5wdXQgZWxlbWVudCBzaW5jZSBmdXJ0aGVyIHBpY2tzIGFyZSBub3QgYWxsb3dlZC4KICBpbnB1dEVsZW1lbnQuZGlzYWJsZWQgPSB0cnVlOwoKICBpZiAoIWZpbGVzKSB7CiAgICByZXR1cm4gewogICAgICByZXNwb25zZTogewogICAgICAgIGFjdGlvbjogJ2NvbXBsZXRlJywKICAgICAgfQogICAgfTsKICB9CgogIGZvciAoY29uc3QgZmlsZSBvZiBmaWxlcykgewogICAgY29uc3QgbGkgPSBkb2N1bWVudC5jcmVhdGVFbGVtZW50KCdsaScpOwogICAgbGkuYXBwZW5kKHNwYW4oZmlsZS5uYW1lLCB7Zm9udFdlaWdodDogJ2JvbGQnfSkpOwogICAgbGkuYXBwZW5kKHNwYW4oCiAgICAgICAgYCgke2ZpbGUudHlwZSB8fCAnbi9hJ30pIC0gJHtmaWxlLnNpemV9IGJ5dGVzLCBgICsKICAgICAgICBgbGFzdCBtb2RpZmllZDogJHsKICAgICAgICAgICAgZmlsZS5sYXN0TW9kaWZpZWREYXRlID8gZmlsZS5sYXN0TW9kaWZpZWREYXRlLnRvTG9jYWxlRGF0ZVN0cmluZygpIDoKICAgICAgICAgICAgICAgICAgICAgICAgICAgICAgICAgICAgJ24vYSd9IC0gYCkpOwogICAgY29uc3QgcGVyY2VudCA9IHNwYW4oJzAlIGRvbmUnKTsKICAgIGxpLmFwcGVuZENoaWxkKHBlcmNlbnQpOwoKICAgIG91dHB1dEVsZW1lbnQuYXBwZW5kQ2hpbGQobGkpOwoKICAgIGNvbnN0IGZpbGVEYXRhUHJvbWlzZSA9IG5ldyBQcm9taXNlKChyZXNvbHZlKSA9PiB7CiAgICAgIGNvbnN0IHJlYWRlciA9IG5ldyBGaWxlUmVhZGVyKCk7CiAgICAgIHJlYWRlci5vbmxvYWQgPSAoZSkgPT4gewogICAgICAgIHJlc29sdmUoZS50YXJnZXQucmVzdWx0KTsKICAgICAgfTsKICAgICAgcmVhZGVyLnJlYWRBc0FycmF5QnVmZmVyKGZpbGUpOwogICAgfSk7CiAgICAvLyBXYWl0IGZvciB0aGUgZGF0YSB0byBiZSByZWFkeS4KICAgIGxldCBmaWxlRGF0YSA9IHlpZWxkIHsKICAgICAgcHJvbWlzZTogZmlsZURhdGFQcm9taXNlLAogICAgICByZXNwb25zZTogewogICAgICAgIGFjdGlvbjogJ2NvbnRpbnVlJywKICAgICAgfQogICAgfTsKCiAgICAvLyBVc2UgYSBjaHVua2VkIHNlbmRpbmcgdG8gYXZvaWQgbWVzc2FnZSBzaXplIGxpbWl0cy4gU2VlIGIvNjIxMTU2NjAuCiAgICBsZXQgcG9zaXRpb24gPSAwOwogICAgd2hpbGUgKHBvc2l0aW9uIDwgZmlsZURhdGEuYnl0ZUxlbmd0aCkgewogICAgICBjb25zdCBsZW5ndGggPSBNYXRoLm1pbihmaWxlRGF0YS5ieXRlTGVuZ3RoIC0gcG9zaXRpb24sIE1BWF9QQVlMT0FEX1NJWkUpOwogICAgICBjb25zdCBjaHVuayA9IG5ldyBVaW50OEFycmF5KGZpbGVEYXRhLCBwb3NpdGlvbiwgbGVuZ3RoKTsKICAgICAgcG9zaXRpb24gKz0gbGVuZ3RoOwoKICAgICAgY29uc3QgYmFzZTY0ID0gYnRvYShTdHJpbmcuZnJvbUNoYXJDb2RlLmFwcGx5KG51bGwsIGNodW5rKSk7CiAgICAgIHlpZWxkIHsKICAgICAgICByZXNwb25zZTogewogICAgICAgICAgYWN0aW9uOiAnYXBwZW5kJywKICAgICAgICAgIGZpbGU6IGZpbGUubmFtZSwKICAgICAgICAgIGRhdGE6IGJhc2U2NCwKICAgICAgICB9LAogICAgICB9OwogICAgICBwZXJjZW50LnRleHRDb250ZW50ID0KICAgICAgICAgIGAke01hdGgucm91bmQoKHBvc2l0aW9uIC8gZmlsZURhdGEuYnl0ZUxlbmd0aCkgKiAxMDApfSUgZG9uZWA7CiAgICB9CiAgfQoKICAvLyBBbGwgZG9uZS4KICB5aWVsZCB7CiAgICByZXNwb25zZTogewogICAgICBhY3Rpb246ICdjb21wbGV0ZScsCiAgICB9CiAgfTsKfQoKc2NvcGUuZ29vZ2xlID0gc2NvcGUuZ29vZ2xlIHx8IHt9OwpzY29wZS5nb29nbGUuY29sYWIgPSBzY29wZS5nb29nbGUuY29sYWIgfHwge307CnNjb3BlLmdvb2dsZS5jb2xhYi5fZmlsZXMgPSB7CiAgX3VwbG9hZEZpbGVzLAogIF91cGxvYWRGaWxlc0NvbnRpbnVlLAp9Owp9KShzZWxmKTsK",
              "ok": true,
              "headers": [
                [
                  "content-type",
                  "application/javascript"
                ]
              ],
              "status": 200,
              "status_text": ""
            }
          },
          "base_uri": "https://localhost:8080/",
          "height": 72
        },
        "outputId": "2d02fa01-c704-4a8e-8f36-865e6be956ea"
      },
      "source": [
        "from google.colab import files\n",
        "arquivo = files.upload()"
      ],
      "execution_count": null,
      "outputs": [
        {
          "output_type": "display_data",
          "data": {
            "text/html": [
              "\n",
              "     <input type=\"file\" id=\"files-6a65d5e6-0ab2-48ef-af79-b31626fb6cba\" name=\"files[]\" multiple disabled\n",
              "        style=\"border:none\" />\n",
              "     <output id=\"result-6a65d5e6-0ab2-48ef-af79-b31626fb6cba\">\n",
              "      Upload widget is only available when the cell has been executed in the\n",
              "      current browser session. Please rerun this cell to enable.\n",
              "      </output>\n",
              "      <script src=\"/nbextensions/google.colab/files.js\"></script> "
            ],
            "text/plain": [
              "<IPython.core.display.HTML object>"
            ]
          },
          "metadata": {
            "tags": []
          }
        },
        {
          "output_type": "stream",
          "text": [
            "Saving teste.txt to teste.txt\n"
          ],
          "name": "stdout"
        }
      ]
    },
    {
      "cell_type": "markdown",
      "metadata": {
        "id": "gfT1D3neZZkm",
        "colab_type": "text"
      },
      "source": [
        "**2º Ler propriamente o arquivo**\n",
        "* Função open()"
      ]
    },
    {
      "cell_type": "code",
      "metadata": {
        "id": "8sskt5e5YSbG",
        "colab_type": "code",
        "colab": {
          "base_uri": "https://localhost:8080/",
          "height": 102
        },
        "outputId": "bc53183e-6311-4787-c317-6e17906645da"
      },
      "source": [
        "nome_arquivo = \"teste1.txt\"\n",
        "arquivo = open(nome_arquivo,\"r\")\n",
        "\n",
        "for linhas in arquivo:  #Ele percorre linha a linha do arquivo\n",
        "  print(linhas)\n",
        "arquivo.close()         #Lembrar de sempre fechar o arquivo"
      ],
      "execution_count": null,
      "outputs": [
        {
          "output_type": "stream",
          "text": [
            "Teste da linha 1; \n",
            "\n",
            " Teste da linha 2; \n",
            "\n",
            " \n"
          ],
          "name": "stdout"
        }
      ]
    },
    {
      "cell_type": "markdown",
      "metadata": {
        "id": "faQt8rspgUIH",
        "colab_type": "text"
      },
      "source": [
        "* Observe que em Python retorna-se string vazia ao invés do EOF em si.\n",
        "*Perceba que para não pular linha duas vezes devo usar o .rstrip()"
      ]
    },
    {
      "cell_type": "code",
      "metadata": {
        "id": "O3wmP2nRdfzg",
        "colab_type": "code",
        "colab": {
          "base_uri": "https://localhost:8080/",
          "height": 68
        },
        "outputId": "428613b8-f301-45a3-df1c-4baa04e8abe8"
      },
      "source": [
        "#Função readline()\n",
        "nome_arquivo = \"teste1.txt\"\n",
        "arquivo = open(nome_arquivo,\"r\")\n",
        "\n",
        "linha = arquivo.readline()\n",
        "while linha != '':\n",
        "  print(linha.rstrip())\n",
        "  linha = arquivo.readline()   #Ele percorre linha a linha do arquivo\n",
        "  \n",
        "arquivo.close()                #Lembrar de sempre fechar o arquivo"
      ],
      "execution_count": null,
      "outputs": [
        {
          "output_type": "stream",
          "text": [
            "Teste da linha 1;\n",
            " Teste da linha 2;\n",
            "\n"
          ],
          "name": "stdout"
        }
      ]
    },
    {
      "cell_type": "markdown",
      "metadata": {
        "colab_type": "text",
        "id": "uRAqDYpebnvI"
      },
      "source": [
        "## **Escrita de Arquivos**"
      ]
    },
    {
      "cell_type": "code",
      "metadata": {
        "id": "2YGupNlNb8G8",
        "colab_type": "code",
        "colab": {}
      },
      "source": [
        "nome_arquivo = \"teste1.txt\"\n",
        "arquivo = open(nome_arquivo,\"w\")\n",
        "arquivo.write(\"Teste da linha 1; \\n \")\n",
        "arquivo.write(\"Teste da linha 2; \\n \")\n",
        "arquivo.close()"
      ],
      "execution_count": null,
      "outputs": []
    },
    {
      "cell_type": "markdown",
      "metadata": {
        "id": "Qa9lChqQb8xl",
        "colab_type": "text"
      },
      "source": [
        ""
      ]
    }
  ]
}