{
  "nbformat": 4,
  "nbformat_minor": 0,
  "metadata": {
    "colab": {
      "name": "m2_cap4.2_boot_python.ipynb",
      "provenance": [],
      "collapsed_sections": [],
      "authorship_tag": "ABX9TyOl9XEqBdScqaV8YbZPr4X7",
      "include_colab_link": true
    },
    "kernelspec": {
      "name": "python3",
      "display_name": "Python 3"
    }
  },
  "cells": [
    {
      "cell_type": "markdown",
      "metadata": {
        "id": "view-in-github",
        "colab_type": "text"
      },
      "source": [
        "<a href=\"https://colab.research.google.com/github/jlvoltan/bootcamp_python/blob/master/m2_cap4_2_boot_python.ipynb\" target=\"_parent\"><img src=\"https://colab.research.google.com/assets/colab-badge.svg\" alt=\"Open In Colab\"/></a>"
      ]
    },
    {
      "cell_type": "markdown",
      "metadata": {
        "id": "lAgTvRtVe-Q1",
        "colab_type": "text"
      },
      "source": [
        "# **Módulo 2 - Cap 4 (cont) - Bootcamp PYTHON**\n",
        "*Atualizado em 31 JUL 2020* \n",
        "\n"
      ]
    },
    {
      "cell_type": "markdown",
      "metadata": {
        "id": "QaYMSSGP3sIM",
        "colab_type": "text"
      },
      "source": [
        "# Regressão Linear\n",
        "X $\\beta$ = Y\n",
        "\n",
        "onde  $\\beta$ = $\\left[ \\begin{array}{l}\n",
        "a\\\\\n",
        "b\n",
        "\\end{array}\\right]$\n",
        "\n",
        "\n",
        "\n",
        "Via menor erro quadrático médio:\n",
        "\n",
        "$\\beta$ = ($X^T$ X)^-1 $X^T$ Y\n",
        "\n",
        "\n",
        "onde ($X^T$ X)^-1 $X^T$ é a pseudo-inversa de X, usamos *np.linalg.pinv(X)*\n",
        "\n",
        "* determninar uma função que melhor represente aquele conjunto de pontos\n",
        "* critério do erro quadrático:  $\\sum(X - X')^2$\n",
        "* No caso da procura por uma reta, equação:  Y = aX + b\n",
        "* A ideia é que atraves da solução do sistema, poderiamos encontrar a reta.\n",
        "  * Existem alguns complicadores,pois os pontos não estão necessariamente na reta, mas a reta me dá o erro quadrático mínimo. Os pontos são próximos a reta."
      ]
    },
    {
      "cell_type": "markdown",
      "metadata": {
        "id": "YV73H9XZpxzL",
        "colab_type": "text"
      },
      "source": [
        "## Exemplo"
      ]
    },
    {
      "cell_type": "markdown",
      "metadata": {
        "id": "Qr4lFia6ptof",
        "colab_type": "text"
      },
      "source": [
        "Exemplo extraído de https://www.ime.unicamp.br/~hlachos/regresslide.pdf:"
      ]
    },
    {
      "cell_type": "markdown",
      "metadata": {
        "id": "QcRbQgmQp14c",
        "colab_type": "text"
      },
      "source": [
        "O gerente de uma cadeia de supermercados deseja\n",
        "desenvolver um modelo com a finalidade de estimar as\n",
        "vendas médias semanais (em milhares de dólares)\n",
        "Y - Vendas semanais; e\n",
        "X - Número de clientes.\n",
        "Estas variáveis foram observadas em 20 supermercados\n",
        "escolhidos aleatóriamente."
      ]
    },
    {
      "cell_type": "code",
      "metadata": {
        "id": "mCDmPuPfxKBr",
        "colab_type": "code",
        "colab": {
          "base_uri": "https://localhost:8080/",
          "height": 85
        },
        "outputId": "f44a8f3a-ee40-4184-ff06-6c8504603f94"
      },
      "source": [
        "X = \"907 926 506 741 789 889 874 510 529 420 679 872 924 607 452 729 794 844 1010 621\"\n",
        "Y = \"11,20 11,05 6,84 9,21 9,42 10,08 9,45 6,73 7,24 6,12 7,63 9,43 9,46 7,64 6,92 8,95 9,33 10,23 11,77 7,41\"\n",
        "\n",
        "#Tratando a mudança da virgula pelo ponto, e a inserção do separador vírgula\n",
        "X=X.replace(\" \",\",\")\n",
        "Y=Y.replace(\",\",\".\")\n",
        "Y=Y.replace(\" \",\",\")\n",
        "print(\"X: \\n\", X)\n",
        "print(\"Y: \\n\", Y)"
      ],
      "execution_count": 31,
      "outputs": [
        {
          "output_type": "stream",
          "text": [
            "X: \n",
            " 907,926,506,741,789,889,874,510,529,420,679,872,924,607,452,729,794,844,1010,621\n",
            "Y: \n",
            " 11.20,11.05,6.84,9.21,9.42,10.08,9.45,6.73,7.24,6.12,7.63,9.43,9.46,7.64,6.92,8.95,9.33,10.23,11.77,7.41\n"
          ],
          "name": "stdout"
        }
      ]
    },
    {
      "cell_type": "code",
      "metadata": {
        "id": "pswQ29sjyDcw",
        "colab_type": "code",
        "colab": {}
      },
      "source": [
        "X=[907,926,506,741,789,889,874,510,529,420,679,872,924,607,452,729,794,844,1010,621]\n",
        "Y=[11.20,11.05,6.84,9.21,9.42,10.08,9.45,6.73,7.24,6.12,7.63,9.43,9.46,7.64,6.92,8.95,9.33,10.23,11.77,7.41]"
      ],
      "execution_count": 32,
      "outputs": []
    },
    {
      "cell_type": "code",
      "metadata": {
        "id": "FHkNufR1yapo",
        "colab_type": "code",
        "colab": {
          "base_uri": "https://localhost:8080/",
          "height": 335
        },
        "outputId": "b8acc66f-ddd8-4a92-c255-b4eca16e141f"
      },
      "source": [
        "#Gráfico\n",
        "import matplotlib.pyplot as plt\n",
        "\n",
        "plt.figure(figsize=(10,5))\n",
        "plt.plot(X,Y,'o',label=\"Dados Originais\")\n",
        "plt.legend()\n",
        "plt.xlabel(\"Eixo X\")\n",
        "plt.ylabel(\"Eixo Y\")\n",
        "plt.grid()\n",
        "plt.show()"
      ],
      "execution_count": 33,
      "outputs": [
        {
          "output_type": "display_data",
          "data": {
            "image/png": "[encoded data removed]",
            "text/plain": [
              "<Figure size 720x360 with 1 Axes>"
            ]
          },
          "metadata": {
            "tags": [],
            "needs_background": "light"
          }
        }
      ]
    },
    {
      "cell_type": "markdown",
      "metadata": {
        "id": "0z-RyW9Xgezc",
        "colab_type": "text"
      },
      "source": [
        "## Numpy"
      ]
    },
    {
      "cell_type": "code",
      "metadata": {
        "id": "wrlKUl1GwcJn",
        "colab_type": "code",
        "colab": {
          "base_uri": "https://localhost:8080/",
          "height": 357
        },
        "outputId": "3f06358f-63f5-486e-b0fd-418334ae1470"
      },
      "source": [
        "import numpy as np\n",
        "\n",
        "X = np.array(X).reshape(-1,1) #replace pra forçar a ser um vetor coluna\n",
        "Y = np.array(Y).reshape(-1,1) \n",
        "\n",
        "#Adicionando bias para estimar o termo b\n",
        "Xl = np.hstack((X, np.ones(X.shape)))\n",
        "print(Xl)"
      ],
      "execution_count": 34,
      "outputs": [
        {
          "output_type": "stream",
          "text": [
            "[[9.07e+02 1.00e+00]\n",
            " [9.26e+02 1.00e+00]\n",
            " [5.06e+02 1.00e+00]\n",
            " [7.41e+02 1.00e+00]\n",
            " [7.89e+02 1.00e+00]\n",
            " [8.89e+02 1.00e+00]\n",
            " [8.74e+02 1.00e+00]\n",
            " [5.10e+02 1.00e+00]\n",
            " [5.29e+02 1.00e+00]\n",
            " [4.20e+02 1.00e+00]\n",
            " [6.79e+02 1.00e+00]\n",
            " [8.72e+02 1.00e+00]\n",
            " [9.24e+02 1.00e+00]\n",
            " [6.07e+02 1.00e+00]\n",
            " [4.52e+02 1.00e+00]\n",
            " [7.29e+02 1.00e+00]\n",
            " [7.94e+02 1.00e+00]\n",
            " [8.44e+02 1.00e+00]\n",
            " [1.01e+03 1.00e+00]\n",
            " [6.21e+02 1.00e+00]]\n"
          ],
          "name": "stdout"
        }
      ]
    },
    {
      "cell_type": "code",
      "metadata": {
        "id": "UReQpXnezGf_",
        "colab_type": "code",
        "colab": {
          "base_uri": "https://localhost:8080/",
          "height": 51
        },
        "outputId": "4697fa56-ebc1-4c85-a422-27c82a211773"
      },
      "source": [
        "#Estimando a e b da matriz Beta\n",
        "beta = np.linalg.pinv(Xl).dot(Y)\n",
        "print(beta)"
      ],
      "execution_count": 35,
      "outputs": [
        {
          "output_type": "stream",
          "text": [
            "[[0.00872934]\n",
            " [2.4230444 ]]\n"
          ],
          "name": "stdout"
        }
      ]
    },
    {
      "cell_type": "code",
      "metadata": {
        "id": "QfBGt_wkzGjI",
        "colab_type": "code",
        "colab": {
          "base_uri": "https://localhost:8080/",
          "height": 335
        },
        "outputId": "40ea6339-d9d2-48c0-b47e-fbfd561f606c"
      },
      "source": [
        "# Gráfico com retas (aproximação pelo modelo) e pontos\n",
        "plt.figure(figsize=(10,5))\n",
        "plt.plot(X,Y,'o',label=\"Dados Originais\")\n",
        "plt.plot(X,Xl.dot(beta),label=\"Regressão Linear Usando Numpy e Matrizes\")\n",
        "plt.legend()\n",
        "plt.xlabel(\"Eixo X\")\n",
        "plt.ylabel(\"Eixo Y\")\n",
        "plt.grid()\n",
        "plt.show()"
      ],
      "execution_count": 36,
      "outputs": [
        {
          "output_type": "display_data",
          "data": {
            "image/png": "[encoded data removed]",
            "text/plain": [
              "<Figure size 720x360 with 1 Axes>"
            ]
          },
          "metadata": {
            "tags": [],
            "needs_background": "light"
          }
        }
      ]
    },
    {
      "cell_type": "markdown",
      "metadata": {
        "id": "mtONr4aEfWEt",
        "colab_type": "text"
      },
      "source": [
        "# Scikit-learn"
      ]
    },
    {
      "cell_type": "markdown",
      "metadata": {
        "id": "v_3iKfyQftkg",
        "colab_type": "text"
      },
      "source": [
        "### Criando e treinando o Modelo"
      ]
    },
    {
      "cell_type": "code",
      "metadata": {
        "id": "qpZSVPjbe1V7",
        "colab_type": "code",
        "colab": {
          "base_uri": "https://localhost:8080/",
          "height": 34
        },
        "outputId": "59ad6891-1cba-45ca-a97b-fba804432072"
      },
      "source": [
        "from sklearn.linear_model import LinearRegression\n",
        "\n",
        "#Transformando os dados em um Numpy Array\n",
        "X = np.array(X).reshape(-1,1) #replace pra forçar a ser um vetor coluna\n",
        "Y = np.array(Y).reshape(-1,1) \n",
        "\n",
        "#Criando o modelo\n",
        "modelo_regressao = LinearRegression()\n",
        "\n",
        "#treinando o modelo\n",
        "modelo_regressao.fit(X,Y)"
      ],
      "execution_count": 37,
      "outputs": [
        {
          "output_type": "execute_result",
          "data": {
            "text/plain": [
              "LinearRegression(copy_X=True, fit_intercept=True, n_jobs=None, normalize=False)"
            ]
          },
          "metadata": {
            "tags": []
          },
          "execution_count": 37
        }
      ]
    },
    {
      "cell_type": "markdown",
      "metadata": {
        "id": "92oYv5bihRlh",
        "colab_type": "text"
      },
      "source": [
        "### Extraindo dados do Modelo"
      ]
    },
    {
      "cell_type": "code",
      "metadata": {
        "id": "jBhB77ijg9RX",
        "colab_type": "code",
        "colab": {
          "base_uri": "https://localhost:8080/",
          "height": 51
        },
        "outputId": "63d0142f-ccc2-4434-810a-a45cb6d427b2"
      },
      "source": [
        "# A reta é dada por: ax + b\n",
        "print(\"Sendo a reta ax + b\")\n",
        "print(\"Onde a= \"+ str(modelo_regressao.coef_.ravel()[0]) + \" e b= \" +str(modelo_regressao.intercept_[0]))\n"
      ],
      "execution_count": 38,
      "outputs": [
        {
          "output_type": "stream",
          "text": [
            "Sendo a reta ax + b\n",
            "Onde a= 0.008729338171473583 e b= 2.42304439592709\n"
          ],
          "name": "stdout"
        }
      ]
    },
    {
      "cell_type": "markdown",
      "metadata": {
        "id": "g8_dXDoYiAMp",
        "colab_type": "text"
      },
      "source": [
        "### Prevendo valores"
      ]
    },
    {
      "cell_type": "code",
      "metadata": {
        "id": "Jgj5Ad1_hudM",
        "colab_type": "code",
        "colab": {}
      },
      "source": [
        "y_predito = modelo_regressao.predict(X)"
      ],
      "execution_count": 39,
      "outputs": []
    },
    {
      "cell_type": "markdown",
      "metadata": {
        "id": "Vb6sfegCiEv3",
        "colab_type": "text"
      },
      "source": [
        "### Avaliando o modelo criado\n",
        "* Score do modelo - *score()* : Pode-se usar os dados de entrada. \n",
        "* Existem outras técnicas, como divisão do conjunto de dados em dois grupos, um para criar o modelo e outro para avaliá-lo.\n",
        "* Pode-se usar o erro quadrático médio, dentre outros\n",
        "\n"
      ]
    },
    {
      "cell_type": "markdown",
      "metadata": {
        "id": "Aksiil3Bk7Z_",
        "colab_type": "text"
      },
      "source": [
        "* **Erro Quadrático Médio:** Faz-se a diferença entre o valor real de Y e o valor previsto pelo modelo. Essa difereça é elevada ao quadrado (pois o sinal não importa). Soma-se isso para todos os pontos. Ao final divide-se pelo número de pontos somados (média).\n",
        "\n",
        "  **MSR = $\\frac{1}{n}$  $\\sum_{0}^{n} (y -y')^{2}$**\n",
        "\n",
        "onde *y* é o valor real, enquanto *y'* o valor previsto pelo modelo."
      ]
    },
    {
      "cell_type": "markdown",
      "metadata": {
        "id": "NtFdVgyTn415",
        "colab_type": "text"
      },
      "source": [
        "* **Coeficiente de determinação $R^2$**\n",
        "  * Supondo um modelo que pegue a média dos falores de y, e sempre preveja esse valor (média) como sendo o valor correnpondente para y. Independente do valor de x, ele \"chuta\" o valor da média para y. O erro quadrático médio desse modelo, chamaremos de **$MSR_2$**\n",
        "  * Coeficiente de determinação $R^2$ usa a comparação entre o erro quadrático médio desse modelo (**$MSR_2$**)com o do modelo que estamos estudando (**$MSR_1$**). \n",
        "\n",
        "     $R^2$ = 1 - $\\frac{MSR_1}{MSR_2}$\n",
        "\n",
        "    * Quanto mais próximo de 1, melhor."
      ]
    },
    {
      "cell_type": "code",
      "metadata": {
        "id": "lYc3gRJ0iUJk",
        "colab_type": "code",
        "colab": {
          "base_uri": "https://localhost:8080/",
          "height": 34
        },
        "outputId": "195f62a0-21f3-41c2-fd19-c3c4eccb18d7"
      },
      "source": [
        "score = modelo_regressao.score(X,Y)\n",
        "print(\"O score (R2) obtido para os dados de entrada foi: \", score)"
      ],
      "execution_count": 40,
      "outputs": [
        {
          "output_type": "stream",
          "text": [
            "O score (R2) obtido para os dados de entrada foi:  0.9118592197429437\n"
          ],
          "name": "stdout"
        }
      ]
    },
    {
      "cell_type": "code",
      "metadata": {
        "id": "WfazB4WgihMe",
        "colab_type": "code",
        "colab": {
          "base_uri": "https://localhost:8080/",
          "height": 335
        },
        "outputId": "99aa954f-cf3c-4cf0-f0f1-681e104a25f0"
      },
      "source": [
        "# Gráfico com retas (aproximação pelo modelo) e pontos\n",
        "plt.figure(figsize=(10,5))\n",
        "plt.plot(X,Y,'o',label=\"Dados Originais\")\n",
        "plt.plot(X,y_predito,label=\"Regressão Linear Usando Scikit-learn\")\n",
        "plt.legend()\n",
        "plt.xlabel(\"Eixo X\")\n",
        "plt.ylabel(\"Eixo Y\")\n",
        "plt.grid()\n",
        "plt.show()"
      ],
      "execution_count": 41,
      "outputs": [
        {
          "output_type": "display_data",
          "data": {
            "image/png": "[encoded data removed]",
            "text/plain": [
              "<Figure size 720x360 with 1 Axes>"
            ]
          },
          "metadata": {
            "tags": [],
            "needs_background": "light"
          }
        }
      ]
    }
  ]
}
