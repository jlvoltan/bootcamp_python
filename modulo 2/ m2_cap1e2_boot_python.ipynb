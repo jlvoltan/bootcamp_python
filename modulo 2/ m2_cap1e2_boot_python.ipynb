{
  "nbformat": 4,
  "nbformat_minor": 0,
  "metadata": {
    "colab": {
      "name": "m2_cap1e2_boot_python.ipynb",
      "provenance": [],
      "collapsed_sections": [
        "VZtfynjxByS7"
      ],
      "authorship_tag": "ABX9TyPB7g2tBGhF9SJkIwm0Jn0h",
      "include_colab_link": true
    },
    "kernelspec": {
      "name": "python3",
      "display_name": "Python 3"
    }
  },
  "cells": [
    {
      "cell_type": "markdown",
      "metadata": {
        "id": "view-in-github",
        "colab_type": "text"
      },
      "source": [
        "<a href=\"https://colab.research.google.com/github/jlvoltan/bootcamp_python/blob/master/m2_cap1e2_boot_python.ipynb\" target=\"_parent\"><img src=\"https://colab.research.google.com/assets/colab-badge.svg\" alt=\"Open In Colab\"/></a>"
      ]
    },
    {
      "cell_type": "markdown",
      "metadata": {
        "id": "B1edjiJNNpon",
        "colab_type": "text"
      },
      "source": [
        "# **Módulo 2 - Cap 1,2 - Bootcamp PYTHON**\n",
        "*Atualizado em 27 JUL 2020* \n",
        "\n",
        "*jlvoltan*"
      ]
    },
    {
      "cell_type": "markdown",
      "metadata": {
        "id": "PN3t7S3tST0O",
        "colab_type": "text"
      },
      "source": [
        "**Etapas da Análise de dados:**\n",
        " 1. Definição do Problema a ser trabalhado\n",
        " 2. Coleta de dados\n",
        " 3. Tratamento de dados\n",
        " 4. Análise de dados\n",
        " 5. Visualização\n"
      ]
    },
    {
      "cell_type": "markdown",
      "metadata": {
        "id": "PsnyqhIyUUjl",
        "colab_type": "text"
      },
      "source": [
        "## **Numpy**\n"
      ]
    },
    {
      "cell_type": "markdown",
      "metadata": {
        "id": "JjDtuwUSUZar",
        "colab_type": "text"
      },
      "source": [
        "* Biblioteca de computação científica;\n",
        "* Boa performance (melhor que Python puro);\n",
        "* usacdo com o apelido np\n",
        "* Focada em trabalhar com os arrays e manipulação de números\n",
        "\n",
        " * Vetor = 1 Dimensão\n",
        " * Matriz = 2 Dimensão \n",
        "* ***axis*** representa a direção da dimensão\n",
        "* ***shape*** quantidade de elementos por linha, coluna..."
      ]
    },
    {
      "cell_type": "markdown",
      "metadata": {
        "id": "Rwtc2Xs8UmW7",
        "colab_type": "text"
      },
      "source": [
        "* Instalação\n",
        " 1. pip install numpy\n",
        " 2. conda install numpy"
      ]
    },
    {
      "cell_type": "code",
      "metadata": {
        "id": "V_Jlri7rNl-3",
        "colab_type": "code",
        "colab": {}
      },
      "source": [
        "import numpy as np"
      ],
      "execution_count": 1,
      "outputs": []
    },
    {
      "cell_type": "code",
      "metadata": {
        "id": "9AHQVJbwWsBb",
        "colab_type": "code",
        "colab": {}
      },
      "source": [
        "#Podemos ver o help com exemplos...\n",
        "#help(np.array)"
      ],
      "execution_count": 2,
      "outputs": []
    },
    {
      "cell_type": "markdown",
      "metadata": {
        "id": "zDL1CiuMXyyc",
        "colab_type": "text"
      },
      "source": [
        "## Vetor - 1 dim"
      ]
    },
    {
      "cell_type": "markdown",
      "metadata": {
        "id": "YXd_xyMntyL7",
        "colab_type": "text"
      },
      "source": [
        "* Indice dos vetores: 0 a n-1\n",
        "* Pode-se usar indices negativos: -1 equivale ao último elemento"
      ]
    },
    {
      "cell_type": "code",
      "metadata": {
        "id": "YTyDfFUqWwQa",
        "colab_type": "code",
        "colab": {
          "base_uri": "https://localhost:8080/",
          "height": 68
        },
        "outputId": "3f974724-071e-4c7a-c821-778d2085b4e9"
      },
      "source": [
        "linha = [1,2,1]\n",
        "print(type(linha))\n",
        "\n",
        "x = np.array(linha)  \n",
        "#Posso ainda forçar o tipo de dado:\n",
        "#       x = np.array(linha, dtype=int)  \n",
        "print(type(x))\n",
        "print(\"Vetor: \" + str(x)+\" com Shape: \"+ str(x.shape))"
      ],
      "execution_count": 3,
      "outputs": [
        {
          "output_type": "stream",
          "text": [
            "<class 'list'>\n",
            "<class 'numpy.ndarray'>\n",
            "Vetor: [1 2 1] com Shape: (3,)\n"
          ],
          "name": "stdout"
        }
      ]
    },
    {
      "cell_type": "code",
      "metadata": {
        "id": "hBfzg5NTvIcU",
        "colab_type": "code",
        "colab": {
          "base_uri": "https://localhost:8080/",
          "height": 34
        },
        "outputId": "14bc5eb3-b126-49ac-b182-64ab20b66e9c"
      },
      "source": [
        "linha[1]"
      ],
      "execution_count": 4,
      "outputs": [
        {
          "output_type": "execute_result",
          "data": {
            "text/plain": [
              "2"
            ]
          },
          "metadata": {
            "tags": []
          },
          "execution_count": 4
        }
      ]
    },
    {
      "cell_type": "markdown",
      "metadata": {
        "id": "Ej-Q5FMSX2oy",
        "colab_type": "text"
      },
      "source": [
        "## Matriz"
      ]
    },
    {
      "cell_type": "code",
      "metadata": {
        "id": "cMlHGJ9FXFQJ",
        "colab_type": "code",
        "colab": {
          "base_uri": "https://localhost:8080/",
          "height": 51
        },
        "outputId": "a6524e1e-3c61-475b-c17a-cc71e32a0486"
      },
      "source": [
        "linha1 = ['a',2,1]\n",
        "linha2 = [1,3,1]\n",
        "Matriz= [linha1,linha2]\n",
        "# ou direto Matriz= [[1,2,1], [1,3,1]]\n",
        "x = np.array(Matriz)\n",
        "\n",
        "print(\"Vetor: \" + str(x)+\"                 com Shape: \"+ str(x.shape))"
      ],
      "execution_count": 5,
      "outputs": [
        {
          "output_type": "stream",
          "text": [
            "Vetor: [['a' '2' '1']\n",
            " ['1' '3' '1']]                 com Shape: (2, 3)\n"
          ],
          "name": "stdout"
        }
      ]
    },
    {
      "cell_type": "code",
      "metadata": {
        "id": "gXJJEuSMvSR4",
        "colab_type": "code",
        "colab": {
          "base_uri": "https://localhost:8080/",
          "height": 34
        },
        "outputId": "180573f7-75d9-4c6c-ccfd-ffcc0f313fdf"
      },
      "source": [
        "Matriz[1][1]"
      ],
      "execution_count": 6,
      "outputs": [
        {
          "output_type": "execute_result",
          "data": {
            "text/plain": [
              "3"
            ]
          },
          "metadata": {
            "tags": []
          },
          "execution_count": 6
        }
      ]
    },
    {
      "cell_type": "markdown",
      "metadata": {
        "id": "tTwiH-XhzcUl",
        "colab_type": "text"
      },
      "source": [
        "* **reshape** : Alterar a forma de um array (remodelar)\n",
        " * reshape(-1,1): ignoro a quantidade de linhas, mas imponho que senha um vetor coluna.\n"
      ]
    },
    {
      "cell_type": "code",
      "metadata": {
        "id": "siMLcy7Kza0o",
        "colab_type": "code",
        "colab": {
          "base_uri": "https://localhost:8080/",
          "height": 187
        },
        "outputId": "84d40d1e-00f1-46cb-abac-18599a51fc7f"
      },
      "source": [
        "x = [1,2,3,4,5,6,7,8,9,10]\n",
        "Array = np.array(x)  \n",
        "print(Array)\n",
        "print()\n",
        "print(Array.reshape(2,5))\n",
        "print()\n",
        "print(Array.reshape(5,2))"
      ],
      "execution_count": 7,
      "outputs": [
        {
          "output_type": "stream",
          "text": [
            "[ 1  2  3  4  5  6  7  8  9 10]\n",
            "\n",
            "[[ 1  2  3  4  5]\n",
            " [ 6  7  8  9 10]]\n",
            "\n",
            "[[ 1  2]\n",
            " [ 3  4]\n",
            " [ 5  6]\n",
            " [ 7  8]\n",
            " [ 9 10]]\n"
          ],
          "name": "stdout"
        }
      ]
    },
    {
      "cell_type": "markdown",
      "metadata": {
        "id": "oxlgi_L7YnAl",
        "colab_type": "text"
      },
      "source": [
        "## Funções para criar arrays preenchidos"
      ]
    },
    {
      "cell_type": "markdown",
      "metadata": {
        "id": "Dbd7lJ9UYs5L",
        "colab_type": "text"
      },
      "source": [
        "* Criar array de 0's (zeros):\n",
        "  * np.zeros(dimensoes)"
      ]
    },
    {
      "cell_type": "code",
      "metadata": {
        "id": "QMSJStaPYEur",
        "colab_type": "code",
        "colab": {
          "base_uri": "https://localhost:8080/",
          "height": 85
        },
        "outputId": "29ccbfc0-f62d-45f3-8a42-0af696a19d32"
      },
      "source": [
        "  print(np.zeros((2,2)))\n",
        "  print(np.zeros(5))\n",
        "  print(np.zeros(5,dtype=int))"
      ],
      "execution_count": 8,
      "outputs": [
        {
          "output_type": "stream",
          "text": [
            "[[0. 0.]\n",
            " [0. 0.]]\n",
            "[0. 0. 0. 0. 0.]\n",
            "[0 0 0 0 0]\n"
          ],
          "name": "stdout"
        }
      ]
    },
    {
      "cell_type": "markdown",
      "metadata": {
        "id": "Dr4qoV7NaLGm",
        "colab_type": "text"
      },
      "source": [
        "* Criar array de 1's (um):\n",
        "  * np.ones(dimensoes)"
      ]
    },
    {
      "cell_type": "code",
      "metadata": {
        "colab_type": "code",
        "id": "eBzLp3zbanVZ",
        "colab": {
          "base_uri": "https://localhost:8080/",
          "height": 85
        },
        "outputId": "4adcf040-4834-43f4-d367-761fc8ba0759"
      },
      "source": [
        "  print(np.ones((2,2)))\n",
        "  print(np.ones(5))\n",
        "  print(np.ones(5,dtype=int))"
      ],
      "execution_count": 9,
      "outputs": [
        {
          "output_type": "stream",
          "text": [
            "[[1. 1.]\n",
            " [1. 1.]]\n",
            "[1. 1. 1. 1. 1.]\n",
            "[1 1 1 1 1]\n"
          ],
          "name": "stdout"
        }
      ]
    },
    {
      "cell_type": "markdown",
      "metadata": {
        "id": "34GKQqgia8rb",
        "colab_type": "text"
      },
      "source": [
        "* Criar array Linerarmente espaçado:\n",
        "  * np.linspace(strart=  ,stop=  ,numero_de_elementos)\n"
      ]
    },
    {
      "cell_type": "code",
      "metadata": {
        "id": "T7CdRMqpZQDg",
        "colab_type": "code",
        "colab": {
          "base_uri": "https://localhost:8080/",
          "height": 34
        },
        "outputId": "ca94b928-7edd-4df5-d884-58e827789905"
      },
      "source": [
        "x = np.linspace(0,30,3)\n",
        "print(\"Vetor: \" + str(x)+\" com Shape: \"+ str(x.shape))"
      ],
      "execution_count": 10,
      "outputs": [
        {
          "output_type": "stream",
          "text": [
            "Vetor: [ 0. 15. 30.] com Shape: (3,)\n"
          ],
          "name": "stdout"
        }
      ]
    },
    {
      "cell_type": "markdown",
      "metadata": {
        "id": "Io0d5B1nb4aO",
        "colab_type": "text"
      },
      "source": [
        "* Criar Matriz identidade:\n",
        " * É aquela matriz quadrada com apenas a diagonal principal com 1.\n",
        "  * np.eye(dimensao)"
      ]
    },
    {
      "cell_type": "code",
      "metadata": {
        "id": "Db_QsGMwbaB8",
        "colab_type": "code",
        "colab": {
          "base_uri": "https://localhost:8080/",
          "height": 68
        },
        "outputId": "35a7a23a-4a4c-426d-d659-bca0f885ff8e"
      },
      "source": [
        "x = np.eye(3)\n",
        "print(\"M=\" + str(x)+\"          com Shape: \"+ str(x.shape))"
      ],
      "execution_count": 11,
      "outputs": [
        {
          "output_type": "stream",
          "text": [
            "M=[[1. 0. 0.]\n",
            " [0. 1. 0.]\n",
            " [0. 0. 1.]]          com Shape: (3, 3)\n"
          ],
          "name": "stdout"
        }
      ]
    },
    {
      "cell_type": "markdown",
      "metadata": {
        "id": "7WiFq-wNchQD",
        "colab_type": "text"
      },
      "source": [
        "* Array de números aleatórios\n",
        " * Valores uniformemente distribuidos no intervalo 0 e 1\n",
        "\n"
      ]
    },
    {
      "cell_type": "code",
      "metadata": {
        "id": "OVvVVCBVcLma",
        "colab_type": "code",
        "colab": {
          "base_uri": "https://localhost:8080/",
          "height": 68
        },
        "outputId": "4762e13f-75c7-44da-d553-4da486a8773d"
      },
      "source": [
        "x = np.random.random(size=(3,3))\n",
        "print(\"M=\" + str(x)+\"          com Shape: \"+ str(x.shape))"
      ],
      "execution_count": 12,
      "outputs": [
        {
          "output_type": "stream",
          "text": [
            "M=[[0.99297735 0.34691253 0.26008787]\n",
            " [0.91072011 0.76045298 0.76427442]\n",
            " [0.688389   0.65134536 0.24141047]]          com Shape: (3, 3)\n"
          ],
          "name": "stdout"
        }
      ]
    },
    {
      "cell_type": "code",
      "metadata": {
        "id": "I57VLO_zdQ_z",
        "colab_type": "code",
        "colab": {}
      },
      "source": [
        "np.random.seed?"
      ],
      "execution_count": 13,
      "outputs": []
    },
    {
      "cell_type": "markdown",
      "metadata": {
        "id": "rmHxZR8Fu2c5",
        "colab_type": "text"
      },
      "source": [
        "## Fatiar (To SLICE)\n",
        " * vetor[ inicio : fim ] == >pegaria de inicio até fim-1\n",
        " * vetor[ inicio : fim : passo] == >pegaria de inicio até fim-1, pulando elementos.\n",
        " - perceba que o **fim é exclusive** (não entra)\n",
        " * O Fatiamento faz na verdade um **compartilhamento de memória** e não uma cópia; se altero o elemento fatiado tem reflexo no original."
      ]
    },
    {
      "cell_type": "code",
      "metadata": {
        "id": "m29SQo8NuhYK",
        "colab_type": "code",
        "colab": {
          "base_uri": "https://localhost:8080/",
          "height": 51
        },
        "outputId": "5aa9894c-62ec-417d-bf6d-11a61932ea5b"
      },
      "source": [
        "linha = [0,1,2,3,4,5,6,7]\n",
        "linha1 = np.array(linha)  \n",
        "\n",
        "#Imprimindo os indices pares \n",
        "print(linha1[0:len(linha1):2])\n",
        "\n",
        "#Criei um elemento com base no array linha1\n",
        "a = linha1[2:5]\n",
        "#alterei um de seus elementos, com reflexo em linha1\n",
        "a[0]=9\n",
        "\n",
        "print(linha1)"
      ],
      "execution_count": 14,
      "outputs": [
        {
          "output_type": "stream",
          "text": [
            "[0 2 4 6]\n",
            "[0 1 9 3 4 5 6 7]\n"
          ],
          "name": "stdout"
        }
      ]
    },
    {
      "cell_type": "code",
      "metadata": {
        "id": "Q1UoV-AWvrZS",
        "colab_type": "code",
        "colab": {
          "base_uri": "https://localhost:8080/",
          "height": 51
        },
        "outputId": "ce6c8d97-3dfa-4442-e5a0-4c0e216c79d6"
      },
      "source": [
        "linha0 = [1,2,1]\n",
        "linha1 = [1,3,1]\n",
        "linha2= [9,8,7]\n",
        "Matriz= [linha0,linha1,linha2]\n",
        "Array_2D = np.array(Matriz) \n",
        "\n",
        "print(Array_2D[1:3,0:1])"
      ],
      "execution_count": 15,
      "outputs": [
        {
          "output_type": "stream",
          "text": [
            "[[1]\n",
            " [9]]\n"
          ],
          "name": "stdout"
        }
      ]
    },
    {
      "cell_type": "markdown",
      "metadata": {
        "id": "qp7EnwQg3qVA",
        "colab_type": "text"
      },
      "source": [
        "### Fatiar (To SLICE) COM CÓPIA"
      ]
    },
    {
      "cell_type": "code",
      "metadata": {
        "id": "fsp7XgjCxKa7",
        "colab_type": "code",
        "colab": {
          "base_uri": "https://localhost:8080/",
          "height": 51
        },
        "outputId": "b85b6cf5-7fb1-4037-8392-95215689da39"
      },
      "source": [
        "linha = [0,1,2,3,4,5,6,7]\n",
        "linha1 = np.array(linha)  \n",
        "\n",
        "#Criei um elemento com base no array linha1\n",
        "a = linha1[2:5].copy()\n",
        "#alterei um de seus elementos, com reflexo em linha1\n",
        "a[0]=9\n",
        "print(a)\n",
        "print(linha1)"
      ],
      "execution_count": 16,
      "outputs": [
        {
          "output_type": "stream",
          "text": [
            "[9 3 4]\n",
            "[0 1 2 3 4 5 6 7]\n"
          ],
          "name": "stdout"
        }
      ]
    },
    {
      "cell_type": "markdown",
      "metadata": {
        "id": "cdfY_po68MKw",
        "colab_type": "text"
      },
      "source": [
        "## Operações básicas\n",
        "* São feitas elemento a elemento;\n",
        "* elementos (arrays) devem ser de igual dimensão\n",
        "\n",
        " * SOMA: + ou *np.add*\n",
        " * SUBTRAÇÃO: - ou *np.subtract*\n",
        " * MULTIPLICAÇÃO: * ou *np.multiply* \n",
        "   * NÃO confundir com multiplicação vetorial\n",
        " * DIVISÃO: / ou *np.divide*"
      ]
    },
    {
      "cell_type": "code",
      "metadata": {
        "id": "G3MwLDxy9Ji8",
        "colab_type": "code",
        "colab": {}
      },
      "source": [
        "x = [1,2,3,4,5,6,7,8,9,10]\n",
        "x = np.array(x)  \n",
        "y = np.ones(10)"
      ],
      "execution_count": 17,
      "outputs": []
    },
    {
      "cell_type": "code",
      "metadata": {
        "id": "8qMOSLhj-zVe",
        "colab_type": "code",
        "colab": {
          "base_uri": "https://localhost:8080/",
          "height": 51
        },
        "outputId": "9af3038b-5bc4-4276-a523-22dd12b5bb3e"
      },
      "source": [
        "#z = x + y\n",
        "z1 = np.add(x,y)\n",
        "print (\"z1: \\n\",z1)"
      ],
      "execution_count": 18,
      "outputs": [
        {
          "output_type": "stream",
          "text": [
            "z1: \n",
            " [ 2.  3.  4.  5.  6.  7.  8.  9. 10. 11.]\n"
          ],
          "name": "stdout"
        }
      ]
    },
    {
      "cell_type": "code",
      "metadata": {
        "id": "UtW7V-yM-Sk2",
        "colab_type": "code",
        "colab": {
          "base_uri": "https://localhost:8080/",
          "height": 51
        },
        "outputId": "f87707f3-928f-4da4-8164-3867fe5d2475"
      },
      "source": [
        "#z2 = x - y\n",
        "z2 = np.subtract(x,y)\n",
        "print (\"z2: \\n\",z2)"
      ],
      "execution_count": 19,
      "outputs": [
        {
          "output_type": "stream",
          "text": [
            "z2: \n",
            " [0. 1. 2. 3. 4. 5. 6. 7. 8. 9.]\n"
          ],
          "name": "stdout"
        }
      ]
    },
    {
      "cell_type": "code",
      "metadata": {
        "id": "rY7jQEJJ-voX",
        "colab_type": "code",
        "colab": {
          "base_uri": "https://localhost:8080/",
          "height": 51
        },
        "outputId": "29a9dab6-b7ec-45b6-bf11-ed491ef37c53"
      },
      "source": [
        "z3 = x * (2*y)\n",
        "#z3 = np.multiply(x,y)\n",
        "print (\"z3: \\n\",z3)"
      ],
      "execution_count": 20,
      "outputs": [
        {
          "output_type": "stream",
          "text": [
            "z3: \n",
            " [ 2.  4.  6.  8. 10. 12. 14. 16. 18. 20.]\n"
          ],
          "name": "stdout"
        }
      ]
    },
    {
      "cell_type": "code",
      "metadata": {
        "id": "LIDN97oo-7G6",
        "colab_type": "code",
        "colab": {
          "base_uri": "https://localhost:8080/",
          "height": 51
        },
        "outputId": "9ccb0e10-e441-4c56-c713-702cb0614efd"
      },
      "source": [
        "z4 = x / (2*y)\n",
        "#z4 = np.divide(x,y)\n",
        "print (\"z4: \\n\",z4)"
      ],
      "execution_count": 21,
      "outputs": [
        {
          "output_type": "stream",
          "text": [
            "z4: \n",
            " [0.5 1.  1.5 2.  2.5 3.  3.5 4.  4.5 5. ]\n"
          ],
          "name": "stdout"
        }
      ]
    },
    {
      "cell_type": "markdown",
      "metadata": {
        "id": "U0mDo5CWAMR2",
        "colab_type": "text"
      },
      "source": [
        "## BROADCASTING: \n",
        "* Propaga a operação por todos elementos\n",
        "* pode ser útil para arrays grandes e com simetria.\n",
        "* Não funciona sempre. P.e. Não dá pra querer usar com um array de dimensão 2 e outro 5"
      ]
    },
    {
      "cell_type": "code",
      "metadata": {
        "id": "z_9jmF3j_eRn",
        "colab_type": "code",
        "colab": {}
      },
      "source": [
        "x = [1,2,3,4,5,6,7,8,9,10]\n",
        "x = np.array(x)\n",
        "# Ao inves de ter [5 5 5 5 5 5 5 5 5 5]     fiz apenas [5]\n",
        "y=[5]  \n",
        "y = np.array(y)"
      ],
      "execution_count": 22,
      "outputs": []
    },
    {
      "cell_type": "code",
      "metadata": {
        "colab_type": "code",
        "id": "CZz-tkO2Asfh",
        "colab": {
          "base_uri": "https://localhost:8080/",
          "height": 51
        },
        "outputId": "62862944-d2ea-4c29-95f0-53a14e3f6865"
      },
      "source": [
        "#z = x + y\n",
        "z1 = np.add(x,y)\n",
        "#Mas o resultado foi o mesmo de y = [5 5 5 5 5 5 5 5 5 5]\n",
        "print (\"z1:\\n\",z1)"
      ],
      "execution_count": 23,
      "outputs": [
        {
          "output_type": "stream",
          "text": [
            "z1:\n",
            " [ 6  7  8  9 10 11 12 13 14 15]\n"
          ],
          "name": "stdout"
        }
      ]
    },
    {
      "cell_type": "code",
      "metadata": {
        "id": "jzDJi_5MFAQa",
        "colab_type": "code",
        "colab": {
          "base_uri": "https://localhost:8080/",
          "height": 51
        },
        "outputId": "a2732bad-c9be-4466-dc1f-8671918d7aef"
      },
      "source": [
        "z2 = x + 5\n",
        "print(\"z2:\\n\",z2)"
      ],
      "execution_count": 24,
      "outputs": [
        {
          "output_type": "stream",
          "text": [
            "z2:\n",
            " [ 6  7  8  9 10 11 12 13 14 15]\n"
          ],
          "name": "stdout"
        }
      ]
    },
    {
      "cell_type": "markdown",
      "metadata": {
        "id": "VZtfynjxByS7",
        "colab_type": "text"
      },
      "source": [
        "## Multiplicação Matricial\n",
        "* Numpy: np.dot(x,y) ou x.dot(y)\n",
        "*Python: x @ y"
      ]
    },
    {
      "cell_type": "code",
      "metadata": {
        "id": "YeLjcw8lAplU",
        "colab_type": "code",
        "colab": {}
      },
      "source": [
        "x = [[1,2],[3,4]]\n",
        "x = np.array(x)\n",
        "\n",
        "y = np.ones((2,2))\n",
        "y = 2*y"
      ],
      "execution_count": 25,
      "outputs": []
    },
    {
      "cell_type": "code",
      "metadata": {
        "id": "kDU76Ci6CnT1",
        "colab_type": "code",
        "colab": {
          "base_uri": "https://localhost:8080/",
          "height": 0
        },
        "outputId": "42a38ae0-27ad-48d4-b674-6e0fdafa689b"
      },
      "source": [
        "#x @ y\n",
        "c = np.dot(x,y)\n",
        "print(\" x @ y : \\n\", c)"
      ],
      "execution_count": 26,
      "outputs": [
        {
          "output_type": "stream",
          "text": [
            " x @ y : \n",
            " [[ 6.  6.]\n",
            " [14. 14.]]\n"
          ],
          "name": "stdout"
        }
      ]
    },
    {
      "cell_type": "markdown",
      "metadata": {
        "id": "w5T2kmuqVO4D",
        "colab_type": "text"
      },
      "source": [
        "## Solução de sistemas lineares"
      ]
    },
    {
      "cell_type": "markdown",
      "metadata": {
        "id": "fN6PWAOHVSlQ",
        "colab_type": "text"
      },
      "source": [
        "* Por exemplo:\n",
        " * x + y = 8\n",
        " * 2x - y = -2\n",
        "\n",
        " * Monto o produto de Matrizes A * B = C\n",
        "  Multiplico à esquerda pela inversa de A, lembrando que uma matriz vezes a sua inversa gera a matriz identidade \n",
        "\n",
        "```\n",
        "B = inv(A)*C\n",
        "```\n",
        "\n"
      ]
    },
    {
      "cell_type": "code",
      "metadata": {
        "id": "tYR5KTd2CqR8",
        "colab_type": "code",
        "colab": {
          "base_uri": "https://localhost:8080/",
          "height": 119
        },
        "outputId": "40f8b169-ae9a-4a8b-caf3-169ec3f7af20"
      },
      "source": [
        "A = np.array([[1,1],[2,-1]])\n",
        "C = np.array([[8],[-2]])\n",
        "print(\"A: \\n\", A)\n",
        "print(\"C: \\n\", C)"
      ],
      "execution_count": 27,
      "outputs": [
        {
          "output_type": "stream",
          "text": [
            "A: \n",
            " [[ 1  1]\n",
            " [ 2 -1]]\n",
            "C: \n",
            " [[ 8]\n",
            " [-2]]\n"
          ],
          "name": "stdout"
        }
      ]
    },
    {
      "cell_type": "code",
      "metadata": {
        "id": "uWX5LTFtWUO_",
        "colab_type": "code",
        "colab": {
          "base_uri": "https://localhost:8080/",
          "height": 68
        },
        "outputId": "16423e38-bb9a-4d84-9a65-23b991e3563e"
      },
      "source": [
        "#Solução 1\n",
        "B = np.dot(np.linalg.inv(A),C) \n",
        "print(\"Solução B: \\n\", B)"
      ],
      "execution_count": 28,
      "outputs": [
        {
          "output_type": "stream",
          "text": [
            "Solução B: \n",
            " [[2.]\n",
            " [6.]]\n"
          ],
          "name": "stdout"
        }
      ]
    },
    {
      "cell_type": "code",
      "metadata": {
        "id": "0_AVo390Xm3n",
        "colab_type": "code",
        "colab": {
          "base_uri": "https://localhost:8080/",
          "height": 68
        },
        "outputId": "6edf2766-9f36-4520-c11b-a436d526a110"
      },
      "source": [
        "#Solução 2\n",
        "B = np.linalg.inv(A) @ C \n",
        "print(\"Solução B: \\n\", B)"
      ],
      "execution_count": 29,
      "outputs": [
        {
          "output_type": "stream",
          "text": [
            "Solução B: \n",
            " [[2.]\n",
            " [6.]]\n"
          ],
          "name": "stdout"
        }
      ]
    },
    {
      "cell_type": "markdown",
      "metadata": {
        "id": "asYCi6KQYBTf",
        "colab_type": "text"
      },
      "source": [
        "## Comparações entre Arrays\n",
        "* Elemento a elemento; ou\n",
        "* Broadcast\n",
        "\n",
        "\n",
        "```\n",
        "* > < <= >= ==   !=\n",
        "```\n",
        "\n",
        "\n",
        "\n"
      ]
    },
    {
      "cell_type": "code",
      "metadata": {
        "id": "060CaDNDXzYI",
        "colab_type": "code",
        "colab": {
          "base_uri": "https://localhost:8080/",
          "height": 85
        },
        "outputId": "5a32d17b-23ac-4482-f62a-40b1496e369b"
      },
      "source": [
        "A = np.array([7,8])\n",
        "#A = np.array([7,8,9,10])\n",
        "B = np.array([[6,18],[10,5]])\n",
        "#B = np.array([6,18,10,5])\n",
        "C = np.array([1])\n",
        "D=8\n",
        "print(\"A>B: \", A>B)\n",
        "print(\"A>C\", C==A)\n",
        "print(\"A>8\", A>D)"
      ],
      "execution_count": 30,
      "outputs": [
        {
          "output_type": "stream",
          "text": [
            "A>B:  [[ True False]\n",
            " [False  True]]\n",
            "A>C [False False]\n",
            "A>8 [False False]\n"
          ],
          "name": "stdout"
        }
      ]
    },
    {
      "cell_type": "markdown",
      "metadata": {
        "id": "MOfTOGTuqFyF",
        "colab_type": "text"
      },
      "source": [
        "## Indexação Booleana\n",
        "* traço uma condição lógica para um array, pego dele, só as posições em que a condição é True\n",
        "* Funciona uma espécie de filtro, onde extraio só os valores que tornam a condição verdadeira\n",
        "\n",
        "```\n",
        "Condição = array_velho condição\n",
        "novo_array = array_velho[Condição]\n",
        "```\n",
        "```\n",
        "Onde, condição:    > < <= >= ==   != \n",
        "```"
      ]
    },
    {
      "cell_type": "code",
      "metadata": {
        "id": "LFweMQEqo9CL",
        "colab_type": "code",
        "colab": {
          "base_uri": "https://localhost:8080/",
          "height": 51
        },
        "outputId": "37a1f2cb-28ba-424a-e4a1-e79a772a2d03"
      },
      "source": [
        "A = np.array([7,8,8,10])\n",
        "condicao = A != 8\n",
        "B = A[condicao]\n",
        "print(\"B: \\n\", B)"
      ],
      "execution_count": 31,
      "outputs": [
        {
          "output_type": "stream",
          "text": [
            "B: \n",
            " [ 7 10]\n"
          ],
          "name": "stdout"
        }
      ]
    },
    {
      "cell_type": "markdown",
      "metadata": {
        "id": "aPCPXjHdu0bV",
        "colab_type": "text"
      },
      "source": [
        "## Outras Operações"
      ]
    },
    {
      "cell_type": "code",
      "metadata": {
        "id": "mD_OpOFkv52L",
        "colab_type": "code",
        "colab": {}
      },
      "source": [
        "A = np.array([1,2,3,4,5,6,7,8])\n",
        "A2 = np.array([[1,2,3],[4,5,6],[7,8,9]])"
      ],
      "execution_count": 32,
      "outputs": []
    },
    {
      "cell_type": "markdown",
      "metadata": {
        "id": "AfR1nj-7vsj9",
        "colab_type": "text"
      },
      "source": [
        "### RESHAPE"
      ]
    },
    {
      "cell_type": "code",
      "metadata": {
        "id": "42AmSnGYq2kE",
        "colab_type": "code",
        "colab": {
          "base_uri": "https://localhost:8080/",
          "height": 68
        },
        "outputId": "44ddf27b-6f0f-4ea0-b924-a42dabf41a44"
      },
      "source": [
        "B = A.reshape(2,4)\n",
        "print(\"B: \\n\", B)"
      ],
      "execution_count": 33,
      "outputs": [
        {
          "output_type": "stream",
          "text": [
            "B: \n",
            " [[1 2 3 4]\n",
            " [5 6 7 8]]\n"
          ],
          "name": "stdout"
        }
      ]
    },
    {
      "cell_type": "markdown",
      "metadata": {
        "id": "U2Ve3DNUvw6k",
        "colab_type": "text"
      },
      "source": [
        "### Matriz Transpostas\n",
        "* Cuidado pois a matriz linha **não** vira matriz coluna (difere da definição clássica de transposição, mas pra matriz quadrada dá certo)"
      ]
    },
    {
      "cell_type": "code",
      "metadata": {
        "id": "bDZS9VhLvTK7",
        "colab_type": "code",
        "colab": {
          "base_uri": "https://localhost:8080/",
          "height": 85
        },
        "outputId": "5dcd718c-6fc3-42dc-c779-42fac700e5d7"
      },
      "source": [
        "B = A2.T\n",
        "print(\"B: \\n\", B)"
      ],
      "execution_count": 34,
      "outputs": [
        {
          "output_type": "stream",
          "text": [
            "B: \n",
            " [[1 4 7]\n",
            " [2 5 8]\n",
            " [3 6 9]]\n"
          ],
          "name": "stdout"
        }
      ]
    },
    {
      "cell_type": "code",
      "metadata": {
        "id": "D1knPj9hwKxa",
        "colab_type": "code",
        "colab": {}
      },
      "source": [
        "#Entendendo mais com o HELP\n",
        "A.T?"
      ],
      "execution_count": 35,
      "outputs": []
    },
    {
      "cell_type": "markdown",
      "metadata": {
        "id": "lFwlnISJx3oD",
        "colab_type": "text"
      },
      "source": [
        "### Função soma (sum)\n",
        "* Dois formas de se chamas *array.sum()* ou *np.sum(array)*\n",
        "* Opções de Soma:\n",
        " \n",
        " 1. Somar todos elementos;\n",
        " 2. Somar em cada eixo (linhas ou colunas) "
      ]
    },
    {
      "cell_type": "code",
      "metadata": {
        "id": "91y8Q8E0wx9p",
        "colab_type": "code",
        "colab": {
          "base_uri": "https://localhost:8080/",
          "height": 51
        },
        "outputId": "e2bde68d-fd8f-4f04-aa05-afe2192e3691"
      },
      "source": [
        "print(A.sum())\n",
        "print(np.sum(A2))"
      ],
      "execution_count": 36,
      "outputs": [
        {
          "output_type": "stream",
          "text": [
            "36\n",
            "45\n"
          ],
          "name": "stdout"
        }
      ]
    },
    {
      "cell_type": "code",
      "metadata": {
        "id": "7SIMA5MeyA8R",
        "colab_type": "code",
        "colab": {
          "base_uri": "https://localhost:8080/",
          "height": 85
        },
        "outputId": "49169e6f-aea2-4aa2-ace1-a59ce769efb5"
      },
      "source": [
        "#Axis=0, \"juntou todas linhas em uma só\"\n",
        "print(\"axis=0 : \\n\", A2.sum(axis=0))\n",
        "#Axis=1, \"juntou todas colunas em uma só\"\n",
        "print(\"axis=1 : \\n\",np.sum(A2,axis=1))"
      ],
      "execution_count": 37,
      "outputs": [
        {
          "output_type": "stream",
          "text": [
            "axis=0 : \n",
            " [12 15 18]\n",
            "axis=1 : \n",
            " [ 6 15 24]\n"
          ],
          "name": "stdout"
        }
      ]
    },
    {
      "cell_type": "markdown",
      "metadata": {
        "colab_type": "text",
        "id": "VNkLg6S4zqSf"
      },
      "source": [
        "### Função média (mean)\n",
        "* Dois formas de se chamas *array.mean()* ou *np.mean(array)*\n",
        "* Opções de Soma:\n",
        " \n",
        " 1. Média de todos elementos;\n",
        " 2. Média em cada eixo (linhas ou colunas) \n",
        "\n",
        "* Outras funções similares, mediana (median)"
      ]
    },
    {
      "cell_type": "code",
      "metadata": {
        "colab_type": "code",
        "id": "4qVyZ9C4z1v6",
        "colab": {
          "base_uri": "https://localhost:8080/",
          "height": 51
        },
        "outputId": "021884cf-3831-437d-c6e8-8f485c5b01bd"
      },
      "source": [
        "print(A.mean())\n",
        "print(np.mean(A2))"
      ],
      "execution_count": 38,
      "outputs": [
        {
          "output_type": "stream",
          "text": [
            "4.5\n",
            "5.0\n"
          ],
          "name": "stdout"
        }
      ]
    },
    {
      "cell_type": "code",
      "metadata": {
        "colab_type": "code",
        "id": "7gl16myOz5D9",
        "colab": {
          "base_uri": "https://localhost:8080/",
          "height": 85
        },
        "outputId": "b3bbc204-a4eb-4f44-b0a9-c27809a2fcfc"
      },
      "source": [
        "#Axis=0, \"juntou todas linhas em uma só\"\n",
        "print(\"axis=0 : \\n\", A2.mean(axis=0))\n",
        "#Axis=1, \"juntou todas colunas em uma só\"\n",
        "print(\"axis=1 : \\n\",np.mean(A2,axis=1))"
      ],
      "execution_count": 39,
      "outputs": [
        {
          "output_type": "stream",
          "text": [
            "axis=0 : \n",
            " [4. 5. 6.]\n",
            "axis=1 : \n",
            " [2. 5. 8.]\n"
          ],
          "name": "stdout"
        }
      ]
    },
    {
      "cell_type": "markdown",
      "metadata": {
        "id": "ajOEHd3f0qJP",
        "colab_type": "text"
      },
      "source": [
        "### Localizar (Where)\n",
        "* retorna a tupla onde a condição é atendida"
      ]
    },
    {
      "cell_type": "code",
      "metadata": {
        "id": "kSH2WNYzy_2m",
        "colab_type": "code",
        "colab": {
          "base_uri": "https://localhost:8080/",
          "height": 85
        },
        "outputId": "62b1ea8a-5533-42b7-b732-b10d04e66586"
      },
      "source": [
        "A2 = np.array([[1,2,3],[4,5,6],[7,8,9]])\n",
        "condicao = A2> 4\n",
        "i,j = np.where(condicao)\n",
        "print(\"indices linha: \\n\", i)\n",
        "print(\"indices coluna: \\n\", j)"
      ],
      "execution_count": 40,
      "outputs": [
        {
          "output_type": "stream",
          "text": [
            "indices linha: \n",
            " [1 1 2 2 2]\n",
            "indices coluna: \n",
            " [1 2 0 1 2]\n"
          ],
          "name": "stdout"
        }
      ]
    }
  ]
}
