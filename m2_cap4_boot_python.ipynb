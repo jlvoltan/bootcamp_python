{
  "nbformat": 4,
  "nbformat_minor": 0,
  "metadata": {
    "colab": {
      "name": "m2_cap4_boot_python.ipynb",
      "provenance": [],
      "collapsed_sections": [
        "_JFcXRadPxo5",
        "8t9v1M8ddVS9"
      ],
      "authorship_tag": "ABX9TyN5jkjTGQtSp5WPr5N/+aCZ",
      "include_colab_link": true
    },
    "kernelspec": {
      "name": "python3",
      "display_name": "Python 3"
    }
  },
  "cells": [
    {
      "cell_type": "markdown",
      "metadata": {
        "id": "view-in-github",
        "colab_type": "text"
      },
      "source": [
        "<a href=\"https://colab.research.google.com/github/jlvoltan/bootcamp_python/blob/master/m2_cap4_boot_python.ipynb\" target=\"_parent\"><img src=\"https://colab.research.google.com/assets/colab-badge.svg\" alt=\"Open In Colab\"/></a>"
      ]
    },
    {
      "cell_type": "markdown",
      "metadata": {
        "id": "jSarrbcpbAzk",
        "colab_type": "text"
      },
      "source": [
        "# **Módulo 2 - Cap 4 - Bootcamp PYTHON**\n",
        "*Atualizado em 30 JUL 2020* \n",
        "\n",
        "*jlvoltan*"
      ]
    },
    {
      "cell_type": "markdown",
      "metadata": {
        "id": "TS7oIbftbL6s",
        "colab_type": "text"
      },
      "source": [
        "# **Inteligência Artificial**"
      ]
    },
    {
      "cell_type": "markdown",
      "metadata": {
        "id": "AwyCJZSibidY",
        "colab_type": "text"
      },
      "source": [
        "* Ideia de aprender com os exemplos\n",
        " * Supervisionado e não-supervisionado. \n",
        " \n",
        "* _\"Seu modelo é tão bom quanto forem os dados que o alimentam\"_\n",
        "*  **scikit-learn**: framework voltado para IA\n",
        "  * Implementa algoritmos de Classificação, regressão, redução de dimensionalidade, seleção de modelos, agrupamento e pré-processamento.\n",
        "  * `pip install scikit-learn ou conda install scikit-learn`\n",
        "  * Por ser uma biblioteca muito grande, normalmente, se importa módulo a módulo. Além disso o nome no import é *sklearn*\n",
        "    * `from sklearn.preprocessing import LabelEncoder`\n",
        "  * Possui dataset de exemplo\n",
        "\n"
      ]
    },
    {
      "cell_type": "markdown",
      "metadata": {
        "id": "R3u8JuhIgpGo",
        "colab_type": "text"
      },
      "source": [
        "# Problemas de Classificação"
      ]
    },
    {
      "cell_type": "markdown",
      "metadata": {
        "id": "S4YwHKCkg4Xn",
        "colab_type": "text"
      },
      "source": [
        "* Temos amostras com suas características (features), separadas em classes (variável discreta).\n",
        "* Fronteira de decisão\n",
        "* Classificado binário (2 classes)"
      ]
    },
    {
      "cell_type": "code",
      "metadata": {
        "id": "qRkLcZMJa7Ff",
        "colab_type": "code",
        "colab": {}
      },
      "source": [
        "import pandas as pd\n",
        "import numpy as np\n",
        "from sklearn.preprocessing import LabelEncoder #estamos importando uma Classe\n",
        "from sklearn.linear_model import LogisticRegression #estamos importando uma Classe"
      ],
      "execution_count": 1,
      "outputs": []
    },
    {
      "cell_type": "code",
      "metadata": {
        "id": "viqEQGISgniy",
        "colab_type": "code",
        "colab": {
          "base_uri": "https://localhost:8080/",
          "height": 235
        },
        "outputId": "a69dbc39-e05f-4bec-a3e8-29e1ba3f5998"
      },
      "source": [
        "arquivo_csv = pd.read_csv(\"http://pycourse.s3.amazonaws.com/temperature.csv\")\n",
        "arquivo_csv"
      ],
      "execution_count": 2,
      "outputs": [
        {
          "output_type": "execute_result",
          "data": {
            "text/html": [
              "<div>\n",
              "<style scoped>\n",
              "    .dataframe tbody tr th:only-of-type {\n",
              "        vertical-align: middle;\n",
              "    }\n",
              "\n",
              "    .dataframe tbody tr th {\n",
              "        vertical-align: top;\n",
              "    }\n",
              "\n",
              "    .dataframe thead th {\n",
              "        text-align: right;\n",
              "    }\n",
              "</style>\n",
              "<table border=\"1\" class=\"dataframe\">\n",
              "  <thead>\n",
              "    <tr style=\"text-align: right;\">\n",
              "      <th></th>\n",
              "      <th>date</th>\n",
              "      <th>temperatura</th>\n",
              "      <th>classification</th>\n",
              "    </tr>\n",
              "  </thead>\n",
              "  <tbody>\n",
              "    <tr>\n",
              "      <th>0</th>\n",
              "      <td>2020-01-01</td>\n",
              "      <td>29.1</td>\n",
              "      <td>quente</td>\n",
              "    </tr>\n",
              "    <tr>\n",
              "      <th>1</th>\n",
              "      <td>2020-02-01</td>\n",
              "      <td>31.2</td>\n",
              "      <td>muito quente</td>\n",
              "    </tr>\n",
              "    <tr>\n",
              "      <th>2</th>\n",
              "      <td>2020-03-01</td>\n",
              "      <td>28.5</td>\n",
              "      <td>quente</td>\n",
              "    </tr>\n",
              "    <tr>\n",
              "      <th>3</th>\n",
              "      <td>2020-04-01</td>\n",
              "      <td>28.0</td>\n",
              "      <td>quente</td>\n",
              "    </tr>\n",
              "    <tr>\n",
              "      <th>4</th>\n",
              "      <td>2020-05-01</td>\n",
              "      <td>24.0</td>\n",
              "      <td>confortavel</td>\n",
              "    </tr>\n",
              "    <tr>\n",
              "      <th>5</th>\n",
              "      <td>2020-06-01</td>\n",
              "      <td>20.0</td>\n",
              "      <td>frio</td>\n",
              "    </tr>\n",
              "  </tbody>\n",
              "</table>\n",
              "</div>"
            ],
            "text/plain": [
              "         date  temperatura classification\n",
              "0  2020-01-01         29.1         quente\n",
              "1  2020-02-01         31.2   muito quente\n",
              "2  2020-03-01         28.5         quente\n",
              "3  2020-04-01         28.0         quente\n",
              "4  2020-05-01         24.0    confortavel\n",
              "5  2020-06-01         20.0           frio"
            ]
          },
          "metadata": {
            "tags": []
          },
          "execution_count": 2
        }
      ]
    },
    {
      "cell_type": "code",
      "metadata": {
        "id": "mFEf4AJ7F5v3",
        "colab_type": "code",
        "colab": {
          "base_uri": "https://localhost:8080/",
          "height": 255
        },
        "outputId": "26b68bf1-a265-4537-b14e-ddb67111976a"
      },
      "source": [
        "x, y = arquivo_csv[['temperatura']].values, arquivo_csv[['classification']].values\n",
        "print(\"x:\"+ str(type(x)) +\" \\n\"+ str(x))\n",
        "print(\"y :\"+ str(type(y)) +\" \\n\"+ str(y))"
      ],
      "execution_count": 3,
      "outputs": [
        {
          "output_type": "stream",
          "text": [
            "x:<class 'numpy.ndarray'> \n",
            "[[29.1]\n",
            " [31.2]\n",
            " [28.5]\n",
            " [28. ]\n",
            " [24. ]\n",
            " [20. ]]\n",
            "y :<class 'numpy.ndarray'> \n",
            "[['quente']\n",
            " ['muito quente']\n",
            " ['quente']\n",
            " ['quente']\n",
            " ['confortavel']\n",
            " ['frio']]\n"
          ],
          "name": "stdout"
        }
      ]
    },
    {
      "cell_type": "code",
      "metadata": {
        "id": "R9aeG3m4GxBd",
        "colab_type": "code",
        "colab": {
          "base_uri": "https://localhost:8080/",
          "height": 51
        },
        "outputId": "103a6c86-49fc-404c-d03e-e1dcdbbe09b5"
      },
      "source": [
        "# Pré processamento\n",
        "#from sklearn.preprocessing import LabelEncoder\n",
        "#codifica a string como int\n",
        "\n",
        "le = LabelEncoder() \n",
        "\n",
        "#Método fit transform da classe LabelEncoder\n",
        "#Estamos associando cada classe a um int, p.e.  quente =3 muito quente = 2 ...\n",
        "y= le.fit_transform(y.ravel())\n",
        "print(\"y :\"+ str(type(y)) +\" \\n\"+ str(y))"
      ],
      "execution_count": 4,
      "outputs": [
        {
          "output_type": "stream",
          "text": [
            "y :<class 'numpy.ndarray'> \n",
            "[3 2 3 3 0 1]\n"
          ],
          "name": "stdout"
        }
      ]
    },
    {
      "cell_type": "markdown",
      "metadata": {
        "id": "fhBe5MiIPe4b",
        "colab_type": "text"
      },
      "source": [
        "## **Modelo de classificação - Regressão logistica**"
      ]
    },
    {
      "cell_type": "code",
      "metadata": {
        "id": "Bt54GIxCJQKM",
        "colab_type": "code",
        "colab": {
          "base_uri": "https://localhost:8080/",
          "height": 102
        },
        "outputId": "8d568a22-970f-4345-be86-93942e9d63ec"
      },
      "source": [
        "# Modelo de classificação - Regressão logistica\n",
        "from sklearn.linear_model import LogisticRegression #estamos importando uma Classe\n",
        "\n",
        "classificador = LogisticRegression()\n",
        "classificador.fit(x,y)   # Treinamento do classificador, similar a encontrar os coef. da reta para a regressão linear"
      ],
      "execution_count": 5,
      "outputs": [
        {
          "output_type": "execute_result",
          "data": {
            "text/plain": [
              "LogisticRegression(C=1.0, class_weight=None, dual=False, fit_intercept=True,\n",
              "                   intercept_scaling=1, l1_ratio=None, max_iter=100,\n",
              "                   multi_class='auto', n_jobs=None, penalty='l2',\n",
              "                   random_state=None, solver='lbfgs', tol=0.0001, verbose=0,\n",
              "                   warm_start=False)"
            ]
          },
          "metadata": {
            "tags": []
          },
          "execution_count": 5
        }
      ]
    },
    {
      "cell_type": "code",
      "metadata": {
        "id": "UgbHEMsBKqER",
        "colab_type": "code",
        "colab": {}
      },
      "source": [
        "# Estamos gerando valores por extrapolação para as temperaturas entre -10 e 50\n",
        "# Serão preditos 150 valores linearmente espaçados\n",
        "x_teste = np.linspace(start=-10, stop=50,num=150).reshape(-1,1)\n",
        "y_pred = classificador.predict(x_teste)"
      ],
      "execution_count": 6,
      "outputs": []
    },
    {
      "cell_type": "code",
      "metadata": {
        "id": "TsMzNUXgf8rc",
        "colab_type": "code",
        "colab": {
          "base_uri": "https://localhost:8080/",
          "height": 136
        },
        "outputId": "bf3d63f6-4566-49cd-f487-b63a08b25845"
      },
      "source": [
        "#Vamos imprimir o valor da temperatura e o valor y previsto\n",
        "print(\"Previsões:\")\n",
        "for a,b in zip(x_teste,y_pred):\n",
        "  print(\" Valor de x: \" + str(a) + \"---+--- Valor de y: \" + str(b))\n",
        "  if(a>-8):break #apenas para não poluir a tela com mt informação, imprimi só até -8ºC"
      ],
      "execution_count": 7,
      "outputs": [
        {
          "output_type": "stream",
          "text": [
            "Previsões:\n",
            " Valor de x: [-10.]---+--- Valor de y: 1\n",
            " Valor de x: [-9.59731544]---+--- Valor de y: 1\n",
            " Valor de x: [-9.19463087]---+--- Valor de y: 1\n",
            " Valor de x: [-8.79194631]---+--- Valor de y: 1\n",
            " Valor de x: [-8.38926174]---+--- Valor de y: 1\n",
            " Valor de x: [-7.98657718]---+--- Valor de y: 1\n"
          ],
          "name": "stdout"
        }
      ]
    },
    {
      "cell_type": "code",
      "metadata": {
        "id": "MMBowGbkgCxQ",
        "colab_type": "code",
        "colab": {
          "base_uri": "https://localhost:8080/",
          "height": 34
        },
        "outputId": "023445a8-f36d-4703-92f7-85f8e93e27aa"
      },
      "source": [
        "#Voltar a classificação de int para string\n",
        "# Caminho inverso ao pre-processamento\n",
        "y_pred = le.inverse_transform(y_pred)\n",
        "print(type(y_pred))"
      ],
      "execution_count": 8,
      "outputs": [
        {
          "output_type": "stream",
          "text": [
            "<class 'numpy.ndarray'>\n"
          ],
          "name": "stdout"
        }
      ]
    },
    {
      "cell_type": "code",
      "metadata": {
        "colab_type": "code",
        "id": "tIVuslfJNxgI",
        "colab": {
          "base_uri": "https://localhost:8080/",
          "height": 136
        },
        "outputId": "ef7aa71c-0499-4e51-b8ce-207d5a2df6a7"
      },
      "source": [
        "#Vamos imprimir o valor da temperatura e o valor y previsto\n",
        "print(\"Previsões:\")\n",
        "for a,b in zip(x_teste,y_pred):\n",
        "  print(\" Valor de x: \" + str(a) + \"---+--- Valor de y: \" + str(b))\n",
        "  if(a>-8):break #apenas para não poluir a tela com mt informação, imprimi só até -8ºC"
      ],
      "execution_count": 9,
      "outputs": [
        {
          "output_type": "stream",
          "text": [
            "Previsões:\n",
            " Valor de x: [-10.]---+--- Valor de y: frio\n",
            " Valor de x: [-9.59731544]---+--- Valor de y: frio\n",
            " Valor de x: [-9.19463087]---+--- Valor de y: frio\n",
            " Valor de x: [-8.79194631]---+--- Valor de y: frio\n",
            " Valor de x: [-8.38926174]---+--- Valor de y: frio\n",
            " Valor de x: [-7.98657718]---+--- Valor de y: frio\n"
          ],
          "name": "stdout"
        }
      ]
    },
    {
      "cell_type": "markdown",
      "metadata": {
        "id": "_JFcXRadPxo5",
        "colab_type": "text"
      },
      "source": [
        "### **Convertendo para um dataframe**\n",
        "* 2 **numpy.array** irão virar um **dataframe**\n",
        "* Serão duas colunas: temperatura e previsão_de_classificação\n"
      ]
    },
    {
      "cell_type": "code",
      "metadata": {
        "id": "sAl8vxaSNryv",
        "colab_type": "code",
        "colab": {}
      },
      "source": [
        "data_frame_previsao = {'Temperatura': x_teste.ravel(), 'previsao_classificacao': y_pred.ravel()}\n",
        "data_frame_previsao = pd.DataFrame(data_frame_previsao)"
      ],
      "execution_count": 10,
      "outputs": []
    },
    {
      "cell_type": "markdown",
      "metadata": {
        "id": "8t9v1M8ddVS9",
        "colab_type": "text"
      },
      "source": [
        "### **Gráfico, estatística e tudo que um dataframe permite**"
      ]
    },
    {
      "cell_type": "markdown",
      "metadata": {
        "id": "wqLfbFFhRRZU",
        "colab_type": "text"
      },
      "source": [
        "* Com um dataframe, temos diversas opções:\n",
        "  * head(), tail( ) == > Verificar extremos\n",
        "  * info(), describe() ==> análise dos dados e estatísticas\n",
        "  * Diversos gráficos\n"
      ]
    },
    {
      "cell_type": "code",
      "metadata": {
        "id": "NXeGBpvLRAHE",
        "colab_type": "code",
        "colab": {
          "base_uri": "https://localhost:8080/",
          "height": 204
        },
        "outputId": "aef66bac-5c5a-47dc-9a69-446349cdd724"
      },
      "source": [
        "data_frame_previsao.head()"
      ],
      "execution_count": 11,
      "outputs": [
        {
          "output_type": "execute_result",
          "data": {
            "text/html": [
              "<div>\n",
              "<style scoped>\n",
              "    .dataframe tbody tr th:only-of-type {\n",
              "        vertical-align: middle;\n",
              "    }\n",
              "\n",
              "    .dataframe tbody tr th {\n",
              "        vertical-align: top;\n",
              "    }\n",
              "\n",
              "    .dataframe thead th {\n",
              "        text-align: right;\n",
              "    }\n",
              "</style>\n",
              "<table border=\"1\" class=\"dataframe\">\n",
              "  <thead>\n",
              "    <tr style=\"text-align: right;\">\n",
              "      <th></th>\n",
              "      <th>Temperatura</th>\n",
              "      <th>previsao_classificacao</th>\n",
              "    </tr>\n",
              "  </thead>\n",
              "  <tbody>\n",
              "    <tr>\n",
              "      <th>0</th>\n",
              "      <td>-10.000000</td>\n",
              "      <td>frio</td>\n",
              "    </tr>\n",
              "    <tr>\n",
              "      <th>1</th>\n",
              "      <td>-9.597315</td>\n",
              "      <td>frio</td>\n",
              "    </tr>\n",
              "    <tr>\n",
              "      <th>2</th>\n",
              "      <td>-9.194631</td>\n",
              "      <td>frio</td>\n",
              "    </tr>\n",
              "    <tr>\n",
              "      <th>3</th>\n",
              "      <td>-8.791946</td>\n",
              "      <td>frio</td>\n",
              "    </tr>\n",
              "    <tr>\n",
              "      <th>4</th>\n",
              "      <td>-8.389262</td>\n",
              "      <td>frio</td>\n",
              "    </tr>\n",
              "  </tbody>\n",
              "</table>\n",
              "</div>"
            ],
            "text/plain": [
              "   Temperatura previsao_classificacao\n",
              "0   -10.000000                   frio\n",
              "1    -9.597315                   frio\n",
              "2    -9.194631                   frio\n",
              "3    -8.791946                   frio\n",
              "4    -8.389262                   frio"
            ]
          },
          "metadata": {
            "tags": []
          },
          "execution_count": 11
        }
      ]
    },
    {
      "cell_type": "code",
      "metadata": {
        "id": "X5jW9p5ORcyT",
        "colab_type": "code",
        "colab": {
          "base_uri": "https://localhost:8080/",
          "height": 204
        },
        "outputId": "0d2c63ce-29e8-43ad-9f0f-263efbd7619f"
      },
      "source": [
        "data_frame_previsao.tail()"
      ],
      "execution_count": 12,
      "outputs": [
        {
          "output_type": "execute_result",
          "data": {
            "text/html": [
              "<div>\n",
              "<style scoped>\n",
              "    .dataframe tbody tr th:only-of-type {\n",
              "        vertical-align: middle;\n",
              "    }\n",
              "\n",
              "    .dataframe tbody tr th {\n",
              "        vertical-align: top;\n",
              "    }\n",
              "\n",
              "    .dataframe thead th {\n",
              "        text-align: right;\n",
              "    }\n",
              "</style>\n",
              "<table border=\"1\" class=\"dataframe\">\n",
              "  <thead>\n",
              "    <tr style=\"text-align: right;\">\n",
              "      <th></th>\n",
              "      <th>Temperatura</th>\n",
              "      <th>previsao_classificacao</th>\n",
              "    </tr>\n",
              "  </thead>\n",
              "  <tbody>\n",
              "    <tr>\n",
              "      <th>145</th>\n",
              "      <td>48.389262</td>\n",
              "      <td>muito quente</td>\n",
              "    </tr>\n",
              "    <tr>\n",
              "      <th>146</th>\n",
              "      <td>48.791946</td>\n",
              "      <td>muito quente</td>\n",
              "    </tr>\n",
              "    <tr>\n",
              "      <th>147</th>\n",
              "      <td>49.194631</td>\n",
              "      <td>muito quente</td>\n",
              "    </tr>\n",
              "    <tr>\n",
              "      <th>148</th>\n",
              "      <td>49.597315</td>\n",
              "      <td>muito quente</td>\n",
              "    </tr>\n",
              "    <tr>\n",
              "      <th>149</th>\n",
              "      <td>50.000000</td>\n",
              "      <td>muito quente</td>\n",
              "    </tr>\n",
              "  </tbody>\n",
              "</table>\n",
              "</div>"
            ],
            "text/plain": [
              "     Temperatura previsao_classificacao\n",
              "145    48.389262           muito quente\n",
              "146    48.791946           muito quente\n",
              "147    49.194631           muito quente\n",
              "148    49.597315           muito quente\n",
              "149    50.000000           muito quente"
            ]
          },
          "metadata": {
            "tags": []
          },
          "execution_count": 12
        }
      ]
    },
    {
      "cell_type": "code",
      "metadata": {
        "id": "oan2oqf3Rl-_",
        "colab_type": "code",
        "colab": {
          "base_uri": "https://localhost:8080/",
          "height": 170
        },
        "outputId": "08e5421d-d0b6-4e4d-e1f7-d965f5209beb"
      },
      "source": [
        "data_frame_previsao.info()"
      ],
      "execution_count": 13,
      "outputs": [
        {
          "output_type": "stream",
          "text": [
            "<class 'pandas.core.frame.DataFrame'>\n",
            "RangeIndex: 150 entries, 0 to 149\n",
            "Data columns (total 2 columns):\n",
            " #   Column                  Non-Null Count  Dtype  \n",
            "---  ------                  --------------  -----  \n",
            " 0   Temperatura             150 non-null    float64\n",
            " 1   previsao_classificacao  150 non-null    object \n",
            "dtypes: float64(1), object(1)\n",
            "memory usage: 2.5+ KB\n"
          ],
          "name": "stdout"
        }
      ]
    },
    {
      "cell_type": "markdown",
      "metadata": {
        "id": "S740P-FTVmON",
        "colab_type": "text"
      },
      "source": [
        "* Vendo a quantidade de elementos em cada classe\n"
      ]
    },
    {
      "cell_type": "code",
      "metadata": {
        "id": "jTbp7ma6hsTr",
        "colab_type": "code",
        "colab": {
          "base_uri": "https://localhost:8080/",
          "height": 102
        },
        "outputId": "ebb606cf-fff9-47d9-a1a1-88d63f7ae7cf"
      },
      "source": [
        "# Vendo a quantidade de elementos em cada classe\n",
        "data_frame_previsao['previsao_classificacao'].value_counts()"
      ],
      "execution_count": 14,
      "outputs": [
        {
          "output_type": "execute_result",
          "data": {
            "text/plain": [
              "frio            81\n",
              "muito quente    48\n",
              "quente          15\n",
              "confortavel      6\n",
              "Name: previsao_classificacao, dtype: int64"
            ]
          },
          "metadata": {
            "tags": []
          },
          "execution_count": 14
        }
      ]
    },
    {
      "cell_type": "code",
      "metadata": {
        "id": "m87wUsx1R7BY",
        "colab_type": "code",
        "colab": {
          "base_uri": "https://localhost:8080/",
          "height": 320
        },
        "outputId": "0340e841-bf42-4e2f-9c0d-72f81ca29472"
      },
      "source": [
        "data_frame_previsao['previsao_classificacao'].value_counts().plot.bar(figsize=(10,5), rot=0);"
      ],
      "execution_count": 15,
      "outputs": [
        {
          "output_type": "display_data",
          "data": {
            "image/png": "[encoded data removed]",
            "text/plain": [
              "<Figure size 720x360 with 1 Axes>"
            ]
          },
          "metadata": {
            "tags": [],
            "needs_background": "light"
          }
        }
      ]
    },
    {
      "cell_type": "code",
      "metadata": {
        "id": "XaEtdUAPSOmf",
        "colab_type": "code",
        "colab": {
          "base_uri": "https://localhost:8080/",
          "height": 411
        },
        "outputId": "04b851df-16f2-48bc-fef1-fc54d2bfbca9"
      },
      "source": [
        "data_frame_previsao['previsao_classificacao'].value_counts().plot.pie(autopct='%1.1f%%', shadow = True, figsize = (10,7));"
      ],
      "execution_count": 16,
      "outputs": [
        {
          "output_type": "display_data",
          "data": {
            "image/png": "[encoded data removed]",
            "text/plain": [
              "<Figure size 720x504 with 1 Axes>"
            ]
          },
          "metadata": {
            "tags": []
          }
        }
      ]
    },
    {
      "cell_type": "markdown",
      "metadata": {
        "id": "6QqotSVDWkms",
        "colab_type": "text"
      },
      "source": [
        "* Outras informações estatísticas sobre os dados previstos"
      ]
    },
    {
      "cell_type": "code",
      "metadata": {
        "id": "-9VEMCQ2RsK3",
        "colab_type": "code",
        "colab": {
          "base_uri": "https://localhost:8080/",
          "height": 297
        },
        "outputId": "7c1f5d67-8097-4ef1-b701-37a3ff7d1855"
      },
      "source": [
        "data_frame_previsao.describe()"
      ],
      "execution_count": 17,
      "outputs": [
        {
          "output_type": "execute_result",
          "data": {
            "text/html": [
              "<div>\n",
              "<style scoped>\n",
              "    .dataframe tbody tr th:only-of-type {\n",
              "        vertical-align: middle;\n",
              "    }\n",
              "\n",
              "    .dataframe tbody tr th {\n",
              "        vertical-align: top;\n",
              "    }\n",
              "\n",
              "    .dataframe thead th {\n",
              "        text-align: right;\n",
              "    }\n",
              "</style>\n",
              "<table border=\"1\" class=\"dataframe\">\n",
              "  <thead>\n",
              "    <tr style=\"text-align: right;\">\n",
              "      <th></th>\n",
              "      <th>Temperatura</th>\n",
              "    </tr>\n",
              "  </thead>\n",
              "  <tbody>\n",
              "    <tr>\n",
              "      <th>count</th>\n",
              "      <td>150.000000</td>\n",
              "    </tr>\n",
              "    <tr>\n",
              "      <th>mean</th>\n",
              "      <td>20.000000</td>\n",
              "    </tr>\n",
              "    <tr>\n",
              "      <th>std</th>\n",
              "      <td>17.494779</td>\n",
              "    </tr>\n",
              "    <tr>\n",
              "      <th>min</th>\n",
              "      <td>-10.000000</td>\n",
              "    </tr>\n",
              "    <tr>\n",
              "      <th>25%</th>\n",
              "      <td>5.000000</td>\n",
              "    </tr>\n",
              "    <tr>\n",
              "      <th>50%</th>\n",
              "      <td>20.000000</td>\n",
              "    </tr>\n",
              "    <tr>\n",
              "      <th>75%</th>\n",
              "      <td>35.000000</td>\n",
              "    </tr>\n",
              "    <tr>\n",
              "      <th>max</th>\n",
              "      <td>50.000000</td>\n",
              "    </tr>\n",
              "  </tbody>\n",
              "</table>\n",
              "</div>"
            ],
            "text/plain": [
              "       Temperatura\n",
              "count   150.000000\n",
              "mean     20.000000\n",
              "std      17.494779\n",
              "min     -10.000000\n",
              "25%       5.000000\n",
              "50%      20.000000\n",
              "75%      35.000000\n",
              "max      50.000000"
            ]
          },
          "metadata": {
            "tags": []
          },
          "execution_count": 17
        }
      ]
    },
    {
      "cell_type": "markdown",
      "metadata": {
        "id": "MoEYuSPpVrBb",
        "colab_type": "text"
      },
      "source": [
        "* Gráfico do tipo boxplot\n",
        " * Mostra os quartis da cada classe\n",
        " * Mín, Máx, Mediana"
      ]
    },
    {
      "cell_type": "code",
      "metadata": {
        "id": "4QIOIXR6UT9A",
        "colab_type": "code",
        "colab": {
          "base_uri": "https://localhost:8080/",
          "height": 362
        },
        "outputId": "d2738eff-e7bb-4f86-a9da-b5b3ee71f1be"
      },
      "source": [
        "data_frame_previsao.boxplot(by='previsao_classificacao', figsize=(10,5));"
      ],
      "execution_count": 18,
      "outputs": [
        {
          "output_type": "display_data",
          "data": {
            "image/png": "[encoded data removed]",
            "text/plain": [
              "<Figure size 720x360 with 1 Axes>"
            ]
          },
          "metadata": {
            "tags": [],
            "needs_background": "light"
          }
        }
      ]
    },
    {
      "cell_type": "markdown",
      "metadata": {
        "id": "EAkogVzVXpa0",
        "colab_type": "text"
      },
      "source": [
        "###Usando o modelo proposto\n",
        "* ideia de montar uma função em que se receba a temperatura, e com base no classificador montado, se responda a qual classe ela pertenceria"
      ]
    },
    {
      "cell_type": "code",
      "metadata": {
        "id": "Oi6waDNVV6-W",
        "colab_type": "code",
        "colab": {}
      },
      "source": [
        "def classificacao_preditiva_temp(nova_temp):\n",
        "  #Transformando o float em um nump array\n",
        "  nova_temp = np.array(nova_temp).reshape(-1,1)\n",
        "  \n",
        "  #Usando o classificador para decobrir a qual classe (int) pertence\n",
        "  classe_temp = classificador.predict(nova_temp)\n",
        "\n",
        "  # Converter a classe de int para a categoria\n",
        "  classe_temp = le.inverse_transform(classe_temp)\n",
        "\n",
        "  return classe_temp"
      ],
      "execution_count": 19,
      "outputs": []
    },
    {
      "cell_type": "code",
      "metadata": {
        "id": "lvv4cqqQbCHq",
        "colab_type": "code",
        "colab": {
          "base_uri": "https://localhost:8080/",
          "height": 85
        },
        "outputId": "a7a9b1e9-18e0-41bd-9dc0-ffa160356ef3"
      },
      "source": [
        "loop = 1\n",
        "while loop:\n",
        "  temp = float(input(\"Digite a temperatura atual em ºC: \"))\n",
        "  a= classificacao_preditiva_temp(temp)\n",
        "  print(\"Agora está: \",a)\n",
        "  loop= int(input(\"Deseja informar outra temperatura?\\n 1- Sim 0-Não:  \"))"
      ],
      "execution_count": 20,
      "outputs": [
        {
          "output_type": "stream",
          "text": [
            "Digite a temperatura atual em ºC: 10\n",
            "Agora está:  ['frio']\n",
            "Deseja informar outra temperatura?\n",
            " 1- Sim 0-Não:  0\n"
          ],
          "name": "stdout"
        }
      ]
    }
  ]
}