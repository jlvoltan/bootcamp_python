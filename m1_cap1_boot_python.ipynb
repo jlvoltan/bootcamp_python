{
  "nbformat": 4,
  "nbformat_minor": 0,
  "metadata": {
    "colab": {
      "name": "m1_cap1_boot_python.ipynb",
      "provenance": [],
      "collapsed_sections": [
        "Lkitke61-63N",
        "k1pOJI34Axzi"
      ],
      "authorship_tag": "ABX9TyMUJIrKT/dC1bWnD2mDKpyb",
      "include_colab_link": true
    },
    "kernelspec": {
      "name": "python3",
      "display_name": "Python 3"
    }
  },
  "cells": [
    {
      "cell_type": "markdown",
      "metadata": {
        "id": "view-in-github",
        "colab_type": "text"
      },
      "source": [
        "<a href=\"https://colab.research.google.com/github/jlvoltan/bootcamp_python/blob/master/m1_cap1_boot_python.ipynb\" target=\"_parent\"><img src=\"https://colab.research.google.com/assets/colab-badge.svg\" alt=\"Open In Colab\"/></a>"
      ]
    },
    {
      "cell_type": "markdown",
      "metadata": {
        "id": "_awPVEMC2qMH",
        "colab_type": "text"
      },
      "source": [
        "# **Módulo 1 - Cap1 - Bootcamp PYTHON**\n",
        "*Atualizado em 24 JUL 2020*"
      ]
    },
    {
      "cell_type": "markdown",
      "metadata": {
        "id": "yBHGioB7Tode",
        "colab_type": "text"
      },
      "source": [
        "## **Entrada e saída de dados**\n"
      ]
    },
    {
      "cell_type": "markdown",
      "metadata": {
        "id": "KaewHpUYTz2t",
        "colab_type": "text"
      },
      "source": [
        "*  Entrada de dados\n",
        "  * É a forma como ocorre a interação entre programa e usuário"
      ]
    },
    {
      "cell_type": "code",
      "metadata": {
        "id": "LH1xB4zqT3IO",
        "colab_type": "code",
        "colab": {
          "base_uri": "https://localhost:8080/",
          "height": 51
        },
        "outputId": "e1361606-85ca-4dce-bf3e-8a4169b3b74d"
      },
      "source": [
        "idade_str = input('Digite sua idade: ')\n",
        "idade = int(idade_str)\n",
        "print(type(idade))"
      ],
      "execution_count": 4,
      "outputs": [
        {
          "output_type": "stream",
          "text": [
            "Digite sua idade: 25\n",
            "<class 'int'>\n"
          ],
          "name": "stdout"
        }
      ]
    },
    {
      "cell_type": "markdown",
      "metadata": {
        "id": "I7u_tJLoT2Eu",
        "colab_type": "text"
      },
      "source": [
        "* **Saída**\n",
        "  * Como podemos exibir mensagens e resultados para o usuário (print)\n",
        "\n",
        "![texto alternativo](https://drive.google.com/uc?id=1RAqHbWxRY5llvqgC3-nolnRsAmofIhPH)"
      ]
    },
    {
      "cell_type": "code",
      "metadata": {
        "id": "UwLV2Vi9PGMa",
        "colab_type": "code",
        "colab": {
          "base_uri": "https://localhost:8080/",
          "height": 34
        },
        "outputId": "c29d3240-98bd-4bb1-bd4d-828d01cf7241"
      },
      "source": [
        "# Usando .format()\n",
        "variavel = 20\n",
        "print(\"O valor a ser substituido é {}\".format(variavel))"
      ],
      "execution_count": 5,
      "outputs": [
        {
          "output_type": "stream",
          "text": [
            "O valor a ser substituido é 20\n"
          ],
          "name": "stdout"
        }
      ]
    },
    {
      "cell_type": "markdown",
      "metadata": {
        "id": "meFqwprf2rzm",
        "colab_type": "text"
      },
      "source": [
        "## **Posição de memória de uma variável**"
      ]
    },
    {
      "cell_type": "code",
      "metadata": {
        "id": "BGLTZEJl2pZk",
        "colab_type": "code",
        "colab": {
          "base_uri": "https://localhost:8080/",
          "height": 34
        },
        "outputId": "758b1bb8-293a-4198-91a0-94977864bbff"
      },
      "source": [
        "a=10\n",
        "posicao = id(a)\n",
        "print(\"Posição de memória: \" + str(posicao) + \" ou \" + str(hex(posicao)))"
      ],
      "execution_count": 6,
      "outputs": [
        {
          "output_type": "stream",
          "text": [
            "Posição de memória: 10914784 ou 0xa68be0\n"
          ],
          "name": "stdout"
        }
      ]
    },
    {
      "cell_type": "markdown",
      "metadata": {
        "id": "DCkIaPmD42yg",
        "colab_type": "text"
      },
      "source": [
        "* *Observando como se comporta ao alterar o valor de uma variável*\n",
        "> * Duas variáveis com mesmo valor apresentam mesmo endereço de memória\n",
        "\n"
      ]
    },
    {
      "cell_type": "code",
      "metadata": {
        "id": "JFWIy7NY43A9",
        "colab_type": "code",
        "colab": {
          "base_uri": "https://localhost:8080/",
          "height": 51
        },
        "outputId": "415430c3-1a79-4b40-85db-e8c156f0ae87"
      },
      "source": [
        "a=10\n",
        "b=10\n",
        "posicao = id(a)\n",
        "posicao2 = id(b)\n",
        "print(\"Posição de memória de a: \" + str(posicao) + \" ou \" + str(hex(posicao)))\n",
        "print(\"Posição de memória de b: \" + str(posicao) + \" ou \" + str(hex(posicao2)))"
      ],
      "execution_count": 7,
      "outputs": [
        {
          "output_type": "stream",
          "text": [
            "Posição de memória de a: 10914784 ou 0xa68be0\n",
            "Posição de memória de b: 10914784 ou 0xa68be0\n"
          ],
          "name": "stdout"
        }
      ]
    },
    {
      "cell_type": "markdown",
      "metadata": {
        "id": "BkSdGr_687Jk",
        "colab_type": "text"
      },
      "source": [
        "> * Ao se alterar o valor da variável, uma nova posição é alocada.\n"
      ]
    },
    {
      "cell_type": "code",
      "metadata": {
        "id": "opwvOgy485SP",
        "colab_type": "code",
        "colab": {
          "base_uri": "https://localhost:8080/",
          "height": 34
        },
        "outputId": "b8cd6b90-ca20-4368-f2e2-8f4576335e86"
      },
      "source": [
        "a=10\n",
        "posicao1 = id(a)\n",
        "a=20\n",
        "posicao2 = id(a)\n",
        "print(\"Posição de memória de a ANTES: \" + str(posicao1) + \" DEPOIS: \" + str(posicao2))"
      ],
      "execution_count": 8,
      "outputs": [
        {
          "output_type": "stream",
          "text": [
            "Posição de memória de a ANTES: 10914784 DEPOIS: 10915104\n"
          ],
          "name": "stdout"
        }
      ]
    },
    {
      "cell_type": "markdown",
      "metadata": {
        "id": "Hj5iUtPKqC2-",
        "colab_type": "text"
      },
      "source": [
        "## **Alguns tipos especiais** :"
      ]
    },
    {
      "cell_type": "markdown",
      "metadata": {
        "colab_type": "text",
        "id": "_vNfouW0D3n4"
      },
      "source": [
        "## **Listas**\n",
        "* Mutáveis, elementos de diferentes tipos, ordenada.\n",
        "* ['a','b',5,2.0]\n",
        "* Percorrer uma lista\n",
        " * Lista[start:stop:step]\n",
        "  * P.e. Lista = VOLTAN    Lista[::-1] me retorna NATLOV"
      ]
    },
    {
      "cell_type": "code",
      "metadata": {
        "id": "wB72DmmvELa2",
        "colab_type": "code",
        "colab": {
          "base_uri": "https://localhost:8080/",
          "height": 34
        },
        "outputId": "517937f5-936d-4e4e-f096-cd48a81a1f76"
      },
      "source": [
        "lista = [10,'ola', 10.2]\n",
        "print(type(lista))"
      ],
      "execution_count": 9,
      "outputs": [
        {
          "output_type": "stream",
          "text": [
            "<class 'list'>\n"
          ],
          "name": "stdout"
        }
      ]
    },
    {
      "cell_type": "code",
      "metadata": {
        "id": "woTAs9vCJ5MN",
        "colab_type": "code",
        "colab": {
          "base_uri": "https://localhost:8080/",
          "height": 34
        },
        "outputId": "dc9d59a4-6c56-48c8-ae17-57c3aa60bfe4"
      },
      "source": [
        "print(lista)"
      ],
      "execution_count": 10,
      "outputs": [
        {
          "output_type": "stream",
          "text": [
            "[10, 'ola', 10.2]\n"
          ],
          "name": "stdout"
        }
      ]
    },
    {
      "cell_type": "markdown",
      "metadata": {
        "id": "bIxaRVDWIwdN",
        "colab_type": "text"
      },
      "source": [
        "* Adicionar elementos na lista\n",
        "\n"
      ]
    },
    {
      "cell_type": "code",
      "metadata": {
        "id": "jw4Iz8YlIwzj",
        "colab_type": "code",
        "colab": {}
      },
      "source": [
        "#.APPEND()      passo elemento\n",
        "lista.append(\"ultimo\")\n",
        "#.INSERT()      passo posição e elemento\n",
        "lista.insert(0,\"primeiro\")\n",
        "#.EXTEND    passo uma lista\n",
        "lista.extend([\"depois do ultimo\", 20,50])"
      ],
      "execution_count": 11,
      "outputs": []
    },
    {
      "cell_type": "markdown",
      "metadata": {
        "id": "uyeUOJfwLFBu",
        "colab_type": "text"
      },
      "source": [
        "* Removendo elementos da lista"
      ]
    },
    {
      "cell_type": "code",
      "metadata": {
        "id": "2dEhu-7rLI8T",
        "colab_type": "code",
        "colab": {
          "base_uri": "https://localhost:8080/",
          "height": 51
        },
        "outputId": "f8a3c1c1-0566-42d1-f6cd-2405444aff38"
      },
      "source": [
        "#.REMOVE()  passo elemento\n",
        "lista.remove(50)\n",
        "#.POP()   ele me retorna e remove o último elemento\n",
        "a=lista.pop()\n",
        "print(a)\n",
        "#.POP()  se passo a posição do elemento, ele retorna e remove o elemento\n",
        "b=lista.pop(0)\n",
        "print(b)"
      ],
      "execution_count": 12,
      "outputs": [
        {
          "output_type": "stream",
          "text": [
            "20\n",
            "primeiro\n"
          ],
          "name": "stdout"
        }
      ]
    },
    {
      "cell_type": "markdown",
      "metadata": {
        "id": "55CkSe8NeqfD",
        "colab_type": "text"
      },
      "source": [
        "### Outras funções de listas\n",
        "1. Lista.reverse()   == >troca a ordem pelo inverso\n",
        "2. Lista.sort()  == > ordenar lista\n",
        "3. Lista.sort(reverse=True)   == > ordena na ordem decrescente\n",
        "4. Lista.count(‘fulano’) == > conta qnts vezes fulano aparece na lista\n",
        "5. Lista.index(‘fulano’) == > retorna o índice de fulano na lista (1ª ocorrência)\n",
        "6. Lista.clear()   == > apaga todos elementos da lista\n",
        "\n",
        "* Mais voltados para String\n",
        "7. Lista = lista.split(\" \") ==> separa usando o ponto onde aparece o espaço\n",
        "8. Lista = lista.replace(\"de\",\" \") ==> Substitui o de por espaço. "
      ]
    },
    {
      "cell_type": "markdown",
      "metadata": {
        "id": "Lkitke61-63N",
        "colab_type": "text"
      },
      "source": [
        "## **Tuplas**\n",
        "* Imutáveis, elementos de diferentes tipos, ordenada.\n",
        "* ('a','b',5,2.0)\n"
      ]
    },
    {
      "cell_type": "code",
      "metadata": {
        "id": "J-ojfBUW_IKh",
        "colab_type": "code",
        "colab": {
          "base_uri": "https://localhost:8080/",
          "height": 0
        },
        "outputId": "82181f0b-8884-4a21-92c2-530515e40856"
      },
      "source": [
        "tupla = (10,'ola', 10.2)\n",
        "print(type(tupla))"
      ],
      "execution_count": 13,
      "outputs": [
        {
          "output_type": "stream",
          "text": [
            "<class 'tuple'>\n"
          ],
          "name": "stdout"
        }
      ]
    },
    {
      "cell_type": "code",
      "metadata": {
        "id": "bn1y81Sj_IU4",
        "colab_type": "code",
        "colab": {
          "base_uri": "https://localhost:8080/",
          "height": 0
        },
        "outputId": "a44c6818-b7ca-402f-f8db-aadb3329579e"
      },
      "source": [
        "print(tupla)"
      ],
      "execution_count": 14,
      "outputs": [
        {
          "output_type": "stream",
          "text": [
            "(10, 'ola', 10.2)\n"
          ],
          "name": "stdout"
        }
      ]
    },
    {
      "cell_type": "markdown",
      "metadata": {
        "id": "4YYtn_Ie_H1i",
        "colab_type": "text"
      },
      "source": [
        "* Criar tupla a partir de lista"
      ]
    },
    {
      "cell_type": "code",
      "metadata": {
        "id": "jWzswzboAybA",
        "colab_type": "code",
        "colab": {
          "base_uri": "https://localhost:8080/",
          "height": 0
        },
        "outputId": "e482b849-cf1c-49f2-9f2f-4fe63c331140"
      },
      "source": [
        "# tuple()      passa-se uma lista e retorna-se uma tupla\n",
        "lista = [10,'ola', 10.2]\n",
        "tupla2 = tuple(lista)\n",
        "print(tupla2)\n",
        "tupla3 = tuple(\"IME\") #passando uma String, cada letra vira um elemento da tupla\n",
        "print(tupla3)"
      ],
      "execution_count": 15,
      "outputs": [
        {
          "output_type": "stream",
          "text": [
            "(10, 'ola', 10.2)\n",
            "('I', 'M', 'E')\n"
          ],
          "name": "stdout"
        }
      ]
    },
    {
      "cell_type": "markdown",
      "metadata": {
        "id": "k1pOJI34Axzi",
        "colab_type": "text"
      },
      "source": [
        "## **Conjuntos**\n",
        "* Mutáveis, elementos de diferentes tipos, **DESORDENADO** (não usa índice), sem elemento duplicado.\n",
        "* {'a','b',5,2.0}"
      ]
    },
    {
      "cell_type": "markdown",
      "metadata": {
        "id": "72bTvIQ5_H_h",
        "colab_type": "text"
      },
      "source": [
        "* Criação"
      ]
    },
    {
      "cell_type": "code",
      "metadata": {
        "id": "6sP-6QTpGsFP",
        "colab_type": "code",
        "colab": {
          "base_uri": "https://localhost:8080/",
          "height": 0
        },
        "outputId": "d224732b-ea19-42b9-96fc-67a04282b0fc"
      },
      "source": [
        "conjunto = {10,'ola', 10.2}\n",
        "print(type(conjunto))\n",
        "print(conjunto)\n",
        "\n",
        "conjunto2 = set([10,'ola', 10.2])\n",
        "print(type(conjunto2))\n",
        "print(conjunto2)"
      ],
      "execution_count": 16,
      "outputs": [
        {
          "output_type": "stream",
          "text": [
            "<class 'set'>\n",
            "{'ola', 10, 10.2}\n",
            "<class 'set'>\n",
            "{'ola', 10, 10.2}\n"
          ],
          "name": "stdout"
        }
      ]
    },
    {
      "cell_type": "markdown",
      "metadata": {
        "id": "QwzKLrgxGnu3",
        "colab_type": "text"
      },
      "source": [
        "* Adicionando elementos"
      ]
    },
    {
      "cell_type": "code",
      "metadata": {
        "id": "HVS41L4gICn9",
        "colab_type": "code",
        "colab": {
          "base_uri": "https://localhost:8080/",
          "height": 0
        },
        "outputId": "70e3f986-503d-4749-c0ea-e0bf1d95b11b"
      },
      "source": [
        "# .add()        passo o elemento que quero adicionar\n",
        "conjunto.add('adicionei')\n",
        "print(conjunto)\n",
        "\n",
        "# .update()    passo uma lista com os elementos a adicionar\n",
        "conjunto.update([1,2,3])\n",
        "print(conjunto)"
      ],
      "execution_count": 17,
      "outputs": [
        {
          "output_type": "stream",
          "text": [
            "{'ola', 10, 10.2, 'adicionei'}\n",
            "{'ola', 1, 2, 3, 10, 10.2, 'adicionei'}\n"
          ],
          "name": "stdout"
        }
      ]
    },
    {
      "cell_type": "markdown",
      "metadata": {
        "id": "SDzVASaBJNtQ",
        "colab_type": "text"
      },
      "source": [
        "* Acessando elementos\n"
      ]
    },
    {
      "cell_type": "code",
      "metadata": {
        "id": "3UdL1adnIofX",
        "colab_type": "code",
        "colab": {
          "base_uri": "https://localhost:8080/",
          "height": 0
        },
        "outputId": "81fcaa8f-a570-44e4-dd58-aecc30646649"
      },
      "source": [
        "#laço for\n",
        "for elemento in conjunto:\n",
        "  print(elemento, end=\" - \")"
      ],
      "execution_count": 18,
      "outputs": [
        {
          "output_type": "stream",
          "text": [
            "ola - 1 - 2 - 3 - 10 - 10.2 - adicionei - "
          ],
          "name": "stdout"
        }
      ]
    },
    {
      "cell_type": "code",
      "metadata": {
        "id": "X3DnSOFrJcY1",
        "colab_type": "code",
        "colab": {
          "base_uri": "https://localhost:8080/",
          "height": 0
        },
        "outputId": "e889cc5d-943c-4c46-d15e-49714b4f23a8"
      },
      "source": [
        "# teste (elemento in conjunto)\n",
        "elemento = 50\n",
        "print(elemento in conjunto)"
      ],
      "execution_count": 19,
      "outputs": [
        {
          "output_type": "stream",
          "text": [
            "False\n"
          ],
          "name": "stdout"
        }
      ]
    },
    {
      "cell_type": "markdown",
      "metadata": {
        "id": "4Oxv9RuPKNry",
        "colab_type": "text"
      },
      "source": [
        "* Remover elementos"
      ]
    },
    {
      "cell_type": "code",
      "metadata": {
        "id": "YCwEFVThKPvV",
        "colab_type": "code",
        "colab": {
          "base_uri": "https://localhost:8080/",
          "height": 0
        },
        "outputId": "d08ab650-825c-48bc-fa24-24a928f96a99"
      },
      "source": [
        "# .remove()\n",
        "conjunto.remove(10)\n",
        "\n",
        "# .discard()\n",
        "conjunto.discard(10.2)\n",
        "\n",
        "# .pop()   retorna o mais a esquerda\n",
        "conjunto.pop()"
      ],
      "execution_count": 20,
      "outputs": [
        {
          "output_type": "execute_result",
          "data": {
            "application/vnd.google.colaboratory.intrinsic+json": {
              "type": "string"
            },
            "text/plain": [
              "'ola'"
            ]
          },
          "metadata": {
            "tags": []
          },
          "execution_count": 20
        }
      ]
    },
    {
      "cell_type": "markdown",
      "metadata": {
        "id": "h0TP30SMLGSr",
        "colab_type": "text"
      },
      "source": [
        "* operações entre conjuntos"
      ]
    },
    {
      "cell_type": "code",
      "metadata": {
        "id": "vyOuX3zHKTsl",
        "colab_type": "code",
        "colab": {
          "base_uri": "https://localhost:8080/",
          "height": 0
        },
        "outputId": "0984fb56-c72b-4115-9998-3b163f3f6b2b"
      },
      "source": [
        "conjunto_a = {'a','b','c'}\n",
        "conujunto_b = {'a','b','d'}\n",
        "\n",
        "#UNIÃO\n",
        "conjunto_uniao = conjunto_a.union(conujunto_b)\n",
        "print(\"UNIÃO: \",conjunto_uniao)\n",
        "\n",
        "#INTERSECÇÃO\n",
        "conjunto_interseccao = conjunto_a.intersection(conujunto_b)\n",
        "print(\"INTERSECÇÃO: \",conjunto_interseccao)\n",
        "\n",
        "#DIFERENÇA\n",
        "conjunto_diferenca = conjunto_a.difference(conujunto_b)\n",
        "print(\"DIFERENÇA: \",conjunto_diferenca)\n",
        "\n",
        "#DIFERENÇA SIMÉTRICA\n",
        "conjunto_diferencaS = conjunto_a.symmetric_difference(conujunto_b)\n",
        "print(\"DIFERENÇA SIMÉTRICA: \",conjunto_diferencaS)\n",
        "\n"
      ],
      "execution_count": 21,
      "outputs": [
        {
          "output_type": "stream",
          "text": [
            "UNIÃO:  {'d', 'c', 'a', 'b'}\n",
            "INTERSECÇÃO:  {'a', 'b'}\n",
            "DIFERENÇA:  {'c'}\n",
            "DIFERENÇA SIMÉTRICA:  {'d', 'c'}\n"
          ],
          "name": "stdout"
        }
      ]
    },
    {
      "cell_type": "markdown",
      "metadata": {
        "id": "PM_JsOGaOL0p",
        "colab_type": "text"
      },
      "source": [
        "## **Dicionário**\n",
        "* Chave -- > Valor\n",
        "* Mutáveis, elementos de diferentes tipos, **DESORDENADO** (não usa índice), unicidade da chave.\n",
        "* {1:'a', 2:'b', 3:5, 4:2.0}\n",
        "\n",
        "* Em um dicionário posso usar como chave uma tupla l=(1,2,3), mas não uma lista  l=[1,2,3]."
      ]
    },
    {
      "cell_type": "markdown",
      "metadata": {
        "id": "l0phaZmhO3aJ",
        "colab_type": "text"
      },
      "source": [
        "* Criação\n"
      ]
    },
    {
      "cell_type": "code",
      "metadata": {
        "id": "MlO5P732Ovjz",
        "colab_type": "code",
        "colab": {
          "base_uri": "https://localhost:8080/",
          "height": 119
        },
        "outputId": "61b6a684-9643-4777-d860-ddc683650f12"
      },
      "source": [
        "dicionario = {1:10,'a':'ola', 3:10.2}\n",
        "print(type(dicionario))\n",
        "print(dicionario)\n",
        "\n",
        "dicionario2 = dict({1:'a', 2:'b'})\n",
        "print(type(dicionario2))\n",
        "print(dicionario2)\n",
        "\n",
        "dicionario3 = dict([(1,'a'), (2,'b')])\n",
        "print(type(dicionario3))\n",
        "print(dicionario3)"
      ],
      "execution_count": 22,
      "outputs": [
        {
          "output_type": "stream",
          "text": [
            "<class 'dict'>\n",
            "{1: 10, 'a': 'ola', 3: 10.2}\n",
            "<class 'dict'>\n",
            "{1: 'a', 2: 'b'}\n",
            "<class 'dict'>\n",
            "{1: 'a', 2: 'b'}\n"
          ],
          "name": "stdout"
        }
      ]
    },
    {
      "cell_type": "markdown",
      "metadata": {
        "id": "kbpShhqtP8Qj",
        "colab_type": "text"
      },
      "source": [
        "* Adicionando Chave-valor"
      ]
    },
    {
      "cell_type": "code",
      "metadata": {
        "id": "aLbNIt3WP-ks",
        "colab_type": "code",
        "colab": {
          "base_uri": "https://localhost:8080/",
          "height": 34
        },
        "outputId": "9752c2e8-b5f3-4e25-910e-77bd67e1e85d"
      },
      "source": [
        "dicionario['chave'] = 'valor'\n",
        "print(dicionario)"
      ],
      "execution_count": 23,
      "outputs": [
        {
          "output_type": "stream",
          "text": [
            "{1: 10, 'a': 'ola', 3: 10.2, 'chave': 'valor'}\n"
          ],
          "name": "stdout"
        }
      ]
    },
    {
      "cell_type": "markdown",
      "metadata": {
        "id": "jAlcv54WQNlI",
        "colab_type": "text"
      },
      "source": [
        "* Atualizando valor"
      ]
    },
    {
      "cell_type": "code",
      "metadata": {
        "id": "0SsZQKSwQQic",
        "colab_type": "code",
        "colab": {
          "base_uri": "https://localhost:8080/",
          "height": 34
        },
        "outputId": "2011897f-aa0f-453f-a6f0-62b64ba372cc"
      },
      "source": [
        "dicionario['chave'] = 'valor_novo'\n",
        "print(dicionario)"
      ],
      "execution_count": 24,
      "outputs": [
        {
          "output_type": "stream",
          "text": [
            "{1: 10, 'a': 'ola', 3: 10.2, 'chave': 'valor_novo'}\n"
          ],
          "name": "stdout"
        }
      ]
    },
    {
      "cell_type": "markdown",
      "metadata": {
        "id": "kemrjQJzQhx4",
        "colab_type": "text"
      },
      "source": [
        "* Acessando valor"
      ]
    },
    {
      "cell_type": "code",
      "metadata": {
        "id": "aKteimCFQkSk",
        "colab_type": "code",
        "colab": {
          "base_uri": "https://localhost:8080/",
          "height": 51
        },
        "outputId": "3e798514-4907-4142-ea3d-7218824a662d"
      },
      "source": [
        "# Através da chave\n",
        "print(dicionario['chave'])\n",
        "\n",
        "#método .get() passando a chave\n",
        "print(dicionario.get('chave'))"
      ],
      "execution_count": 25,
      "outputs": [
        {
          "output_type": "stream",
          "text": [
            "valor_novo\n",
            "valor_novo\n"
          ],
          "name": "stdout"
        }
      ]
    },
    {
      "cell_type": "markdown",
      "metadata": {
        "id": "DDAiP8sPRMHQ",
        "colab_type": "text"
      },
      "source": [
        "* Removendo elementos"
      ]
    },
    {
      "cell_type": "code",
      "metadata": {
        "id": "U4kSoZOvROvi",
        "colab_type": "code",
        "colab": {
          "base_uri": "https://localhost:8080/",
          "height": 85
        },
        "outputId": "bfcfe648-05d1-4152-8421-72aadf3ac80e"
      },
      "source": [
        "# del\n",
        "del dicionario['chave']\n",
        "print(dicionario)\n",
        "\n",
        "# pop()    passo a chave, retorna o valor removido\n",
        "a = dicionario.pop(1)\n",
        "print(a)\n",
        "\n",
        "#poopitem()   retorna o chave-valor removido\n",
        "b = dicionario.popitem()\n",
        "print(b)\n",
        "\n",
        "# clear()\n",
        "dicionario.clear()\n",
        "print(dicionario)"
      ],
      "execution_count": 26,
      "outputs": [
        {
          "output_type": "stream",
          "text": [
            "{1: 10, 'a': 'ola', 3: 10.2}\n",
            "10\n",
            "(3, 10.2)\n",
            "{}\n"
          ],
          "name": "stdout"
        }
      ]
    },
    {
      "cell_type": "markdown",
      "metadata": {
        "id": "FAKTsSbAgvuQ",
        "colab_type": "text"
      },
      "source": [
        "### Outras funções:\n",
        "1. *len(nomeDoDicionario)* =  Retorna o tamanho/ quantidade de chaves\n",
        "2. *nomeDoDicionario.keys()* = Retorna a lista de chaves\n",
        "3. *nomeDoDicionario.values()* = Retorna a lista de valores\n",
        "4. *Dicionario1.update(dicionario2)* = \tInsere as chaves/valores de dicionario2 em dicionario1."
      ]
    },
    {
      "cell_type": "markdown",
      "metadata": {
        "id": "gPI1CAenl6sp",
        "colab_type": "text"
      },
      "source": [
        "## **Empacotamento e Desempacotamento**\n",
        " lista = [1,2]\n",
        " \n",
        " funcao(*lista)\n",
        "\n"
      ]
    },
    {
      "cell_type": "markdown",
      "metadata": {
        "id": "qjCJJL-EmqFR",
        "colab_type": "text"
      },
      "source": [
        "## **Função zip()**\n",
        " * Junto duas listas ou tuplas, associando seus elementos, gerando um objeto tipo zi que pode ser convertido para um dicionário"
      ]
    },
    {
      "cell_type": "code",
      "metadata": {
        "id": "4K5LGi22m4nm",
        "colab_type": "code",
        "colab": {
          "base_uri": "https://localhost:8080/",
          "height": 68
        },
        "outputId": "e985f3a3-e5d7-40f7-9540-5b10a9ab9535"
      },
      "source": [
        "objetoZip = zip(('a','b','c'),(10,20,30))\n",
        "print(type(objetoZip))\n",
        "print(dict(objetoZip))\n",
        "print(type(dict(objetoZip)))"
      ],
      "execution_count": 27,
      "outputs": [
        {
          "output_type": "stream",
          "text": [
            "<class 'zip'>\n",
            "{'a': 10, 'b': 20, 'c': 30}\n",
            "<class 'dict'>\n"
          ],
          "name": "stdout"
        }
      ]
    },
    {
      "cell_type": "markdown",
      "metadata": {
        "id": "hRwhXbZ3cbiy",
        "colab_type": "text"
      },
      "source": [
        "## Nomenclaturas\n",
        "\n",
        "*   **Pacotes** e **Módulos** = Nomes pequenos e usar caracteres minúsculos.\n",
        "  * pack1\n",
        "\n",
        "*   **Classes** = Começar com letra maiúscula, palavra composta usar letra maiúscula.                         \n",
        " * ClasseDoJoao\n",
        "\n",
        "* **Funções** e **métodos** = Começar com letra minúscula, palavra composta usar _.                       \n",
        " * método_do_joao()\n",
        " \n",
        "* **Constantes** = Letra MAIÚSCULA\n",
        " * PI VALOR_MAXIMO\n",
        "\n",
        "* **Parametro** de função = Letra minúscula e _ para nome composto     \n",
        " * enviar(nome_remetente)\n",
        "\n"
      ]
    }
  ]
}