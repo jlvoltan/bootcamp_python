{
  "nbformat": 4,
  "nbformat_minor": 0,
  "metadata": {
    "colab": {
      "name": "m1_cap1_boot_python.ipynb",
      "provenance": [],
      "collapsed_sections": [
        "yBHGioB7Tode",
        "meFqwprf2rzm",
        "_vNfouW0D3n4",
        "Lkitke61-63N",
        "k1pOJI34Axzi",
        "PM_JsOGaOL0p"
      ],
      "authorship_tag": "ABX9TyPx+2GHGV6/VZZeYbnVN+ND",
      "include_colab_link": true
    },
    "kernelspec": {
      "name": "python3",
      "display_name": "Python 3"
    }
  },
  "cells": [
    {
      "cell_type": "markdown",
      "metadata": {
        "id": "view-in-github",
        "colab_type": "text"
      },
      "source": [
        "<a href=\"https://colab.research.google.com/github/jlvoltan/bootcamp_python/blob/master/m1_cap1_boot_python.ipynb\" target=\"_parent\"><img src=\"https://colab.research.google.com/assets/colab-badge.svg\" alt=\"Open In Colab\"/></a>"
      ]
    },
    {
      "cell_type": "markdown",
      "metadata": {
        "id": "_awPVEMC2qMH",
        "colab_type": "text"
      },
      "source": [
        "# **Módulo 1 - Cap1 - Bootcamp PYTHON**\n",
        "*Atualizado em 23 JUL 2020*"
      ]
    },
    {
      "cell_type": "markdown",
      "metadata": {
        "id": "yBHGioB7Tode",
        "colab_type": "text"
      },
      "source": [
        "## **Entrada e saída de dados**\n"
      ]
    },
    {
      "cell_type": "markdown",
      "metadata": {
        "id": "KaewHpUYTz2t",
        "colab_type": "text"
      },
      "source": [
        "*  Entrada de dados\n",
        "  * É a forma como ocorre a interação entre programa e usuário"
      ]
    },
    {
      "cell_type": "code",
      "metadata": {
        "id": "LH1xB4zqT3IO",
        "colab_type": "code",
        "colab": {
          "base_uri": "https://localhost:8080/",
          "height": 51
        },
        "outputId": "2ca92ac9-0016-4c37-a0ea-47240e10aa46"
      },
      "source": [
        " idade_str = input('Digite sua idade: ')\n",
        "idade = int(idade_str)\n",
        "print(type(idade))"
      ],
      "execution_count": 1,
      "outputs": [
        {
          "output_type": "stream",
          "text": [
            "Digite sua idade: 60\n",
            "<class 'int'>\n"
          ],
          "name": "stdout"
        }
      ]
    },
    {
      "cell_type": "markdown",
      "metadata": {
        "id": "I7u_tJLoT2Eu",
        "colab_type": "text"
      },
      "source": [
        "* **Saída**\n",
        "  * Como podemos exibir mensagens e resultados para o usuário (print)\n",
        "\n",
        "![texto alternativo](https://drive.google.com/uc?id=1RAqHbWxRY5llvqgC3-nolnRsAmofIhPH)"
      ]
    },
    {
      "cell_type": "code",
      "metadata": {
        "id": "UwLV2Vi9PGMa",
        "colab_type": "code",
        "colab": {
          "base_uri": "https://localhost:8080/",
          "height": 34
        },
        "outputId": "b16e333f-4409-4198-f47b-8a3631fd70d8"
      },
      "source": [
        "# Usando .format()\n",
        "variavel = 20\n",
        "print(\"O valor a ser substituido é {}\".format(variavel))"
      ],
      "execution_count": null,
      "outputs": [
        {
          "output_type": "stream",
          "text": [
            "O valor a ser substituido é 20\n"
          ],
          "name": "stdout"
        }
      ]
    },
    {
      "cell_type": "markdown",
      "metadata": {
        "id": "meFqwprf2rzm",
        "colab_type": "text"
      },
      "source": [
        "## **Posição de memória de uma variável**"
      ]
    },
    {
      "cell_type": "code",
      "metadata": {
        "id": "BGLTZEJl2pZk",
        "colab_type": "code",
        "colab": {
          "base_uri": "https://localhost:8080/",
          "height": 34
        },
        "outputId": "aeaef9da-0d32-4f9e-9787-09417859ad8b"
      },
      "source": [
        "a=10\n",
        "posicao = id(a)\n",
        "print(\"Posição de memória: \" + str(posicao) + \" ou \" + str(hex(posicao)))"
      ],
      "execution_count": null,
      "outputs": [
        {
          "output_type": "stream",
          "text": [
            "Posição de memória: 10914784 ou 0xa68be0\n"
          ],
          "name": "stdout"
        }
      ]
    },
    {
      "cell_type": "markdown",
      "metadata": {
        "id": "DCkIaPmD42yg",
        "colab_type": "text"
      },
      "source": [
        "* *Observando como se comporta ao alterar o valor de uma variável*\n",
        "> * Duas variáveis com mesmo valor apresentam mesmo endereço de memória\n",
        "\n"
      ]
    },
    {
      "cell_type": "code",
      "metadata": {
        "id": "JFWIy7NY43A9",
        "colab_type": "code",
        "colab": {
          "base_uri": "https://localhost:8080/",
          "height": 51
        },
        "outputId": "7a22b395-8f28-47de-e93d-970c2c34f619"
      },
      "source": [
        "a=10\n",
        "b=10\n",
        "posicao = id(a)\n",
        "posicao2 = id(b)\n",
        "print(\"Posição de memória de a: \" + str(posicao) + \" ou \" + str(hex(posicao)))\n",
        "print(\"Posição de memória de b: \" + str(posicao) + \" ou \" + str(hex(posicao2)))"
      ],
      "execution_count": null,
      "outputs": [
        {
          "output_type": "stream",
          "text": [
            "Posição de memória de a: 10914784 ou 0xa68be0\n",
            "Posição de memória de b: 10914784 ou 0xa68be0\n"
          ],
          "name": "stdout"
        }
      ]
    },
    {
      "cell_type": "markdown",
      "metadata": {
        "id": "BkSdGr_687Jk",
        "colab_type": "text"
      },
      "source": [
        "> * Ao se alterar o valor da variável, uma nova posição é alocada.\n"
      ]
    },
    {
      "cell_type": "code",
      "metadata": {
        "id": "opwvOgy485SP",
        "colab_type": "code",
        "colab": {
          "base_uri": "https://localhost:8080/",
          "height": 34
        },
        "outputId": "6003eb1c-0590-4001-c7af-fd03850786fd"
      },
      "source": [
        "a=10\n",
        "posicao1 = id(a)\n",
        "a=20\n",
        "posicao2 = id(a)\n",
        "print(\"Posição de memória de a ANTES: \" + str(posicao1) + \" DEPOIS: \" + str(posicao2))"
      ],
      "execution_count": null,
      "outputs": [
        {
          "output_type": "stream",
          "text": [
            "Posição de memória de a ANTES: 10914784 DEPOIS: 10915104\n"
          ],
          "name": "stdout"
        }
      ]
    },
    {
      "cell_type": "markdown",
      "metadata": {
        "id": "Hj5iUtPKqC2-",
        "colab_type": "text"
      },
      "source": [
        "## **Alguns tipos especiais** :"
      ]
    },
    {
      "cell_type": "markdown",
      "metadata": {
        "colab_type": "text",
        "id": "_vNfouW0D3n4"
      },
      "source": [
        "## **Listas**\n",
        "* Mutáveis, elementos de diferentes tipos, ordenada.\n",
        "* ['a','b',5,2.0]"
      ]
    },
    {
      "cell_type": "code",
      "metadata": {
        "id": "wB72DmmvELa2",
        "colab_type": "code",
        "colab": {
          "base_uri": "https://localhost:8080/",
          "height": 34
        },
        "outputId": "707e4aee-6563-433a-b14c-e9e10258551f"
      },
      "source": [
        "lista = [10,'ola', 10.2]\n",
        "print(type(lista))"
      ],
      "execution_count": 3,
      "outputs": [
        {
          "output_type": "stream",
          "text": [
            "<class 'list'>\n"
          ],
          "name": "stdout"
        }
      ]
    },
    {
      "cell_type": "code",
      "metadata": {
        "id": "woTAs9vCJ5MN",
        "colab_type": "code",
        "colab": {
          "base_uri": "https://localhost:8080/",
          "height": 34
        },
        "outputId": "c6d52c25-2e31-473b-a2f9-fbb29b5d737d"
      },
      "source": [
        "print(lista)"
      ],
      "execution_count": 4,
      "outputs": [
        {
          "output_type": "stream",
          "text": [
            "[10, 'ola', 10.2]\n"
          ],
          "name": "stdout"
        }
      ]
    },
    {
      "cell_type": "markdown",
      "metadata": {
        "id": "bIxaRVDWIwdN",
        "colab_type": "text"
      },
      "source": [
        "* Adicionar elementos na lista\n",
        "\n"
      ]
    },
    {
      "cell_type": "code",
      "metadata": {
        "id": "jw4Iz8YlIwzj",
        "colab_type": "code",
        "colab": {}
      },
      "source": [
        "#.APPEND()      passo elemento\n",
        "lista.append(\"ultimo\")\n",
        "#.INSERT()      passo posição e elemento\n",
        "lista.insert(0,\"primeiro\")\n",
        "#.EXTEND    passo uma lista\n",
        "lista.extend([\"depois do ultimo\", 20,50])"
      ],
      "execution_count": 5,
      "outputs": []
    },
    {
      "cell_type": "markdown",
      "metadata": {
        "id": "uyeUOJfwLFBu",
        "colab_type": "text"
      },
      "source": [
        "* Removendo elementos da lista"
      ]
    },
    {
      "cell_type": "code",
      "metadata": {
        "id": "2dEhu-7rLI8T",
        "colab_type": "code",
        "colab": {
          "base_uri": "https://localhost:8080/",
          "height": 51
        },
        "outputId": "39e18b81-728d-49ed-8d46-27d4ea92f811"
      },
      "source": [
        "#.REMOVE()  passo elemento\n",
        "lista.remove(50)\n",
        "#.POP()   ele me retorna e remove o último elemento\n",
        "a=lista.pop()\n",
        "print(a)\n",
        "#.POP()  se passo a posição do elemento, ele retorna e remove o elemento\n",
        "b=lista.pop(0)\n",
        "print(b)"
      ],
      "execution_count": 6,
      "outputs": [
        {
          "output_type": "stream",
          "text": [
            "20\n",
            "primeiro\n"
          ],
          "name": "stdout"
        }
      ]
    },
    {
      "cell_type": "markdown",
      "metadata": {
        "id": "Lkitke61-63N",
        "colab_type": "text"
      },
      "source": [
        "## **Tuplas**\n",
        "* Imutáveis, elementos de diferentes tipos, ordenada.\n",
        "* ('a','b',5,2.0)\n"
      ]
    },
    {
      "cell_type": "code",
      "metadata": {
        "id": "J-ojfBUW_IKh",
        "colab_type": "code",
        "colab": {
          "base_uri": "https://localhost:8080/",
          "height": 34
        },
        "outputId": "74019b23-42f5-4380-b43f-1d0bc1995f00"
      },
      "source": [
        "tupla = (10,'ola', 10.2)\n",
        "print(type(tupla))"
      ],
      "execution_count": null,
      "outputs": [
        {
          "output_type": "stream",
          "text": [
            "<class 'tuple'>\n"
          ],
          "name": "stdout"
        }
      ]
    },
    {
      "cell_type": "code",
      "metadata": {
        "id": "bn1y81Sj_IU4",
        "colab_type": "code",
        "colab": {
          "base_uri": "https://localhost:8080/",
          "height": 34
        },
        "outputId": "3c2653db-847d-4791-d9ce-a8cfdd4287c2"
      },
      "source": [
        "print(tupla)"
      ],
      "execution_count": null,
      "outputs": [
        {
          "output_type": "stream",
          "text": [
            "(10, 'ola', 10.2)\n"
          ],
          "name": "stdout"
        }
      ]
    },
    {
      "cell_type": "markdown",
      "metadata": {
        "id": "4YYtn_Ie_H1i",
        "colab_type": "text"
      },
      "source": [
        "* Criar tupla a partir de lista"
      ]
    },
    {
      "cell_type": "code",
      "metadata": {
        "id": "jWzswzboAybA",
        "colab_type": "code",
        "colab": {
          "base_uri": "https://localhost:8080/",
          "height": 51
        },
        "outputId": "ca654381-2c9f-40a2-e2bd-6f949f22ac23"
      },
      "source": [
        "# tuple()      passa-se uma lista e retorna-se uma tupla\n",
        "lista = [10,'ola', 10.2]\n",
        "tupla2 = tuple(lista)\n",
        "print(tupla2)\n",
        "tupla3 = tuple(\"IME\") #passando uma String, cada letra vira um elemento da tupla\n",
        "print(tupla3)"
      ],
      "execution_count": null,
      "outputs": [
        {
          "output_type": "stream",
          "text": [
            "(10, 'ola', 10.2)\n",
            "('I', 'M', 'E')\n"
          ],
          "name": "stdout"
        }
      ]
    },
    {
      "cell_type": "markdown",
      "metadata": {
        "id": "k1pOJI34Axzi",
        "colab_type": "text"
      },
      "source": [
        "## **Conjuntos**\n",
        "* Mutáveis, elementos de diferentes tipos, **DESORDENADO** (não usa índice), sem elemento duplicado.\n",
        "* {'a','b',5,2.0}"
      ]
    },
    {
      "cell_type": "markdown",
      "metadata": {
        "id": "72bTvIQ5_H_h",
        "colab_type": "text"
      },
      "source": [
        "* Criação"
      ]
    },
    {
      "cell_type": "code",
      "metadata": {
        "id": "6sP-6QTpGsFP",
        "colab_type": "code",
        "colab": {
          "base_uri": "https://localhost:8080/",
          "height": 85
        },
        "outputId": "7c8d1f5f-5a5d-4bd4-b8f4-dbd5020c893d"
      },
      "source": [
        "conjunto = {10,'ola', 10.2}\n",
        "print(type(conjunto))\n",
        "print(conjunto)\n",
        "\n",
        "conjunto2 = set([10,'ola', 10.2])\n",
        "print(type(conjunto2))\n",
        "print(conjunto2)"
      ],
      "execution_count": null,
      "outputs": [
        {
          "output_type": "stream",
          "text": [
            "<class 'set'>\n",
            "{10, 10.2, 'ola'}\n",
            "<class 'set'>\n",
            "{10, 10.2, 'ola'}\n"
          ],
          "name": "stdout"
        }
      ]
    },
    {
      "cell_type": "markdown",
      "metadata": {
        "id": "QwzKLrgxGnu3",
        "colab_type": "text"
      },
      "source": [
        "* Adicionando elementos"
      ]
    },
    {
      "cell_type": "code",
      "metadata": {
        "id": "HVS41L4gICn9",
        "colab_type": "code",
        "colab": {
          "base_uri": "https://localhost:8080/",
          "height": 51
        },
        "outputId": "579c7ca9-5385-4513-a899-80f89916a1d0"
      },
      "source": [
        "# .add()        passo o elemento que quero adicionar\n",
        "conjunto.add('adicionei')\n",
        "print(conjunto)\n",
        "\n",
        "# .update()    passo uma lista com os elementos a adicionar\n",
        "conjunto.update([1,2,3])\n",
        "print(conjunto)"
      ],
      "execution_count": null,
      "outputs": [
        {
          "output_type": "stream",
          "text": [
            "{10, 10.2, 'ola', 'adicionei'}\n",
            "{1, 2, 3, 10, 10.2, 'ola', 'adicionei'}\n"
          ],
          "name": "stdout"
        }
      ]
    },
    {
      "cell_type": "markdown",
      "metadata": {
        "id": "SDzVASaBJNtQ",
        "colab_type": "text"
      },
      "source": [
        "* Acessando elementos\n"
      ]
    },
    {
      "cell_type": "code",
      "metadata": {
        "id": "3UdL1adnIofX",
        "colab_type": "code",
        "colab": {
          "base_uri": "https://localhost:8080/",
          "height": 34
        },
        "outputId": "aaa6f38e-d1ef-450f-bce1-40a70d573195"
      },
      "source": [
        "#laço for\n",
        "for elemento in conjunto:\n",
        "  print(elemento, end=\" - \")"
      ],
      "execution_count": null,
      "outputs": [
        {
          "output_type": "stream",
          "text": [
            "1 - 2 - 3 - 10 - 10.2 - ola - adicionei - "
          ],
          "name": "stdout"
        }
      ]
    },
    {
      "cell_type": "code",
      "metadata": {
        "id": "X3DnSOFrJcY1",
        "colab_type": "code",
        "colab": {
          "base_uri": "https://localhost:8080/",
          "height": 34
        },
        "outputId": "ecf82af8-f0f0-4b6e-d4ce-41bc7de86e25"
      },
      "source": [
        "# teste (elemento in conjunto)\n",
        "elemento = 50\n",
        "print(elemento in conjunto)"
      ],
      "execution_count": null,
      "outputs": [
        {
          "output_type": "stream",
          "text": [
            "False\n"
          ],
          "name": "stdout"
        }
      ]
    },
    {
      "cell_type": "markdown",
      "metadata": {
        "id": "4Oxv9RuPKNry",
        "colab_type": "text"
      },
      "source": [
        "* Remover elementos"
      ]
    },
    {
      "cell_type": "code",
      "metadata": {
        "id": "YCwEFVThKPvV",
        "colab_type": "code",
        "colab": {
          "base_uri": "https://localhost:8080/",
          "height": 34
        },
        "outputId": "c0861105-c1ed-4319-a827-a521530dde89"
      },
      "source": [
        "# .remove()\n",
        "conjunto.remove(10)\n",
        "\n",
        "# .discard()\n",
        "conjunto.discard(10.2)\n",
        "\n",
        "# .pop()   retorna o mais a esquerda\n",
        "conjunto.pop()"
      ],
      "execution_count": null,
      "outputs": [
        {
          "output_type": "execute_result",
          "data": {
            "text/plain": [
              "1"
            ]
          },
          "metadata": {
            "tags": []
          },
          "execution_count": 31
        }
      ]
    },
    {
      "cell_type": "markdown",
      "metadata": {
        "id": "h0TP30SMLGSr",
        "colab_type": "text"
      },
      "source": [
        "* operações entre conjuntos"
      ]
    },
    {
      "cell_type": "code",
      "metadata": {
        "id": "vyOuX3zHKTsl",
        "colab_type": "code",
        "colab": {
          "base_uri": "https://localhost:8080/",
          "height": 85
        },
        "outputId": "4aadd621-cc5b-405b-f3fc-ce60a2b0d7b2"
      },
      "source": [
        "conjunto_a = {'a','b','c'}\n",
        "conujunto_b = {'a','b','d'}\n",
        "\n",
        "#UNIÃO\n",
        "conjunto_uniao = conjunto_a.union(conujunto_b)\n",
        "print(\"UNIÃO: \",conjunto_uniao)\n",
        "\n",
        "#INTERSECÇÃO\n",
        "conjunto_interseccao = conjunto_a.intersection(conujunto_b)\n",
        "print(\"INTERSECÇÃO: \",conjunto_interseccao)\n",
        "\n",
        "#DIFERENÇA\n",
        "conjunto_diferenca = conjunto_a.difference(conujunto_b)\n",
        "print(\"DIFERENÇA: \",conjunto_diferenca)\n",
        "\n",
        "#DIFERENÇA SIMÉTRICA\n",
        "conjunto_diferencaS = conjunto_a.symmetric_difference(conujunto_b)\n",
        "print(\"DIFERENÇA SIMÉTRICA: \",conjunto_diferencaS)\n",
        "\n"
      ],
      "execution_count": null,
      "outputs": [
        {
          "output_type": "stream",
          "text": [
            "UNIÃO:  {'c', 'd', 'b', 'a'}\n",
            "INTERSECÇÃO:  {'b', 'a'}\n",
            "DIFERENÇA:  {'c'}\n",
            "DIFERENÇA SIMÉTRICA:  {'c', 'd'}\n"
          ],
          "name": "stdout"
        }
      ]
    },
    {
      "cell_type": "markdown",
      "metadata": {
        "id": "PM_JsOGaOL0p",
        "colab_type": "text"
      },
      "source": [
        "## **Dicionário**\n",
        "* Chave -- > Valor\n",
        "* Mutáveis, elementos de diferentes tipos, **DESORDENADO** (não usa índice), unicidade da chave.\n",
        "* {1:'a', 2:'b', 3:5, 4:2.0}"
      ]
    },
    {
      "cell_type": "markdown",
      "metadata": {
        "id": "l0phaZmhO3aJ",
        "colab_type": "text"
      },
      "source": [
        "* Criação\n"
      ]
    },
    {
      "cell_type": "code",
      "metadata": {
        "id": "MlO5P732Ovjz",
        "colab_type": "code",
        "colab": {
          "base_uri": "https://localhost:8080/",
          "height": 119
        },
        "outputId": "8f08dd01-1724-4728-f54e-91bb3b0b722b"
      },
      "source": [
        "dicionario = {1:10,'a':'ola', 3:10.2}\n",
        "print(type(dicionario))\n",
        "print(dicionario)\n",
        "\n",
        "dicionario2 = dict({1:'a', 2:'b'})\n",
        "print(type(dicionario2))\n",
        "print(dicionario2)\n",
        "\n",
        "dicionario3 = dict([(1,'a'), (2,'b')])\n",
        "print(type(dicionario3))\n",
        "print(dicionario3)"
      ],
      "execution_count": null,
      "outputs": [
        {
          "output_type": "stream",
          "text": [
            "<class 'dict'>\n",
            "{1: 10, 'a': 'ola', 3: 10.2}\n",
            "<class 'dict'>\n",
            "{1: 'a', 2: 'b'}\n",
            "<class 'dict'>\n",
            "{1: 'a', 2: 'b'}\n"
          ],
          "name": "stdout"
        }
      ]
    },
    {
      "cell_type": "markdown",
      "metadata": {
        "id": "kbpShhqtP8Qj",
        "colab_type": "text"
      },
      "source": [
        "* Adicionando Chave-valor"
      ]
    },
    {
      "cell_type": "code",
      "metadata": {
        "id": "aLbNIt3WP-ks",
        "colab_type": "code",
        "colab": {
          "base_uri": "https://localhost:8080/",
          "height": 34
        },
        "outputId": "f2d4e9e7-4595-4e3b-e5da-73c08c1fc458"
      },
      "source": [
        "dicionario['chave'] = 'valor'\n",
        "print(dicionario)"
      ],
      "execution_count": null,
      "outputs": [
        {
          "output_type": "stream",
          "text": [
            "{1: 10, 'a': 'ola', 3: 10.2, 'chave': 'valor'}\n"
          ],
          "name": "stdout"
        }
      ]
    },
    {
      "cell_type": "markdown",
      "metadata": {
        "id": "jAlcv54WQNlI",
        "colab_type": "text"
      },
      "source": [
        "* Atualizando valor"
      ]
    },
    {
      "cell_type": "code",
      "metadata": {
        "id": "0SsZQKSwQQic",
        "colab_type": "code",
        "colab": {
          "base_uri": "https://localhost:8080/",
          "height": 34
        },
        "outputId": "3cc378c8-f92c-47a4-8d8c-f4c603013a39"
      },
      "source": [
        "dicionario['chave'] = 'valor_novo'\n",
        "print(dicionario)"
      ],
      "execution_count": null,
      "outputs": [
        {
          "output_type": "stream",
          "text": [
            "{1: 10, 'a': 'ola', 3: 10.2, 'chave': 'valor_novo'}\n"
          ],
          "name": "stdout"
        }
      ]
    },
    {
      "cell_type": "markdown",
      "metadata": {
        "id": "kemrjQJzQhx4",
        "colab_type": "text"
      },
      "source": [
        "* Acessando valor"
      ]
    },
    {
      "cell_type": "code",
      "metadata": {
        "id": "aKteimCFQkSk",
        "colab_type": "code",
        "colab": {
          "base_uri": "https://localhost:8080/",
          "height": 51
        },
        "outputId": "d8e4c8b9-55c9-4be6-ad40-37ba70d07b50"
      },
      "source": [
        "# Através da chave\n",
        "print(dicionario['chave'])\n",
        "\n",
        "#método .get() passando a chave\n",
        "print(dicionario.get('chave'))"
      ],
      "execution_count": null,
      "outputs": [
        {
          "output_type": "stream",
          "text": [
            "valor_novo\n",
            "valor_novo\n"
          ],
          "name": "stdout"
        }
      ]
    },
    {
      "cell_type": "markdown",
      "metadata": {
        "id": "DDAiP8sPRMHQ",
        "colab_type": "text"
      },
      "source": [
        "* Removendo elementos"
      ]
    },
    {
      "cell_type": "code",
      "metadata": {
        "id": "U4kSoZOvROvi",
        "colab_type": "code",
        "colab": {
          "base_uri": "https://localhost:8080/",
          "height": 85
        },
        "outputId": "fce3c0b5-c216-4728-874a-cc211b6a1dc3"
      },
      "source": [
        "# del\n",
        "del dicionario['chave']\n",
        "print(dicionario)\n",
        "\n",
        "# pop()    passo a chave, retorna o valor removido\n",
        "a = dicionario.pop(1)\n",
        "print(a)\n",
        "\n",
        "#poopitem()   retorna o chave-valor removido\n",
        "b = dicionario.popitem()\n",
        "print(b)\n",
        "\n",
        "# clear()\n",
        "dicionario.clear()\n",
        "print(dicionario)"
      ],
      "execution_count": null,
      "outputs": [
        {
          "output_type": "stream",
          "text": [
            "{1: 10, 'a': 'ola', 3: 10.2}\n",
            "10\n",
            "(3, 10.2)\n",
            "{}\n"
          ],
          "name": "stdout"
        }
      ]
    }
  ]
}