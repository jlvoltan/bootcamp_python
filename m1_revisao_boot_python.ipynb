{
  "nbformat": 4,
  "nbformat_minor": 0,
  "metadata": {
    "colab": {
      "name": "m1_revisao_boot_python.ipynb",
      "provenance": [],
      "collapsed_sections": [
        "zaHO8KJwU-ZD",
        "gWlNkSRlVYkL",
        "CrJuaK0BVYoy"
      ],
      "authorship_tag": "ABX9TyON5HIT0RmGP365AEjxdRb5",
      "include_colab_link": true
    },
    "kernelspec": {
      "name": "python3",
      "display_name": "Python 3"
    }
  },
  "cells": [
    {
      "cell_type": "markdown",
      "metadata": {
        "id": "view-in-github",
        "colab_type": "text"
      },
      "source": [
        "<a href=\"https://colab.research.google.com/github/jlvoltan/bootcamp_python/blob/master/m1_revisao_boot_python.ipynb\" target=\"_parent\"><img src=\"https://colab.research.google.com/assets/colab-badge.svg\" alt=\"Open In Colab\"/></a>"
      ]
    },
    {
      "cell_type": "markdown",
      "metadata": {
        "id": "W9SBZujmHrOx",
        "colab_type": "text"
      },
      "source": [
        "# **Módulo 1 - REVISÃO - Bootcamp PYTHON**\n",
        "*Atualizado em 24 JUL 2020*\n"
      ]
    },
    {
      "cell_type": "markdown",
      "metadata": {
        "id": "sQ_R4S3VUhfL",
        "colab_type": "text"
      },
      "source": [
        "## **Entrada e saída de dados**"
      ]
    },
    {
      "cell_type": "code",
      "metadata": {
        "id": "ec9qrghCUJW6",
        "colab_type": "code",
        "colab": {
          "base_uri": "https://localhost:8080/",
          "height": 34
        },
        "outputId": "f7e181f7-d434-443d-993f-f79015d65607"
      },
      "source": [
        "idade_str = input('Digite sua idade: ')\n",
        "idade = int(idade_str)"
      ],
      "execution_count": 10,
      "outputs": [
        {
          "output_type": "stream",
          "text": [
            "Digite sua idade: 20\n"
          ],
          "name": "stdout"
        }
      ]
    },
    {
      "cell_type": "code",
      "metadata": {
        "id": "crheLHfOUn5S",
        "colab_type": "code",
        "colab": {
          "base_uri": "https://localhost:8080/",
          "height": 34
        },
        "outputId": "0356f594-bcc9-4777-c8d6-8f360c9cd372"
      },
      "source": [
        "# Usando .format()\n",
        "variavel = 20\n",
        "print(\"O valor a ser substituido é {}\".format(variavel))"
      ],
      "execution_count": 11,
      "outputs": [
        {
          "output_type": "stream",
          "text": [
            "O valor a ser substituido é 20\n"
          ],
          "name": "stdout"
        }
      ]
    },
    {
      "cell_type": "markdown",
      "metadata": {
        "id": "3eQHbuSgU8Wb",
        "colab_type": "text"
      },
      "source": [
        "## **Alguns tipos especiais** :"
      ]
    },
    {
      "cell_type": "markdown",
      "metadata": {
        "id": "zaHO8KJwU-ZD",
        "colab_type": "text"
      },
      "source": [
        "## **Listas**\n",
        "* Mutáveis, elementos de diferentes tipos, ordenada.\n",
        "* ['a','b',5,2.0]\n",
        "* Percorrer uma lista\n",
        " * Lista[start:stop:step]\n",
        "  * P.e. Lista = VOLTAN    Lista[::-1] me retorna NATLOV"
      ]
    },
    {
      "cell_type": "code",
      "metadata": {
        "id": "S8NjS8baU875",
        "colab_type": "code",
        "colab": {}
      },
      "source": [
        "lista = [10,'ola', 10.2]\n",
        "######## ADICIONANDO ###########\n",
        "#.APPEND()      passo elemento\n",
        "lista.append(\"ultimo\")\n",
        "#.INSERT()      passo posição e elemento\n",
        "lista.insert(0,\"primeiro\")\n",
        "#.EXTEND    passo uma lista\n",
        "lista.extend([\"depois do ultimo\", 20,50])\n",
        "######### REMOVENDO ############\n",
        "#.REMOVE()  passo elemento\n",
        "lista.remove(50)\n",
        "#.POP()   ele me retorna e remove o último elemento\n",
        "a=lista.pop()\n",
        "#.POP()  se passo a posição do elemento, ele retorna e remove o elemento\n",
        "b=lista.pop(0)"
      ],
      "execution_count": 12,
      "outputs": []
    },
    {
      "cell_type": "markdown",
      "metadata": {
        "id": "hye7PNE7fKYt",
        "colab_type": "text"
      },
      "source": [
        "### Outras funções de listas\n",
        "1. Lista.reverse()   == >troca a ordem pelo inverso\n",
        "2. Lista.sort()  == > ordenar lista\n",
        "3. Lista.sort(reverse=True)   == > ordena na ordem decrescente\n",
        "4. Lista.count(‘fulano’) == > conta qnts vezes fulano aparece na lista\n",
        "5. Lista.index(‘fulano’) == > retorna o índice de fulano na lista (1ª ocorrência)\n",
        "6. Lista.clear()   == > apaga todos elementos da lista\n",
        "\n",
        "* Mais voltados para String\n",
        "7. Lista = lista.split(\" \") ==> separa usando o ponto onde aparece o espaço\n",
        "8. Lista = lista.replace(\"de\",\" \") ==> Substitui o de por espaço. \n"
      ]
    },
    {
      "cell_type": "markdown",
      "metadata": {
        "id": "gWlNkSRlVYkL",
        "colab_type": "text"
      },
      "source": [
        "## **Tuplas**\n",
        "* Imutáveis, elementos de diferentes tipos, ordenada.\n",
        "* ('a','b',5,2.0)"
      ]
    },
    {
      "cell_type": "code",
      "metadata": {
        "id": "OgPLh1RrVfUT",
        "colab_type": "code",
        "colab": {}
      },
      "source": [
        "tupla = (10,'ola', 10.2)\n",
        "# tuple()      passa-se uma lista e retorna-se uma tupla\n",
        "lista = [10,'ola', 10.2]\n",
        "tupla2 = tuple(lista)\n",
        "tupla3 = tuple(\"IME\") #passando uma String, cada letra vira um elemento da tupla"
      ],
      "execution_count": 13,
      "outputs": []
    },
    {
      "cell_type": "markdown",
      "metadata": {
        "id": "CrJuaK0BVYoy",
        "colab_type": "text"
      },
      "source": [
        "## **Conjuntos**\n",
        "* Mutáveis, elementos de diferentes tipos, **DESORDENADO** (não usa índice), sem elemento duplicado.\n",
        "* {'a','b',5,2.0}"
      ]
    },
    {
      "cell_type": "code",
      "metadata": {
        "id": "qeKbfBBXVqc7",
        "colab_type": "code",
        "colab": {
          "base_uri": "https://localhost:8080/",
          "height": 34
        },
        "outputId": "dd42661f-ff5a-45ba-cc52-4dbd02adc501"
      },
      "source": [
        "conjunto = {10,'ola', 10.2}\n",
        "conjunto2 = set([10,'ola', 10.2])\n",
        "# .add()        passo o elemento que quero adicionar\n",
        "conjunto.add('adicionei')\n",
        "# .update()    passo uma lista com os elementos a adicionar\n",
        "conjunto.update([1,2,3])\n",
        "## Acessando elemento com laço for\n",
        "for elemento in conjunto:\n",
        "  print(elemento, end=\" - \")\n",
        "# .remove()\n",
        "conjunto.remove(10)\n",
        "# .discard()\n",
        "conjunto.discard(10.2)\n",
        "# .pop()   retorna o mais a esquerda\n",
        "conjunto.pop()"
      ],
      "execution_count": 14,
      "outputs": [
        {
          "output_type": "stream",
          "text": [
            "1 - 2 - 3 - adicionei - 10.2 - 10 - ola - "
          ],
          "name": "stdout"
        },
        {
          "output_type": "execute_result",
          "data": {
            "text/plain": [
              "1"
            ]
          },
          "metadata": {
            "tags": []
          },
          "execution_count": 14
        }
      ]
    },
    {
      "cell_type": "code",
      "metadata": {
        "id": "_rNMzwrjWKEW",
        "colab_type": "code",
        "colab": {
          "base_uri": "https://localhost:8080/",
          "height": 85
        },
        "outputId": "52164c00-03cf-442b-fe57-c6643a657c31"
      },
      "source": [
        "conjunto_a = {'a','b','c'}\n",
        "conujunto_b = {'a','b','d'}\n",
        "\n",
        "#UNIÃO\n",
        "conjunto_uniao = conjunto_a.union(conujunto_b)\n",
        "print(\"UNIÃO: \",conjunto_uniao)\n",
        "\n",
        "#INTERSECÇÃO\n",
        "conjunto_interseccao = conjunto_a.intersection(conujunto_b)\n",
        "print(\"INTERSECÇÃO: \",conjunto_interseccao)\n",
        "\n",
        "#DIFERENÇA\n",
        "conjunto_diferenca = conjunto_a.difference(conujunto_b)\n",
        "print(\"DIFERENÇA: \",conjunto_diferenca)\n",
        "\n",
        "#DIFERENÇA SIMÉTRICA\n",
        "conjunto_diferencaS = conjunto_a.symmetric_difference(conujunto_b)\n",
        "print(\"DIFERENÇA SIMÉTRICA: \",conjunto_diferencaS)"
      ],
      "execution_count": 15,
      "outputs": [
        {
          "output_type": "stream",
          "text": [
            "UNIÃO:  {'c', 'd', 'b', 'a'}\n",
            "INTERSECÇÃO:  {'a', 'b'}\n",
            "DIFERENÇA:  {'c'}\n",
            "DIFERENÇA SIMÉTRICA:  {'c', 'd'}\n"
          ],
          "name": "stdout"
        }
      ]
    },
    {
      "cell_type": "markdown",
      "metadata": {
        "id": "W2L3y0R_VYsL",
        "colab_type": "text"
      },
      "source": [
        "## **Dicionário**\n",
        "* Chave -- > Valor\n",
        "* Mutáveis, elementos de diferentes tipos, **DESORDENADO** (não usa índice), unicidade da chave.\n",
        "* {1:'a', 2:'b', 3:5, 4:2.0}\n",
        "\n",
        "* Em um dicionário posso usar como chave uma tupla l=(1,2,3), mas não uma lista  l=[1,2,3]."
      ]
    },
    {
      "cell_type": "code",
      "metadata": {
        "id": "3XGzi4X-WNYT",
        "colab_type": "code",
        "colab": {
          "base_uri": "https://localhost:8080/",
          "height": 68
        },
        "outputId": "3f4b170a-f8ff-4501-d923-463ecc0f9ba5"
      },
      "source": [
        "dicionario = {1:10,'a':'ola', 3:10.2}\n",
        "dicionario2 = dict({1:'a', 2:'b'})\n",
        "dicionario3 = dict([(1,'a'), (2,'b')])\n",
        "\n",
        "#Adicinonando elemento ou atualizando elemento\n",
        "dicionario['chave'] = 'valor'\n",
        "#Acesso\n",
        "# Através da chave\n",
        "print(dicionario['chave'])\n",
        "#método .get() passando a chave\n",
        "print(dicionario.get('chave'))\n",
        "\n",
        "# del\n",
        "del dicionario['chave']\n",
        "print(dicionario)\n",
        "\n",
        "# pop()    passo a chave, retorna o valor removido\n",
        "a = dicionario.pop(1)\n",
        "#poopitem()   retorna o chave-valor removido\n",
        "b = dicionario.popitem()\n",
        "# clear()  limpa o dicionário\n",
        "dicionario.clear()\n",
        "\n"
      ],
      "execution_count": 16,
      "outputs": [
        {
          "output_type": "stream",
          "text": [
            "valor\n",
            "valor\n",
            "{1: 10, 'a': 'ola', 3: 10.2}\n"
          ],
          "name": "stdout"
        }
      ]
    },
    {
      "cell_type": "markdown",
      "metadata": {
        "id": "Aji4vUjahxHE",
        "colab_type": "text"
      },
      "source": [
        "### Outras funções:\n",
        "1. *len(nomeDoDicionario)* =  Retorna o tamanho/ quantidade de chaves\n",
        "2. *nomeDoDicionario.keys()* = Retorna a lista de chaves\n",
        "3. *nomeDoDicionario.values()* = Retorna a lista de valores\n",
        "4. *Dicionario1.update(dicionario2)* = \tInsere as chaves/valores de dicionario2 em dicionario1."
      ]
    },
    {
      "cell_type": "markdown",
      "metadata": {
        "id": "0VA8HylqnhNF",
        "colab_type": "text"
      },
      "source": [
        "## **Empacotamento e Desempacotamento**\n",
        " lista = [1,2]\n",
        " \n",
        " funcao(*lista)"
      ]
    },
    {
      "cell_type": "markdown",
      "metadata": {
        "id": "mmlYP6b2niJj",
        "colab_type": "text"
      },
      "source": [
        "## **Função zip()**\n",
        " * Junto duas listas ou tuplas, associando seus elementos, gerando um objeto tipo zi que pode ser convertido para um dicionário"
      ]
    },
    {
      "cell_type": "code",
      "metadata": {
        "id": "TZcPZbzXnntP",
        "colab_type": "code",
        "colab": {
          "base_uri": "https://localhost:8080/",
          "height": 34
        },
        "outputId": "f446cf9c-e9ae-43a1-ec45-59e29471cdb4"
      },
      "source": [
        "objetoZip = zip(('a','b','c'),(10,20,30))\n",
        "print(dict(objetoZip))"
      ],
      "execution_count": 17,
      "outputs": [
        {
          "output_type": "stream",
          "text": [
            "{'a': 10, 'b': 20, 'c': 30}\n"
          ],
          "name": "stdout"
        }
      ]
    },
    {
      "cell_type": "markdown",
      "metadata": {
        "id": "p6G-jN3nVYvr",
        "colab_type": "text"
      },
      "source": [
        "## **Condicional IF**"
      ]
    },
    {
      "cell_type": "code",
      "metadata": {
        "id": "sOnd8b6DXtiS",
        "colab_type": "code",
        "colab": {
          "base_uri": "https://localhost:8080/",
          "height": 51
        },
        "outputId": "7e1e85f1-5297-42ce-ec6d-2efedf3c83f5"
      },
      "source": [
        "CONDICAO = \"condicao2\"\n",
        "if \"condicao\" == CONDICAO:\n",
        "  print(\"Como a condicao foi verdadeira, executo isso\")\n",
        "else:\n",
        "  print(\"Como a condicao NÃO foi verdadeira, executo isso\")\n",
        "print(\"Vida que segue\")"
      ],
      "execution_count": 18,
      "outputs": [
        {
          "output_type": "stream",
          "text": [
            "Como a condicao NÃO foi verdadeira, executo isso\n",
            "Vida que segue\n"
          ],
          "name": "stdout"
        }
      ]
    },
    {
      "cell_type": "markdown",
      "metadata": {
        "id": "JqG5mDyYj1Ka",
        "colab_type": "text"
      },
      "source": [
        "* **Atribuição Condicional** :Se uma condição for verdade atribui-se a variável o 1º valor, senão o 2º. É o que em C++ chamamos de operador ternário\n",
        " \n",
        " * *variável1 = valor1 if(condição1) else valor2*"
      ]
    },
    {
      "cell_type": "markdown",
      "metadata": {
        "id": "BMZnLBQUVYzM",
        "colab_type": "text"
      },
      "source": [
        "## **Exceções**"
      ]
    },
    {
      "cell_type": "markdown",
      "metadata": {
        "id": "stSaBm8gX2La",
        "colab_type": "text"
      },
      "source": [
        "* É diferente do erro de sintaxe.\n",
        "* A Exceção auxilia a identificar o que gerou o erro.\n",
        "* Cada erro gera um tipo específico. A ideia do **try-except** é capturar esse erro, identificando o tipo para dizer qual ação deve ser tomada. Depois disso, posso continuar com a execução ou terminar (exit()).\n",
        "* Exemplo da divisão por zero"
      ]
    },
    {
      "cell_type": "code",
      "metadata": {
        "id": "yc6lqKSwX1mo",
        "colab_type": "code",
        "colab": {
          "base_uri": "https://localhost:8080/",
          "height": 51
        },
        "outputId": "fd2e3ea2-1f4d-4537-87df-fbe5d4e305ad"
      },
      "source": [
        "try:\n",
        "  idade = int(input(\"Digite a sua idade: \"))\n",
        "except ValueError:  #Essa exceção captura erros do tipo ValueError\n",
        "  print(\"A idade deve ser um número inteiro.\")  \n",
        "  exit(0)   #para não prossegir com a execução do código\n",
        "except: #erro genérico\n",
        "  print(\"Ocorreu um erro. Programa será finalizado.\") \n",
        "  exit(0)\n",
        "print(\"Você possui \" + str(idade) + \" anos.\")"
      ],
      "execution_count": 19,
      "outputs": [
        {
          "output_type": "stream",
          "text": [
            "Digite a sua idade: 20\n",
            "Você possui 20 anos.\n"
          ],
          "name": "stdout"
        }
      ]
    },
    {
      "cell_type": "markdown",
      "metadata": {
        "id": "uU-QRGFDX2Ou",
        "colab_type": "text"
      },
      "source": [
        "## **Laços de repetição**"
      ]
    },
    {
      "cell_type": "markdown",
      "metadata": {
        "id": "SXMMfu0qX2R6",
        "colab_type": "text"
      },
      "source": [
        "### **Função range()**\n",
        "* range(a, b, c) - inicio - parada - passo\n",
        "* range(a,b) - inicio e parada   -           passo = 1      \n",
        "* range(a) - parada        -     inicio = 0, passo = 1"
      ]
    },
    {
      "cell_type": "markdown",
      "metadata": {
        "id": "QNwztsz9X2U1",
        "colab_type": "text"
      },
      "source": [
        "### **Break e Continue**\n",
        "* Break: interrompe o laço, mas não o programa.\n",
        "* Continue: ele deixa de executar os comandos seguintes do while, e recomeça a execução."
      ]
    },
    {
      "cell_type": "markdown",
      "metadata": {
        "id": "EmSv4YoRYIeQ",
        "colab_type": "text"
      },
      "source": [
        "### **FOR**"
      ]
    },
    {
      "cell_type": "code",
      "metadata": {
        "id": "IY6IDnw3YNAS",
        "colab_type": "code",
        "colab": {
          "base_uri": "https://localhost:8080/",
          "height": 34
        },
        "outputId": "dcefc606-fc88-452d-a267-427dbc647e80"
      },
      "source": [
        "nome = \"jose\"\n",
        "for elemento in nome:\n",
        "  print(elemento.upper(), end=\"\")"
      ],
      "execution_count": 20,
      "outputs": [
        {
          "output_type": "stream",
          "text": [
            "JOSE"
          ],
          "name": "stdout"
        }
      ]
    },
    {
      "cell_type": "markdown",
      "metadata": {
        "id": "ZJvMpyM5YIhi",
        "colab_type": "text"
      },
      "source": [
        "### **WHILE**\n",
        "* o elemento é iterado até atingir a condição de parada."
      ]
    },
    {
      "cell_type": "code",
      "metadata": {
        "id": "WqtX5EwFYUZo",
        "colab_type": "code",
        "colab": {
          "base_uri": "https://localhost:8080/",
          "height": 102
        },
        "outputId": "0e04cb7b-dbd7-4c36-9e72-ed80304872f0"
      },
      "source": [
        "i = 0\n",
        "while i <5:\n",
        "  print(\"Contagem  \" + str(i))\n",
        "  i +=1"
      ],
      "execution_count": 21,
      "outputs": [
        {
          "output_type": "stream",
          "text": [
            "Contagem  0\n",
            "Contagem  1\n",
            "Contagem  2\n",
            "Contagem  3\n",
            "Contagem  4\n"
          ],
          "name": "stdout"
        }
      ]
    },
    {
      "cell_type": "markdown",
      "metadata": {
        "id": "eOhAKk2rYIka",
        "colab_type": "text"
      },
      "source": [
        "##Escopo em Python\n",
        "Escopo = região onde determinada variável ou função podem ser acessadas. Nível:\n",
        "1. Local                    \n",
        "2. Global \t\n",
        "3. Parametrizado (Cabeçalho de funções)\n",
        "\n",
        "De um nível mais interno, posso acessar funções e variáveis do mais externo, a recíproca  NÃO VALE"
      ]
    },
    {
      "cell_type": "markdown",
      "metadata": {
        "id": "O9WAd-IOoHBW",
        "colab_type": "text"
      },
      "source": [
        "Instrução **nonlocal**: Permite acessar membros que não são nem locais e nem  globais contidos em escopos externos (usado em funções aninhadas)."
      ]
    },
    {
      "cell_type": "markdown",
      "metadata": {
        "id": "5oMstA-PYTuA",
        "colab_type": "text"
      },
      "source": [
        "* As variáveis são restritas ao escopo de sua criação.\n",
        "* Variável de mesmo nome em + de 1 escopo:\n",
        "    - Posso acessar a variavel externa com uso da palavra global"
      ]
    },
    {
      "cell_type": "markdown",
      "metadata": {
        "id": "bb3I9bxcYTxC",
        "colab_type": "text"
      },
      "source": [
        "### Função\n",
        "* **Nome da função**: Deve fazer sentido com a tarefa da função\n",
        "* **Tarefa**: O que ela irá executar\n",
        "* **Argumentos**: Definir quais ela irá receber\n",
        "* **Retorno**: O que a função deve retornar"
      ]
    },
    {
      "cell_type": "code",
      "metadata": {
        "id": "IIMl_EQYZCvi",
        "colab_type": "code",
        "colab": {
          "base_uri": "https://localhost:8080/",
          "height": 51
        },
        "outputId": "6c16bf7a-fe68-45a9-928f-3cac97864358"
      },
      "source": [
        "#Definindo a função\n",
        "def funcao_imprime_nome(nome):\n",
        "  \"\"\" A função imprime o nome passado e retorna 1 se realizou com sucesso\"\"\"\n",
        "  print(\"O seu nome é \", nome)\n",
        "  return 1\n",
        "\n",
        "#Executando/Chamando a função\n",
        "funcao_imprime_nome(\"Jose\")"
      ],
      "execution_count": 22,
      "outputs": [
        {
          "output_type": "stream",
          "text": [
            "O seu nome é  Jose\n"
          ],
          "name": "stdout"
        },
        {
          "output_type": "execute_result",
          "data": {
            "text/plain": [
              "1"
            ]
          },
          "metadata": {
            "tags": []
          },
          "execution_count": 22
        }
      ]
    },
    {
      "cell_type": "markdown",
      "metadata": {
        "id": "4pLVgpZMYT0I",
        "colab_type": "text"
      },
      "source": [
        "### main()\n",
        "* Não precisa, mas facilita"
      ]
    },
    {
      "cell_type": "code",
      "metadata": {
        "id": "rXqPvd9UZx8k",
        "colab_type": "code",
        "colab": {
          "base_uri": "https://localhost:8080/",
          "height": 34
        },
        "outputId": "5f594ab5-12c2-4141-d4a9-796f5547dfb8"
      },
      "source": [
        "def main():\n",
        "  print(\"Estou no contexto main()\")\n",
        "\n",
        "if __name__ == \"__main__\": main() #se o meu contexto for o main, ele invoca o main()"
      ],
      "execution_count": 23,
      "outputs": [
        {
          "output_type": "stream",
          "text": [
            "Estou no contexto main()\n"
          ],
          "name": "stdout"
        }
      ]
    },
    {
      "cell_type": "markdown",
      "metadata": {
        "id": "q4xlJ20eYT3M",
        "colab_type": "text"
      },
      "source": [
        "## Importando"
      ]
    },
    {
      "cell_type": "markdown",
      "metadata": {
        "id": "Xj9Zcj5pZ8Gd",
        "colab_type": "text"
      },
      "source": [
        "* para importar o *código/módulo* todo  codigo. py ; executo:\n",
        "\n",
        " * *import codigo*  ou *import codigo as novo_nome*\n",
        "\n",
        "* para importar apenas a função *funcao* do código/módulo  codigo. py ; executo:\n",
        "\n",
        " * *from modulo import funcao*\n",
        "* O módulo é carregado uma única vez. \n",
        "  * Posso formar o recarregamento, usando *importlib.reload(nome_do_modulo)*\n",
        "* O Python procura na pasta do códio, se não encontrar pesquisa no diretório PYTHONPATH onde os módulos estão localizados."
      ]
    },
    {
      "cell_type": "markdown",
      "metadata": {
        "id": "gJ9X4nKkagBa",
        "colab_type": "text"
      },
      "source": [
        "## Pacote\n",
        "* import pacote.modulo1, pacote.modulo2\n",
        "* import pacote.*"
      ]
    },
    {
      "cell_type": "markdown",
      "metadata": {
        "id": "Sn8mVC3laRWp",
        "colab_type": "text"
      },
      "source": [
        "* Como **INSTALAR MÓDULOS** no Google COLAB"
      ]
    },
    {
      "cell_type": "code",
      "metadata": {
        "id": "TZK7JJASaTWa",
        "colab_type": "code",
        "colab": {
          "base_uri": "https://localhost:8080/",
          "height": 34
        },
        "outputId": "273c8f7f-8551-45ea-b72b-56b25fd6a7b8"
      },
      "source": [
        "!pip3 install ColabTurtle"
      ],
      "execution_count": 24,
      "outputs": [
        {
          "output_type": "stream",
          "text": [
            "Requirement already satisfied: ColabTurtle in /usr/local/lib/python3.6/dist-packages (2.0.0)\n"
          ],
          "name": "stdout"
        }
      ]
    },
    {
      "cell_type": "markdown",
      "metadata": {
        "id": "bV5MqpyLaCIp",
        "colab_type": "text"
      },
      "source": [
        "## Argumentos\n",
        "* 3 tipos:\n",
        "  * Argumento default: Já se encontram \"setados\"\n",
        "  * Argumento posicional: Os argumentos são passados na mesma ordem que a função pede.\n",
        "  * Argumento arbitrário: Uso de  **\\*args** e  **\\* \\*kwargs** \n",
        "    * \\*args : A função possui n parâmetros;\n",
        "    * \\* \\*kwargs : Funciona como um dicionário."
      ]
    },
    {
      "cell_type": "markdown",
      "metadata": {
        "id": "loEnvzCtaCL-",
        "colab_type": "text"
      },
      "source": [
        "## Classes\n",
        "* Construtores: Servem para setar atributos de inicialização\n",
        "  * def \\_\\__init\\_\\__()"
      ]
    },
    {
      "cell_type": "code",
      "metadata": {
        "id": "iusQHWYtZ2Ko",
        "colab_type": "code",
        "colab": {}
      },
      "source": [
        "class aluno:\n",
        "  def __init__(self, nome, codigo):\n",
        "    self.nome = nome\n",
        "    self.codigo = codigo\n",
        "  def get_nome(self):     return self.nome\n",
        "  def get_codigo(self): return self.codigo\n",
        "\n",
        "  def set_nome(self,nome): self.nome = nome\n",
        "  def set_codigo(self,codigo): self.codigo = codigo "
      ],
      "execution_count": 25,
      "outputs": []
    },
    {
      "cell_type": "markdown",
      "metadata": {
        "id": "iqI2zyz9aCO-",
        "colab_type": "text"
      },
      "source": [
        "### del\n",
        "* Pode ser usado para excluir um atributo, um objeto..."
      ]
    },
    {
      "cell_type": "markdown",
      "metadata": {
        "id": "lFP_poBAbBQC",
        "colab_type": "text"
      },
      "source": [
        "### Heranças\n",
        "\n",
        "* Uma classe pode herdar características (atributos e métodos) de outra, e ter novas.\n",
        "* Permite reuso de código\n",
        "* Podemos sobrescrever métodos, até mesmo o construtor.\n",
        "*Uso do super() para invocar um método sobrescrito do pai"
      ]
    },
    {
      "cell_type": "code",
      "metadata": {
        "id": "ahOZzZwpa76f",
        "colab_type": "code",
        "colab": {}
      },
      "source": [
        "class Pai:\n",
        "  '''Classe Pai'''\n",
        "  pass\n",
        "class Filho(Pai)\n",
        "  '''Classe Filho'''\n",
        "  pass"
      ],
      "execution_count": null,
      "outputs": []
    }
  ]
}