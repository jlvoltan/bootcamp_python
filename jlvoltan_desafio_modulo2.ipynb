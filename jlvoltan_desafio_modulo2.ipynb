{
  "nbformat": 4,
  "nbformat_minor": 0,
  "metadata": {
    "colab": {
      "name": "desafio_modulo2.ipynb",
      "provenance": [],
      "collapsed_sections": [],
      "authorship_tag": "ABX9TyPW9oEPsgENJh/5YzdrpuzD",
      "include_colab_link": true
    },
    "kernelspec": {
      "name": "python3",
      "display_name": "Python 3"
    }
  },
  "cells": [
    {
      "cell_type": "markdown",
      "metadata": {
        "id": "view-in-github",
        "colab_type": "text"
      },
      "source": [
        "<a href=\"https://colab.research.google.com/github/jlvoltan/bootcamp_python/blob/master/jlvoltan_desafio_modulo2.ipynb\" target=\"_parent\"><img src=\"https://colab.research.google.com/assets/colab-badge.svg\" alt=\"Open In Colab\"/></a>"
      ]
    },
    {
      "cell_type": "markdown",
      "metadata": {
        "id": "mS98leS9F2Io",
        "colab_type": "text"
      },
      "source": [
        "#Análise de dados - jlvoltan"
      ]
    },
    {
      "cell_type": "markdown",
      "metadata": {
        "id": "G80-m9bhHEe6",
        "colab_type": "text"
      },
      "source": [
        "* O trabalho consiste em uma análise dos dados sobre as bicicletas compartilhadas, os dados foram coletados pela Universidade do Porto.\n",
        "* No exercicio proposto no bootcamp, foi informado apenas o dataset, e o aluno deveria desenvolver seu código para responder algumas perguntas"
      ]
    },
    {
      "cell_type": "code",
      "metadata": {
        "id": "xll4rrTmE62H",
        "colab_type": "code",
        "colab": {}
      },
      "source": [
        "#Importando bibliotecas\n",
        "import numpy as np\n",
        "import pandas as pd\n",
        "import matplotlib.pyplot as plt"
      ],
      "execution_count": 32,
      "outputs": []
    },
    {
      "cell_type": "markdown",
      "metadata": {
        "id": "NxQC4RhAJPuO",
        "colab_type": "text"
      },
      "source": [
        "## Carregando os dados"
      ]
    },
    {
      "cell_type": "code",
      "metadata": {
        "id": "jN8INz1MGJIJ",
        "colab_type": "code",
        "colab": {}
      },
      "source": [
        "df = pd.read_csv(\"https://pycourse.s3.amazonaws.com/bike-sharing.csv\")"
      ],
      "execution_count": 14,
      "outputs": []
    },
    {
      "cell_type": "markdown",
      "metadata": {
        "id": "4yRNv384NJX-",
        "colab_type": "text"
      },
      "source": [
        "### Descritivo dos dados coletados:\n",
        "\n",
        "- rec_id: índice do registro de locação;\n",
        "- datetime : data;\n",
        "- season : estação do ano (1: inverno, 2: primevera, 3: verão, 4: outono). Relativo ao\n",
        "hemisfério norte;\n",
        "- year : ano (0: 2011, 1:2012);- month : mês (1 a 12);\n",
        "- hour : hora do dia (0 a 23);\n",
        "- is_holiday : booleano indicando feriado;\n",
        "- weekday : dia da semana (0: domingo, 1: segunda-feira, …, 6: sábado);\n",
        "- is_workingday : booleano indicando dia útil;\n",
        "- weather_condition: (1: limpo, 2: nublado, 3: chuva leve, 4: chuva forte);\n",
        "- temp : Temperatura escalada entre 0 e 1. Valor original em graus Celsius: -8 a 39;\n",
        "- atemp: Sensação térmica escalada entre 0 e 1. Valor original em graus Celsius: -16 a 50;\n",
        "- humidity: Humidade relativa (0 a 1);\n",
        "- windspeed: Velocidade do vento escalada entre 0 e 1 (máximo original: 67);\n",
        "- casual: número de locações para usuários casuais;\n",
        "- registered: número de locações para usuários registrados;\n",
        "- total_count: contador total de aluguéis (casual+registered).\n"
      ]
    },
    {
      "cell_type": "markdown",
      "metadata": {
        "id": "vJSrlMZdJawZ",
        "colab_type": "text"
      },
      "source": [
        "## Análise inicial"
      ]
    },
    {
      "cell_type": "code",
      "metadata": {
        "id": "OKnjHtjsJc5P",
        "colab_type": "code",
        "colab": {
          "base_uri": "https://localhost:8080/",
          "height": 142
        },
        "outputId": "d279751f-a1c1-47e6-a747-82265d06b7d0"
      },
      "source": [
        "#Exibe as 3 primeiras linhas do data frame\n",
        "df.head(3)"
      ],
      "execution_count": 15,
      "outputs": [
        {
          "output_type": "execute_result",
          "data": {
            "text/html": [
              "<div>\n",
              "<style scoped>\n",
              "    .dataframe tbody tr th:only-of-type {\n",
              "        vertical-align: middle;\n",
              "    }\n",
              "\n",
              "    .dataframe tbody tr th {\n",
              "        vertical-align: top;\n",
              "    }\n",
              "\n",
              "    .dataframe thead th {\n",
              "        text-align: right;\n",
              "    }\n",
              "</style>\n",
              "<table border=\"1\" class=\"dataframe\">\n",
              "  <thead>\n",
              "    <tr style=\"text-align: right;\">\n",
              "      <th></th>\n",
              "      <th>datetime</th>\n",
              "      <th>rec_id</th>\n",
              "      <th>season</th>\n",
              "      <th>year</th>\n",
              "      <th>month</th>\n",
              "      <th>hour</th>\n",
              "      <th>is_holiday</th>\n",
              "      <th>weekday</th>\n",
              "      <th>is_workingday</th>\n",
              "      <th>weather_condition</th>\n",
              "      <th>temp</th>\n",
              "      <th>atemp</th>\n",
              "      <th>humidity</th>\n",
              "      <th>windspeed</th>\n",
              "      <th>casual</th>\n",
              "      <th>registered</th>\n",
              "      <th>total_count</th>\n",
              "    </tr>\n",
              "  </thead>\n",
              "  <tbody>\n",
              "    <tr>\n",
              "      <th>0</th>\n",
              "      <td>2011-01-01</td>\n",
              "      <td>1</td>\n",
              "      <td>1</td>\n",
              "      <td>0</td>\n",
              "      <td>1</td>\n",
              "      <td>0</td>\n",
              "      <td>0</td>\n",
              "      <td>6</td>\n",
              "      <td>0</td>\n",
              "      <td>1</td>\n",
              "      <td>0.24</td>\n",
              "      <td>0.2879</td>\n",
              "      <td>0.81</td>\n",
              "      <td>0.0</td>\n",
              "      <td>3</td>\n",
              "      <td>13</td>\n",
              "      <td>16</td>\n",
              "    </tr>\n",
              "    <tr>\n",
              "      <th>1</th>\n",
              "      <td>2011-01-01</td>\n",
              "      <td>2</td>\n",
              "      <td>1</td>\n",
              "      <td>0</td>\n",
              "      <td>1</td>\n",
              "      <td>1</td>\n",
              "      <td>0</td>\n",
              "      <td>6</td>\n",
              "      <td>0</td>\n",
              "      <td>1</td>\n",
              "      <td>0.22</td>\n",
              "      <td>0.2727</td>\n",
              "      <td>0.80</td>\n",
              "      <td>0.0</td>\n",
              "      <td>8</td>\n",
              "      <td>32</td>\n",
              "      <td>40</td>\n",
              "    </tr>\n",
              "    <tr>\n",
              "      <th>2</th>\n",
              "      <td>2011-01-01</td>\n",
              "      <td>3</td>\n",
              "      <td>1</td>\n",
              "      <td>0</td>\n",
              "      <td>1</td>\n",
              "      <td>2</td>\n",
              "      <td>0</td>\n",
              "      <td>6</td>\n",
              "      <td>0</td>\n",
              "      <td>1</td>\n",
              "      <td>0.22</td>\n",
              "      <td>0.2727</td>\n",
              "      <td>0.80</td>\n",
              "      <td>0.0</td>\n",
              "      <td>5</td>\n",
              "      <td>27</td>\n",
              "      <td>32</td>\n",
              "    </tr>\n",
              "  </tbody>\n",
              "</table>\n",
              "</div>"
            ],
            "text/plain": [
              "     datetime  rec_id  season  year  ...  windspeed  casual  registered  total_count\n",
              "0  2011-01-01       1       1     0  ...        0.0       3          13           16\n",
              "1  2011-01-01       2       1     0  ...        0.0       8          32           40\n",
              "2  2011-01-01       3       1     0  ...        0.0       5          27           32\n",
              "\n",
              "[3 rows x 17 columns]"
            ]
          },
          "metadata": {
            "tags": []
          },
          "execution_count": 15
        }
      ]
    },
    {
      "cell_type": "code",
      "metadata": {
        "id": "2lhmlbkxJkEK",
        "colab_type": "code",
        "colab": {
          "base_uri": "https://localhost:8080/",
          "height": 142
        },
        "outputId": "efb99f7f-37b3-489e-a096-068348bf9751"
      },
      "source": [
        "#Exibe as 3 últimas linhas\n",
        "df.tail(3)"
      ],
      "execution_count": 16,
      "outputs": [
        {
          "output_type": "execute_result",
          "data": {
            "text/html": [
              "<div>\n",
              "<style scoped>\n",
              "    .dataframe tbody tr th:only-of-type {\n",
              "        vertical-align: middle;\n",
              "    }\n",
              "\n",
              "    .dataframe tbody tr th {\n",
              "        vertical-align: top;\n",
              "    }\n",
              "\n",
              "    .dataframe thead th {\n",
              "        text-align: right;\n",
              "    }\n",
              "</style>\n",
              "<table border=\"1\" class=\"dataframe\">\n",
              "  <thead>\n",
              "    <tr style=\"text-align: right;\">\n",
              "      <th></th>\n",
              "      <th>datetime</th>\n",
              "      <th>rec_id</th>\n",
              "      <th>season</th>\n",
              "      <th>year</th>\n",
              "      <th>month</th>\n",
              "      <th>hour</th>\n",
              "      <th>is_holiday</th>\n",
              "      <th>weekday</th>\n",
              "      <th>is_workingday</th>\n",
              "      <th>weather_condition</th>\n",
              "      <th>temp</th>\n",
              "      <th>atemp</th>\n",
              "      <th>humidity</th>\n",
              "      <th>windspeed</th>\n",
              "      <th>casual</th>\n",
              "      <th>registered</th>\n",
              "      <th>total_count</th>\n",
              "    </tr>\n",
              "  </thead>\n",
              "  <tbody>\n",
              "    <tr>\n",
              "      <th>17376</th>\n",
              "      <td>2012-12-31</td>\n",
              "      <td>17377</td>\n",
              "      <td>1</td>\n",
              "      <td>1</td>\n",
              "      <td>12</td>\n",
              "      <td>21</td>\n",
              "      <td>0</td>\n",
              "      <td>1</td>\n",
              "      <td>1</td>\n",
              "      <td>1</td>\n",
              "      <td>0.26</td>\n",
              "      <td>0.2576</td>\n",
              "      <td>0.60</td>\n",
              "      <td>0.1642</td>\n",
              "      <td>7</td>\n",
              "      <td>83</td>\n",
              "      <td>90</td>\n",
              "    </tr>\n",
              "    <tr>\n",
              "      <th>17377</th>\n",
              "      <td>2012-12-31</td>\n",
              "      <td>17378</td>\n",
              "      <td>1</td>\n",
              "      <td>1</td>\n",
              "      <td>12</td>\n",
              "      <td>22</td>\n",
              "      <td>0</td>\n",
              "      <td>1</td>\n",
              "      <td>1</td>\n",
              "      <td>1</td>\n",
              "      <td>0.26</td>\n",
              "      <td>0.2727</td>\n",
              "      <td>0.56</td>\n",
              "      <td>0.1343</td>\n",
              "      <td>13</td>\n",
              "      <td>48</td>\n",
              "      <td>61</td>\n",
              "    </tr>\n",
              "    <tr>\n",
              "      <th>17378</th>\n",
              "      <td>2012-12-31</td>\n",
              "      <td>17379</td>\n",
              "      <td>1</td>\n",
              "      <td>1</td>\n",
              "      <td>12</td>\n",
              "      <td>23</td>\n",
              "      <td>0</td>\n",
              "      <td>1</td>\n",
              "      <td>1</td>\n",
              "      <td>1</td>\n",
              "      <td>0.26</td>\n",
              "      <td>0.2727</td>\n",
              "      <td>0.65</td>\n",
              "      <td>0.1343</td>\n",
              "      <td>12</td>\n",
              "      <td>37</td>\n",
              "      <td>49</td>\n",
              "    </tr>\n",
              "  </tbody>\n",
              "</table>\n",
              "</div>"
            ],
            "text/plain": [
              "         datetime  rec_id  season  ...  casual  registered  total_count\n",
              "17376  2012-12-31   17377       1  ...       7          83           90\n",
              "17377  2012-12-31   17378       1  ...      13          48           61\n",
              "17378  2012-12-31   17379       1  ...      12          37           49\n",
              "\n",
              "[3 rows x 17 columns]"
            ]
          },
          "metadata": {
            "tags": []
          },
          "execution_count": 16
        }
      ]
    },
    {
      "cell_type": "code",
      "metadata": {
        "id": "Bk6WZPJdKg-a",
        "colab_type": "code",
        "colab": {
          "base_uri": "https://localhost:8080/",
          "height": 34
        },
        "outputId": "3ea88243-770c-4da8-dca8-f2f052438613"
      },
      "source": [
        " print(\"Tamanho do dataset::{}\".format(df.shape))"
      ],
      "execution_count": 17,
      "outputs": [
        {
          "output_type": "stream",
          "text": [
            "Tamanho do dataset::(17379, 17)\n"
          ],
          "name": "stdout"
        }
      ]
    },
    {
      "cell_type": "code",
      "metadata": {
        "id": "i7G7sER0J4iA",
        "colab_type": "code",
        "colab": {
          "base_uri": "https://localhost:8080/",
          "height": 323
        },
        "outputId": "1cebbfa2-3af4-46fd-953f-ee0066a94724"
      },
      "source": [
        "# Vendo os tipos de dados\n",
        "df.dtypes"
      ],
      "execution_count": 18,
      "outputs": [
        {
          "output_type": "execute_result",
          "data": {
            "text/plain": [
              "datetime              object\n",
              "rec_id                 int64\n",
              "season                 int64\n",
              "year                   int64\n",
              "month                  int64\n",
              "hour                   int64\n",
              "is_holiday             int64\n",
              "weekday                int64\n",
              "is_workingday          int64\n",
              "weather_condition      int64\n",
              "temp                 float64\n",
              "atemp                float64\n",
              "humidity             float64\n",
              "windspeed            float64\n",
              "casual                 int64\n",
              "registered             int64\n",
              "total_count            int64\n",
              "dtype: object"
            ]
          },
          "metadata": {
            "tags": []
          },
          "execution_count": 18
        }
      ]
    },
    {
      "cell_type": "markdown",
      "metadata": {
        "id": "gNTWShEEKDHD",
        "colab_type": "text"
      },
      "source": [
        "* Observe que a data (datetime) aparece como object e não como datetime"
      ]
    },
    {
      "cell_type": "code",
      "metadata": {
        "id": "H34quEuPLtwF",
        "colab_type": "code",
        "colab": {}
      },
      "source": [
        "df['datetime'] = pd.to_datetime(df['datetime'])"
      ],
      "execution_count": 19,
      "outputs": []
    },
    {
      "cell_type": "code",
      "metadata": {
        "id": "z-O85hrrJ9i5",
        "colab_type": "code",
        "colab": {
          "base_uri": "https://localhost:8080/",
          "height": 297
        },
        "outputId": "57d3fe40-18b1-4576-a709-9d780859735e"
      },
      "source": [
        "#Estatísticas básicas\n",
        "df.describe()"
      ],
      "execution_count": 20,
      "outputs": [
        {
          "output_type": "execute_result",
          "data": {
            "text/html": [
              "<div>\n",
              "<style scoped>\n",
              "    .dataframe tbody tr th:only-of-type {\n",
              "        vertical-align: middle;\n",
              "    }\n",
              "\n",
              "    .dataframe tbody tr th {\n",
              "        vertical-align: top;\n",
              "    }\n",
              "\n",
              "    .dataframe thead th {\n",
              "        text-align: right;\n",
              "    }\n",
              "</style>\n",
              "<table border=\"1\" class=\"dataframe\">\n",
              "  <thead>\n",
              "    <tr style=\"text-align: right;\">\n",
              "      <th></th>\n",
              "      <th>rec_id</th>\n",
              "      <th>season</th>\n",
              "      <th>year</th>\n",
              "      <th>month</th>\n",
              "      <th>hour</th>\n",
              "      <th>is_holiday</th>\n",
              "      <th>weekday</th>\n",
              "      <th>is_workingday</th>\n",
              "      <th>weather_condition</th>\n",
              "      <th>temp</th>\n",
              "      <th>atemp</th>\n",
              "      <th>humidity</th>\n",
              "      <th>windspeed</th>\n",
              "      <th>casual</th>\n",
              "      <th>registered</th>\n",
              "      <th>total_count</th>\n",
              "    </tr>\n",
              "  </thead>\n",
              "  <tbody>\n",
              "    <tr>\n",
              "      <th>count</th>\n",
              "      <td>17379.0000</td>\n",
              "      <td>17379.000000</td>\n",
              "      <td>17379.000000</td>\n",
              "      <td>17379.000000</td>\n",
              "      <td>17379.000000</td>\n",
              "      <td>17379.000000</td>\n",
              "      <td>17379.000000</td>\n",
              "      <td>17379.000000</td>\n",
              "      <td>17379.000000</td>\n",
              "      <td>17379.000000</td>\n",
              "      <td>17379.000000</td>\n",
              "      <td>17379.000000</td>\n",
              "      <td>17379.000000</td>\n",
              "      <td>17379.000000</td>\n",
              "      <td>17379.000000</td>\n",
              "      <td>17379.000000</td>\n",
              "    </tr>\n",
              "    <tr>\n",
              "      <th>mean</th>\n",
              "      <td>8690.0000</td>\n",
              "      <td>2.501640</td>\n",
              "      <td>0.502561</td>\n",
              "      <td>6.537775</td>\n",
              "      <td>11.546752</td>\n",
              "      <td>0.028770</td>\n",
              "      <td>3.003683</td>\n",
              "      <td>0.682721</td>\n",
              "      <td>1.425283</td>\n",
              "      <td>0.496987</td>\n",
              "      <td>0.475775</td>\n",
              "      <td>0.627229</td>\n",
              "      <td>0.190098</td>\n",
              "      <td>35.676218</td>\n",
              "      <td>153.786869</td>\n",
              "      <td>189.463088</td>\n",
              "    </tr>\n",
              "    <tr>\n",
              "      <th>std</th>\n",
              "      <td>5017.0295</td>\n",
              "      <td>1.106918</td>\n",
              "      <td>0.500008</td>\n",
              "      <td>3.438776</td>\n",
              "      <td>6.914405</td>\n",
              "      <td>0.167165</td>\n",
              "      <td>2.005771</td>\n",
              "      <td>0.465431</td>\n",
              "      <td>0.639357</td>\n",
              "      <td>0.192556</td>\n",
              "      <td>0.171850</td>\n",
              "      <td>0.192930</td>\n",
              "      <td>0.122340</td>\n",
              "      <td>49.305030</td>\n",
              "      <td>151.357286</td>\n",
              "      <td>181.387599</td>\n",
              "    </tr>\n",
              "    <tr>\n",
              "      <th>min</th>\n",
              "      <td>1.0000</td>\n",
              "      <td>1.000000</td>\n",
              "      <td>0.000000</td>\n",
              "      <td>1.000000</td>\n",
              "      <td>0.000000</td>\n",
              "      <td>0.000000</td>\n",
              "      <td>0.000000</td>\n",
              "      <td>0.000000</td>\n",
              "      <td>1.000000</td>\n",
              "      <td>0.020000</td>\n",
              "      <td>0.000000</td>\n",
              "      <td>0.000000</td>\n",
              "      <td>0.000000</td>\n",
              "      <td>0.000000</td>\n",
              "      <td>0.000000</td>\n",
              "      <td>1.000000</td>\n",
              "    </tr>\n",
              "    <tr>\n",
              "      <th>25%</th>\n",
              "      <td>4345.5000</td>\n",
              "      <td>2.000000</td>\n",
              "      <td>0.000000</td>\n",
              "      <td>4.000000</td>\n",
              "      <td>6.000000</td>\n",
              "      <td>0.000000</td>\n",
              "      <td>1.000000</td>\n",
              "      <td>0.000000</td>\n",
              "      <td>1.000000</td>\n",
              "      <td>0.340000</td>\n",
              "      <td>0.333300</td>\n",
              "      <td>0.480000</td>\n",
              "      <td>0.104500</td>\n",
              "      <td>4.000000</td>\n",
              "      <td>34.000000</td>\n",
              "      <td>40.000000</td>\n",
              "    </tr>\n",
              "    <tr>\n",
              "      <th>50%</th>\n",
              "      <td>8690.0000</td>\n",
              "      <td>3.000000</td>\n",
              "      <td>1.000000</td>\n",
              "      <td>7.000000</td>\n",
              "      <td>12.000000</td>\n",
              "      <td>0.000000</td>\n",
              "      <td>3.000000</td>\n",
              "      <td>1.000000</td>\n",
              "      <td>1.000000</td>\n",
              "      <td>0.500000</td>\n",
              "      <td>0.484800</td>\n",
              "      <td>0.630000</td>\n",
              "      <td>0.194000</td>\n",
              "      <td>17.000000</td>\n",
              "      <td>115.000000</td>\n",
              "      <td>142.000000</td>\n",
              "    </tr>\n",
              "    <tr>\n",
              "      <th>75%</th>\n",
              "      <td>13034.5000</td>\n",
              "      <td>3.000000</td>\n",
              "      <td>1.000000</td>\n",
              "      <td>10.000000</td>\n",
              "      <td>18.000000</td>\n",
              "      <td>0.000000</td>\n",
              "      <td>5.000000</td>\n",
              "      <td>1.000000</td>\n",
              "      <td>2.000000</td>\n",
              "      <td>0.660000</td>\n",
              "      <td>0.621200</td>\n",
              "      <td>0.780000</td>\n",
              "      <td>0.253700</td>\n",
              "      <td>48.000000</td>\n",
              "      <td>220.000000</td>\n",
              "      <td>281.000000</td>\n",
              "    </tr>\n",
              "    <tr>\n",
              "      <th>max</th>\n",
              "      <td>17379.0000</td>\n",
              "      <td>4.000000</td>\n",
              "      <td>1.000000</td>\n",
              "      <td>12.000000</td>\n",
              "      <td>23.000000</td>\n",
              "      <td>1.000000</td>\n",
              "      <td>6.000000</td>\n",
              "      <td>1.000000</td>\n",
              "      <td>4.000000</td>\n",
              "      <td>1.000000</td>\n",
              "      <td>1.000000</td>\n",
              "      <td>1.000000</td>\n",
              "      <td>0.850700</td>\n",
              "      <td>367.000000</td>\n",
              "      <td>886.000000</td>\n",
              "      <td>977.000000</td>\n",
              "    </tr>\n",
              "  </tbody>\n",
              "</table>\n",
              "</div>"
            ],
            "text/plain": [
              "           rec_id        season  ...    registered   total_count\n",
              "count  17379.0000  17379.000000  ...  17379.000000  17379.000000\n",
              "mean    8690.0000      2.501640  ...    153.786869    189.463088\n",
              "std     5017.0295      1.106918  ...    151.357286    181.387599\n",
              "min        1.0000      1.000000  ...      0.000000      1.000000\n",
              "25%     4345.5000      2.000000  ...     34.000000     40.000000\n",
              "50%     8690.0000      3.000000  ...    115.000000    142.000000\n",
              "75%    13034.5000      3.000000  ...    220.000000    281.000000\n",
              "max    17379.0000      4.000000  ...    886.000000    977.000000\n",
              "\n",
              "[8 rows x 16 columns]"
            ]
          },
          "metadata": {
            "tags": []
          },
          "execution_count": 20
        }
      ]
    },
    {
      "cell_type": "code",
      "metadata": {
        "id": "fpZX20MMKT8Y",
        "colab_type": "code",
        "colab": {
          "base_uri": "https://localhost:8080/",
          "height": 425
        },
        "outputId": "603e7f51-86e6-4c22-ea8e-e972adc4d69a"
      },
      "source": [
        "df.info()"
      ],
      "execution_count": 21,
      "outputs": [
        {
          "output_type": "stream",
          "text": [
            "<class 'pandas.core.frame.DataFrame'>\n",
            "RangeIndex: 17379 entries, 0 to 17378\n",
            "Data columns (total 17 columns):\n",
            " #   Column             Non-Null Count  Dtype         \n",
            "---  ------             --------------  -----         \n",
            " 0   datetime           17379 non-null  datetime64[ns]\n",
            " 1   rec_id             17379 non-null  int64         \n",
            " 2   season             17379 non-null  int64         \n",
            " 3   year               17379 non-null  int64         \n",
            " 4   month              17379 non-null  int64         \n",
            " 5   hour               17379 non-null  int64         \n",
            " 6   is_holiday         17379 non-null  int64         \n",
            " 7   weekday            17379 non-null  int64         \n",
            " 8   is_workingday      17379 non-null  int64         \n",
            " 9   weather_condition  17379 non-null  int64         \n",
            " 10  temp               17379 non-null  float64       \n",
            " 11  atemp              17379 non-null  float64       \n",
            " 12  humidity           17379 non-null  float64       \n",
            " 13  windspeed          17379 non-null  float64       \n",
            " 14  casual             17379 non-null  int64         \n",
            " 15  registered         17379 non-null  int64         \n",
            " 16  total_count        17379 non-null  int64         \n",
            "dtypes: datetime64[ns](1), float64(4), int64(12)\n",
            "memory usage: 2.3 MB\n"
          ],
          "name": "stdout"
        }
      ]
    },
    {
      "cell_type": "markdown",
      "metadata": {
        "id": "9LxnucPhPKN3",
        "colab_type": "text"
      },
      "source": [
        "### Registros de locações existem para o ano de 2011 e para 2012"
      ]
    },
    {
      "cell_type": "markdown",
      "metadata": {
        "id": "PAhTBoqRQWe2",
        "colab_type": "text"
      },
      "source": [
        "* Lembrar da descrição do dado, que no 0: 2011 enquanto 1:2012\n",
        "* A quantidade de colunas não muda."
      ]
    },
    {
      "cell_type": "code",
      "metadata": {
        "id": "__a0dCEFPRAZ",
        "colab_type": "code",
        "colab": {
          "base_uri": "https://localhost:8080/",
          "height": 68
        },
        "outputId": "ceb64c75-4d36-4a97-bb89-12b96b3a178e"
      },
      "source": [
        "df['year'].value_counts()"
      ],
      "execution_count": 25,
      "outputs": [
        {
          "output_type": "execute_result",
          "data": {
            "text/plain": [
              "1    8734\n",
              "0    8645\n",
              "Name: year, dtype: int64"
            ]
          },
          "metadata": {
            "tags": []
          },
          "execution_count": 25
        }
      ]
    },
    {
      "cell_type": "code",
      "metadata": {
        "id": "BhwjnTi-STpV",
        "colab_type": "code",
        "colab": {
          "base_uri": "https://localhost:8080/",
          "height": 320
        },
        "outputId": "6710427f-643c-405e-b7cf-1b845b6fdbdd"
      },
      "source": [
        "#Em gráfico de barras\n",
        "df['year'].value_counts().plot.bar(figsize=(10,5), rot=0);"
      ],
      "execution_count": 36,
      "outputs": [
        {
          "output_type": "display_data",
          "data": {
            "image/png": "[encoded data removed]",
            "text/plain": [
              "<Figure size 720x360 with 1 Axes>"
            ]
          },
          "metadata": {
            "tags": [],
            "needs_background": "light"
          }
        }
      ]
    },
    {
      "cell_type": "markdown",
      "metadata": {
        "id": "bXRPuvVQR5B-",
        "colab_type": "text"
      },
      "source": [
        "### Total de locações em 2011 e *2012*\n",
        "* total_count"
      ]
    },
    {
      "cell_type": "code",
      "metadata": {
        "id": "HDLLBqyvR7cZ",
        "colab_type": "code",
        "colab": {
          "base_uri": "https://localhost:8080/",
          "height": 51
        },
        "outputId": "5130ede3-92cf-4884-911b-a1e2cdee4b06"
      },
      "source": [
        "#Criando um novo dataframe através da subdivisão do dataframe atual.\n",
        "total = df[df['year']==0]\n",
        "valor_2011 = total['total_count'].sum()\n",
        "print(\"O total de locações em 2011 foi: \"+ str(valor_2011)) \n",
        "\n",
        "total2 = df[df['year']==1]\n",
        "valor_2012 = total2['total_count'].sum()\n",
        "print(\"O total de locações em 2012 foi: \"+ str(valor_2012)) "
      ],
      "execution_count": 40,
      "outputs": [
        {
          "output_type": "stream",
          "text": [
            "O total de locações em 2011 foi: 1243103\n",
            "O total de locações em 2012 foi: 2049576\n"
          ],
          "name": "stdout"
        }
      ]
    },
    {
      "cell_type": "markdown",
      "metadata": {
        "id": "iTHpy2SEaK0Z",
        "colab_type": "text"
      },
      "source": [
        "### Estação com maior média de locações\n",
        "- season : estação do ano (1: inverno, 2: primevera, 3: verão, 4: outono). \n",
        "* total_count"
      ]
    },
    {
      "cell_type": "code",
      "metadata": {
        "id": "T1tpXG_EZKcW",
        "colab_type": "code",
        "colab": {
          "base_uri": "https://localhost:8080/",
          "height": 436
        },
        "outputId": "c5a08d59-7e7d-47d1-ce4b-aefbf9f14866"
      },
      "source": [
        "#Agrupando o dado por estação e mostrando apenas a coluna com o total de locações\n",
        "total_estacoes = df.groupby(by='season').mean()\n",
        "total_estacoes = total_estacoes[['total_count']]\n",
        "print(total_estacoes)\n",
        "\n",
        "total_estacoes.plot.bar(figsize=(10,5), rot=0);"
      ],
      "execution_count": 67,
      "outputs": [
        {
          "output_type": "stream",
          "text": [
            "        total_count\n",
            "season             \n",
            "1        111.114569\n",
            "2        208.344069\n",
            "3        236.016237\n",
            "4        198.868856\n"
          ],
          "name": "stdout"
        },
        {
          "output_type": "display_data",
          "data": {
            "image/png": "[encoded data removed]",
            "text/plain": [
              "<Figure size 720x360 with 1 Axes>"
            ]
          },
          "metadata": {
            "tags": [],
            "needs_background": "light"
          }
        }
      ]
    },
    {
      "cell_type": "markdown",
      "metadata": {
        "id": "yh0rrOe8fmUB",
        "colab_type": "text"
      },
      "source": [
        "### Horário do dia com maior e menor média de locação\n",
        "* hour : hora do dia (0 a 23);\n",
        "* total_count."
      ]
    },
    {
      "cell_type": "code",
      "metadata": {
        "id": "1fuYKrkPbfwe",
        "colab_type": "code",
        "colab": {
          "base_uri": "https://localhost:8080/",
          "height": 776
        },
        "outputId": "0bdd155b-570b-44cc-e669-b0db079f6252"
      },
      "source": [
        "horas_locacao = df.groupby(by='hour').mean()\n",
        "horas_locacao = horas_locacao[['total_count']]\n",
        "print(horas_locacao)\n",
        "horas_locacao.plot.bar(figsize=(10,5), rot=0);"
      ],
      "execution_count": 68,
      "outputs": [
        {
          "output_type": "stream",
          "text": [
            "      total_count\n",
            "hour             \n",
            "0       53.898072\n",
            "1       33.375691\n",
            "2       22.869930\n",
            "3       11.727403\n",
            "4        6.352941\n",
            "5       19.889819\n",
            "6       76.044138\n",
            "7      212.064649\n",
            "8      359.011004\n",
            "9      219.309491\n",
            "10     173.668501\n",
            "11     208.143054\n",
            "12     253.315934\n",
            "13     253.661180\n",
            "14     240.949246\n",
            "15     251.233196\n",
            "16     311.983562\n",
            "17     461.452055\n",
            "18     425.510989\n",
            "19     311.523352\n",
            "20     226.030220\n",
            "21     172.314560\n",
            "22     131.335165\n",
            "23      87.831044\n"
          ],
          "name": "stdout"
        },
        {
          "output_type": "display_data",
          "data": {
            "image/png": "[encoded data removed]",
            "text/plain": [
              "<Figure size 720x360 with 1 Axes>"
            ]
          },
          "metadata": {
            "tags": [],
            "needs_background": "light"
          }
        }
      ]
    },
    {
      "cell_type": "markdown",
      "metadata": {
        "id": "Lgbuw0NwgWeZ",
        "colab_type": "text"
      },
      "source": [
        "### Dia da senmana e média de locação\n",
        "* weekday : dia da semana (0: domingo, 1: segunda-feira, …, 6: sábado);\n"
      ]
    },
    {
      "cell_type": "code",
      "metadata": {
        "id": "9RmGqT3NgHZX",
        "colab_type": "code",
        "colab": {
          "base_uri": "https://localhost:8080/",
          "height": 521
        },
        "outputId": "1eaebe69-5810-4a67-8b79-c0a7edcb665a"
      },
      "source": [
        "dia_locacao = df.groupby(by='weekday').mean()\n",
        "dia_locacao = dia_locacao[['total_count']]\n",
        "print(dia_locacao)\n",
        "print(\"O maior valor é: \"+ str(dia_locacao.values.max()) + \" e corresponde a \"+ str(dia_locacao.idxmax()))\n",
        "dia_locacao.plot.bar(figsize=(10,5), rot=0);"
      ],
      "execution_count": 90,
      "outputs": [
        {
          "output_type": "stream",
          "text": [
            "         total_count\n",
            "weekday             \n",
            "0         177.468825\n",
            "1         183.744655\n",
            "2         191.238891\n",
            "3         191.130505\n",
            "4         196.436665\n",
            "5         196.135907\n",
            "6         190.209793\n",
            "O maior valor é: 196.43666531768514 e corresponde a total_count    4\n",
            "dtype: int64\n"
          ],
          "name": "stdout"
        },
        {
          "output_type": "display_data",
          "data": {
            "image/png": "[encoded data removed]",
            "text/plain": [
              "<Figure size 720x360 with 1 Axes>"
            ]
          },
          "metadata": {
            "tags": [],
            "needs_background": "light"
          }
        }
      ]
    },
    {
      "cell_type": "markdown",
      "metadata": {
        "id": "r0o7rd6BnknU",
        "colab_type": "text"
      },
      "source": [
        "### Análise de horário para um dia da semana específico"
      ]
    },
    {
      "cell_type": "code",
      "metadata": {
        "id": "JAz_NadGgrO3",
        "colab_type": "code",
        "colab": {
          "base_uri": "https://localhost:8080/",
          "height": 776
        },
        "outputId": "ad771ee8-12ac-474a-99f6-d0a323a9cdad"
      },
      "source": [
        "#Usando a indexação Booleana\n",
        "#Às quartas-feiras (weekday = 3), qual o horário do dia contém a maior média de locações de bicicletas?\n",
        "\n",
        "condicao_quarta = df['weekday'] == 3\n",
        "df_quarta = df[condicao_quarta]\n",
        "\n",
        "horas_locacao = df_quarta.groupby(by='hour').mean()\n",
        "horas_locacao = horas_locacao[['total_count']]\n",
        "print(horas_locacao)\n",
        "horas_locacao.plot.bar(figsize=(10,5), rot=0);"
      ],
      "execution_count": 100,
      "outputs": [
        {
          "output_type": "stream",
          "text": [
            "      total_count\n",
            "hour             \n",
            "0       34.557692\n",
            "1       15.336538\n",
            "2        7.813725\n",
            "3        4.888889\n",
            "4        4.968750\n",
            "5       25.750000\n",
            "6      107.807692\n",
            "7      303.980769\n",
            "8      488.326923\n",
            "9      238.528846\n",
            "10     131.894231\n",
            "11     152.201923\n",
            "12     193.903846\n",
            "13     185.826923\n",
            "14     170.548077\n",
            "15     181.288462\n",
            "16     272.961538\n",
            "17     513.144231\n",
            "18     494.029126\n",
            "19     357.504854\n",
            "20     256.660194\n",
            "21     194.669903\n",
            "22     143.689320\n",
            "23      83.737864\n"
          ],
          "name": "stdout"
        },
        {
          "output_type": "display_data",
          "data": {
            "image/png": "[encoded data removed]",
            "text/plain": [
              "<Figure size 720x360 with 1 Axes>"
            ]
          },
          "metadata": {
            "tags": [],
            "needs_background": "light"
          }
        }
      ]
    },
    {
      "cell_type": "code",
      "metadata": {
        "id": "U3PJ_800n1F_",
        "colab_type": "code",
        "colab": {
          "base_uri": "https://localhost:8080/",
          "height": 777
        },
        "outputId": "e1362c19-f81b-4076-ad4a-7521016cd65d"
      },
      "source": [
        "#Usando a indexação Booleana\n",
        "#Aos sábados (weekday = 6), qual o horário do dia contém a maior média de locações de bicicletas?\n",
        "condicao_sabado = df['weekday'] == 6\n",
        "df_sabado = df[condicao_sabado]\n",
        "\n",
        "horas_locacao = df_sabado.groupby(by='hour').mean()\n",
        "horas_locacao = horas_locacao[['total_count']]\n",
        "print(horas_locacao)\n",
        "horas_locacao.plot.bar(figsize=(10,5), rot=0);"
      ],
      "execution_count": 98,
      "outputs": [
        {
          "output_type": "stream",
          "text": [
            "      total_count\n",
            "hour             \n",
            "0       94.304762\n",
            "1       67.780952\n",
            "2       50.495238\n",
            "3       22.885714\n",
            "4        7.657143\n",
            "5        8.291262\n",
            "6       21.000000\n",
            "7       45.961905\n",
            "8      114.476190\n",
            "9      186.790476\n",
            "10     263.723810\n",
            "11     328.609524\n",
            "12     375.380952\n",
            "13     385.371429\n",
            "14     381.333333\n",
            "15     382.428571\n",
            "16     366.142857\n",
            "17     334.409524\n",
            "18     292.048077\n",
            "19     239.932692\n",
            "20     180.865385\n",
            "21     156.000000\n",
            "22     139.663462\n",
            "23     115.855769\n"
          ],
          "name": "stdout"
        },
        {
          "output_type": "display_data",
          "data": {
            "image/png": "[encoded data removed]",
            "text/plain": [
              "<Figure size 720x360 with 1 Axes>"
            ]
          },
          "metadata": {
            "tags": [],
            "needs_background": "light"
          }
        }
      ]
    }
  ]
}