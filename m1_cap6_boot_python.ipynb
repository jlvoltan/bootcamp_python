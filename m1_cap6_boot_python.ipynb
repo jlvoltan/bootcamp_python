{
  "nbformat": 4,
  "nbformat_minor": 0,
  "metadata": {
    "colab": {
      "name": "m1_cap6_boot_python.ipynb",
      "provenance": [],
      "collapsed_sections": [],
      "authorship_tag": "ABX9TyOYTKwr7CdgyiZPqimskYms",
      "include_colab_link": true
    },
    "kernelspec": {
      "name": "python3",
      "display_name": "Python 3"
    }
  },
  "cells": [
    {
      "cell_type": "markdown",
      "metadata": {
        "id": "view-in-github",
        "colab_type": "text"
      },
      "source": [
        "<a href=\"https://colab.research.google.com/github/jlvoltan/bootcamp_python/blob/master/m1_cap6_boot_python.ipynb\" target=\"_parent\"><img src=\"https://colab.research.google.com/assets/colab-badge.svg\" alt=\"Open In Colab\"/></a>"
      ]
    },
    {
      "cell_type": "markdown",
      "metadata": {
        "id": "yBfKa-wOHPOV",
        "colab_type": "text"
      },
      "source": [
        "# **Módulo 1 - Cap 6 - Bootcamp PYTHON**\n",
        "*Atualizado em 23 JUL 2020* \n",
        "\n",
        "\n"
      ]
    },
    {
      "cell_type": "markdown",
      "metadata": {
        "id": "YMXWSuDUHXH1",
        "colab_type": "text"
      },
      "source": [
        "## **Classes**"
      ]
    },
    {
      "cell_type": "markdown",
      "metadata": {
        "id": "43IrAXMgJYj2",
        "colab_type": "text"
      },
      "source": [
        "* Elemento de abstração;\n",
        "  * Na modelagem de Classes existem 2 formas de se fazer: \n",
        "    * 1) Generalização: Carro, moto e caminhão, eles têm o que em comum? \n",
        "    * 2) Particularização: veículo, tem quais tipos/classes ?\n",
        "* Permite o re-uso de código;\n",
        "  * Junta as características comuns em uma classe pai;\n",
        "* Cada classe possui atributos e métodos."
      ]
    },
    {
      "cell_type": "markdown",
      "metadata": {
        "id": "oIcIoVlFMVwP",
        "colab_type": "text"
      },
      "source": [
        "### Construtores: \n",
        "* Servem para iniciar uma nova instância\n",
        "  * parâmetro self é convensão e não palavra reservada\n",
        "* São chamados ao se criar um novo objeto"
      ]
    },
    {
      "cell_type": "code",
      "metadata": {
        "id": "UKCMWihNHGpw",
        "colab_type": "code",
        "colab": {}
      },
      "source": [
        "class Carro:\n",
        "  ''' Denifição da classe, o q ela faz...'''\n",
        "  pass #serve pra postergar a definição da classe"
      ],
      "execution_count": null,
      "outputs": []
    },
    {
      "cell_type": "code",
      "metadata": {
        "id": "oRwoGokWHPAA",
        "colab_type": "code",
        "colab": {
          "base_uri": "https://localhost:8080/",
          "height": 238
        },
        "outputId": "fd11b9a9-f901-490f-bcaf-4ea0e3d256bd"
      },
      "source": [
        "help(Carro)\n",
        "#posso usar para um objeto de uma classe o objeto.__doc__"
      ],
      "execution_count": null,
      "outputs": [
        {
          "output_type": "stream",
          "text": [
            "Help on class Carro in module __main__:\n",
            "\n",
            "class Carro(builtins.object)\n",
            " |  Denifição da classe, o q ela faz...\n",
            " |  \n",
            " |  Data descriptors defined here:\n",
            " |  \n",
            " |  __dict__\n",
            " |      dictionary for instance variables (if defined)\n",
            " |  \n",
            " |  __weakref__\n",
            " |      list of weak references to the object (if defined)\n",
            "\n"
          ],
          "name": "stdout"
        }
      ]
    },
    {
      "cell_type": "code",
      "metadata": {
        "id": "d55QTa2JKYGX",
        "colab_type": "code",
        "colab": {}
      },
      "source": [
        "class Carro:\n",
        "  ''' Classe Usada para definir um carro.'''\n",
        "  #Construtor\n",
        "  def __init__(self,combustivel=\"gasolina\",ocupantes=4):\n",
        "    self.combustivel=combustivel\n",
        "    self.ocupantes=ocupantes\n",
        "\n",
        "  # Atributos\n",
        "  marca = \"\"\n",
        "    \n",
        "  #métodos\n",
        "  def get_combustivel(self): return self.combustivel\n",
        "  def get_ocupantes(self): return self.ocupantes\n",
        "  def get_marcas(self): return self.marca\n",
        "  def set_combustivel(self,liquido): self.combustivel = liquido\n",
        "  def set_ocupantes(self,quantidade_passageiros): self.ocupantes = quantidade_passageiros\n",
        "  def set_marca(self,marca): self.marca = marca\n",
        "\n",
        " "
      ],
      "execution_count": null,
      "outputs": []
    },
    {
      "cell_type": "code",
      "metadata": {
        "id": "0GYkl_rZL6Ww",
        "colab_type": "code",
        "colab": {
          "base_uri": "https://localhost:8080/",
          "height": 35
        },
        "outputId": "b557dbee-91a8-415f-95ea-abe8a072ed1f"
      },
      "source": [
        "uno = Carro()\n",
        "gol = Carro()\n",
        "gol.set_combustivel(\"diesel\")\n",
        "gol.get_combustivel()"
      ],
      "execution_count": null,
      "outputs": [
        {
          "output_type": "execute_result",
          "data": {
            "application/vnd.google.colaboratory.intrinsic+json": {
              "type": "string"
            },
            "text/plain": [
              "'diesel'"
            ]
          },
          "metadata": {
            "tags": []
          },
          "execution_count": 25
        }
      ]
    },
    {
      "cell_type": "markdown",
      "metadata": {
        "id": "5D1G4LqdVf_b",
        "colab_type": "text"
      },
      "source": [
        "### del\n",
        "* Pode ser usado para excluir um atributo, um objeto..."
      ]
    },
    {
      "cell_type": "code",
      "metadata": {
        "id": "s7WZIDmAVLrB",
        "colab_type": "code",
        "colab": {
          "base_uri": "https://localhost:8080/",
          "height": 35
        },
        "outputId": "75c54c62-b92d-450a-c969-03b9e447bf1c"
      },
      "source": [
        "del gol.combustivel   #exclui o atributo só do gol\n",
        "#gol.get_combustivel()\n",
        "uno.get_combustivel()"
      ],
      "execution_count": null,
      "outputs": [
        {
          "output_type": "execute_result",
          "data": {
            "application/vnd.google.colaboratory.intrinsic+json": {
              "type": "string"
            },
            "text/plain": [
              "'gasolina'"
            ]
          },
          "metadata": {
            "tags": []
          },
          "execution_count": 26
        }
      ]
    },
    {
      "cell_type": "code",
      "metadata": {
        "id": "unDzDADvWEJE",
        "colab_type": "code",
        "colab": {}
      },
      "source": [
        "del gol"
      ],
      "execution_count": null,
      "outputs": []
    },
    {
      "cell_type": "markdown",
      "metadata": {
        "id": "5B6dFqkPWM7a",
        "colab_type": "text"
      },
      "source": [
        "## Heranças\n"
      ]
    },
    {
      "cell_type": "markdown",
      "metadata": {
        "id": "53Z8dsYXcDQY",
        "colab_type": "text"
      },
      "source": [
        "* Uma classe pode herdar características (atributos e métodos) de outra, e ter novas.\n",
        "* Permite reuso de código\n",
        "* Podemos sobrescrever métodos, até mesmo o construtor.\n",
        "*Uso do super() para invocar um método sobrescrito do pai"
      ]
    },
    {
      "cell_type": "code",
      "metadata": {
        "id": "XH48BlXYWPA_",
        "colab_type": "code",
        "colab": {}
      },
      "source": [
        "class Pai:\n",
        "  '''Classe Pai'''\n",
        "  pass\n",
        "class Filho(Pai)\n",
        "  '''Classe Filho'''\n",
        "  pass"
      ],
      "execution_count": null,
      "outputs": []
    },
    {
      "cell_type": "markdown",
      "metadata": {
        "id": "1X28_wWxhfVv",
        "colab_type": "text"
      },
      "source": [
        "Métodos nativos interessantes:\n",
        "* issubclass(Filho,Pai)\n",
        "* isinstance(objeto,classe)"
      ]
    },
    {
      "cell_type": "code",
      "metadata": {
        "id": "Tv6lN07Vcllu",
        "colab_type": "code",
        "colab": {}
      },
      "source": [
        "class Carro:\n",
        "  ''' Classe Usada para definir um carro.'''\n",
        "  #Construtor\n",
        "  def __init__(self,combustivel=\"diesel\",ocupantes=4):\n",
        "    self.combustivel=combustivel\n",
        "    self.ocupantes=ocupantes\n",
        "    \n",
        "  #métodos\n",
        "  def get_combustivel(self): return self.combustivel\n",
        "  def get_ocupantes(self): return self.ocupantes\n",
        "  def set_combustivel(self,liquido): self.combustivel = liquido\n",
        "  def set_ocupantes(self,quantidade_passageiros): self.ocupantes = quantidade_passageiros\n"
      ],
      "execution_count": 2,
      "outputs": []
    },
    {
      "cell_type": "code",
      "metadata": {
        "id": "BCxChSN7izck",
        "colab_type": "code",
        "colab": {}
      },
      "source": [
        "class Carro_passeio(Carro):\n",
        "  '''Classe veículo de passeio, com gasolina e 4 lugares'''\n",
        "  #Construtor\n",
        "  def __init__(self,placa):\n",
        "    super().__init__(combustivel=\"gasolina\",ocupantes=4)\n",
        "    self.placa = placa\n",
        "\n",
        "    "
      ],
      "execution_count": 7,
      "outputs": []
    },
    {
      "cell_type": "code",
      "metadata": {
        "id": "fAOSrQtijg85",
        "colab_type": "code",
        "colab": {
          "base_uri": "https://localhost:8080/",
          "height": 34
        },
        "outputId": "c901338c-8a4d-479f-fcf5-044f5800b936"
      },
      "source": [
        "uno = Carro_passeio(\"KVW9999\")\n",
        "print(uno.get_combustivel())"
      ],
      "execution_count": 10,
      "outputs": [
        {
          "output_type": "stream",
          "text": [
            "gasolina\n"
          ],
          "name": "stdout"
        }
      ]
    },
    {
      "cell_type": "markdown",
      "metadata": {
        "id": "omymXY-Nh-ss",
        "colab_type": "text"
      },
      "source": [
        "## Polimorfismo\n"
      ]
    },
    {
      "cell_type": "markdown",
      "metadata": {
        "id": "0Pa8jvSCkb7Y",
        "colab_type": "text"
      },
      "source": [
        "* É uma forma de termos vários métodos de mesmo nome;\n",
        "* Posso fazer a diferenciação pela passagem dos parâmetros\n",
        "  * Exemplo do '+' posso operar *Str + Str* ou *int + int* .. os métodos são diferentes \n",
        "* Posso diferenciar na classe filha. É conhecido como Polimorfismo de *Subtyping*\n",
        "  * P.e.  pai tem o metodo1(); a filha1 tem metodo1() e a filha2 também tem metodo1() cada método sendo executado de uma forma. \n",
        "\n",
        "* Em outras linguagens tenho o polimorfismo por sobrecarga, como Python é uma linguagem de tipagem dinâmica, isso **NÃO** EXISTE AQUI.  "
      ]
    },
    {
      "cell_type": "code",
      "metadata": {
        "id": "2VdaNoMLvfFP",
        "colab_type": "code",
        "colab": {}
      },
      "source": [
        "#Não existência de polimorfismo por sobrecarga\n",
        "def media( elemento_1, elemento_2):\n",
        "  soma = elemento_1 + elemento_2\n",
        "  print(\"Média de 2 elementos...\")\n",
        "  return soma/2\n",
        "\n",
        "def media( elemento_1, elemento_2, elemento_3):\n",
        "  soma = elemento_1 + elemento_2 + elemento_3\n",
        "  print(\"Média de 3 elementos...\")\n",
        "  return soma/3\n",
        "\n",
        "#perceba que agora a função media() com dois parâmetros, deixou de existir; Só temos com 3 parâmetros:\n",
        "# Dependendo do caso, essa limitação pode ser contornada através do uso de parâmetros default. "
      ],
      "execution_count": 14,
      "outputs": []
    },
    {
      "cell_type": "code",
      "metadata": {
        "id": "YTAHbWpevqE5",
        "colab_type": "code",
        "colab": {
          "base_uri": "https://localhost:8080/",
          "height": 164
        },
        "outputId": "2bf1367d-5d3c-424c-fa24-d9b72afd7af1"
      },
      "source": [
        "media(2,6)"
      ],
      "execution_count": 18,
      "outputs": [
        {
          "output_type": "error",
          "ename": "TypeError",
          "evalue": "ignored",
          "traceback": [
            "\u001b[0;31m---------------------------------------------------------------------------\u001b[0m",
            "\u001b[0;31mTypeError\u001b[0m                                 Traceback (most recent call last)",
            "\u001b[0;32m<ipython-input-18-e963ef2e2b94>\u001b[0m in \u001b[0;36m<module>\u001b[0;34m()\u001b[0m\n\u001b[0;32m----> 1\u001b[0;31m \u001b[0mmedia\u001b[0m\u001b[0;34m(\u001b[0m\u001b[0;36m2\u001b[0m\u001b[0;34m,\u001b[0m\u001b[0;36m6\u001b[0m\u001b[0;34m)\u001b[0m\u001b[0;34m\u001b[0m\u001b[0;34m\u001b[0m\u001b[0m\n\u001b[0m",
            "\u001b[0;31mTypeError\u001b[0m: media() missing 1 required positional argument: 'elemento_3'"
          ]
        }
      ]
    },
    {
      "cell_type": "code",
      "metadata": {
        "id": "7atopcFAv7L3",
        "colab_type": "code",
        "colab": {
          "base_uri": "https://localhost:8080/",
          "height": 51
        },
        "outputId": "e3b3e3bc-acc1-4e3f-8e2b-e6ffe71172a9"
      },
      "source": [
        "media(2,6,7)"
      ],
      "execution_count": 19,
      "outputs": [
        {
          "output_type": "stream",
          "text": [
            "Média de 3 elementos...\n"
          ],
          "name": "stdout"
        },
        {
          "output_type": "execute_result",
          "data": {
            "text/plain": [
              "5.0"
            ]
          },
          "metadata": {
            "tags": []
          },
          "execution_count": 19
        }
      ]
    }
  ]
}