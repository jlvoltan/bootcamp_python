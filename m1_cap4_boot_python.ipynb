{
  "nbformat": 4,
  "nbformat_minor": 0,
  "metadata": {
    "colab": {
      "name": "m1_cap4_boot_python.ipynb",
      "provenance": [],
      "collapsed_sections": [
        "FudDOXFo02P2",
        "RxkIU6eua6ht",
        "4jevvD1kSVLU",
        "xf48o3Mkb69F",
        "GCvm9J4fi9R3",
        "EBkVOh2xk7o3",
        "X7NPB7MbnKRW",
        "ZJou-j4douOs",
        "77Cz2GWmHcxT"
      ],
      "authorship_tag": "ABX9TyPHobjN1utfI7hxeu3KNQgc",
      "include_colab_link": true
    },
    "kernelspec": {
      "name": "python3",
      "display_name": "Python 3"
    }
  },
  "cells": [
    {
      "cell_type": "markdown",
      "metadata": {
        "id": "view-in-github",
        "colab_type": "text"
      },
      "source": [
        "<a href=\"https://colab.research.google.com/github/jlvoltan/bootcamp_python/blob/master/m1_cap4_boot_python.ipynb\" target=\"_parent\"><img src=\"https://colab.research.google.com/assets/colab-badge.svg\" alt=\"Open In Colab\"/></a>"
      ]
    },
    {
      "cell_type": "markdown",
      "metadata": {
        "id": "oijHAfMeWB9t",
        "colab_type": "text"
      },
      "source": [
        "# **Módulo 1 - Cap 4 - Bootcamp PYTHON**\n",
        "*Atualizado em 23 JUL 2020*"
      ]
    },
    {
      "cell_type": "markdown",
      "metadata": {
        "id": "FudDOXFo02P2",
        "colab_type": "text"
      },
      "source": [
        "##Escopo em Python\n"
      ]
    },
    {
      "cell_type": "markdown",
      "metadata": {
        "id": "cgxAxSrF1B4J",
        "colab_type": "text"
      },
      "source": [
        "* As variáveis são restritas ao escopo de sua criação.\n",
        "* Variável de mesmo nome em + de 1 escopo:\n",
        "    - Posso acessar a variavel externa com uso da palavra global"
      ]
    },
    {
      "cell_type": "code",
      "metadata": {
        "id": "kulZEqvJ1ixX",
        "colab_type": "code",
        "colab": {
          "base_uri": "https://localhost:8080/",
          "height": 68
        },
        "outputId": "6576606a-360b-4e41-9ed8-ffb2f29ee7ed"
      },
      "source": [
        "variavel1 = 500\n",
        "variavel2 = 9\n",
        "\n",
        "def uma_funcao():\n",
        "  variavel1 = 200\n",
        "  print(variavel1)\n",
        "  \n",
        "  global variavel2\n",
        "  variavel2 = 1\n",
        "\n",
        "uma_funcao()\n",
        "print(variavel1)\n",
        "print(variavel2)"
      ],
      "execution_count": null,
      "outputs": [
        {
          "output_type": "stream",
          "text": [
            "200\n",
            "500\n",
            "1\n"
          ],
          "name": "stdout"
        }
      ]
    },
    {
      "cell_type": "markdown",
      "metadata": {
        "id": "q0bNnyue2PWf",
        "colab_type": "text"
      },
      "source": [
        "* Variaveis declaradas dentro do escopo local, tornam-se globais:"
      ]
    },
    {
      "cell_type": "code",
      "metadata": {
        "colab_type": "code",
        "id": "OJJ6XuyG2OVa",
        "colab": {
          "base_uri": "https://localhost:8080/",
          "height": 51
        },
        "outputId": "275951ed-49e4-457a-d276-9a3aaf956f1f"
      },
      "source": [
        "def uma_funcao():\n",
        "  global variavel1\n",
        "  variavel1 = 200\n",
        "  print(variavel1)\n",
        "\n",
        "uma_funcao()\n",
        "print(variavel1)"
      ],
      "execution_count": null,
      "outputs": [
        {
          "output_type": "stream",
          "text": [
            "200\n",
            "200\n"
          ],
          "name": "stdout"
        }
      ]
    },
    {
      "cell_type": "markdown",
      "metadata": {
        "id": "jRzrnm9pQXq1",
        "colab_type": "text"
      },
      "source": [
        "###Pilha de dados - Stack Data"
      ]
    },
    {
      "cell_type": "markdown",
      "metadata": {
        "id": "gvHVyK54QhcM",
        "colab_type": "text"
      },
      "source": [
        "* FILO - First in - Last out\n",
        "* Adição e retirada ocorrem no topo da pilha\n",
        "* o Python trabalha dessa forma com os escopos locais e globais\n"
      ]
    },
    {
      "cell_type": "markdown",
      "metadata": {
        "id": "vMjuCfQbzteG",
        "colab_type": "text"
      },
      "source": [
        "* **Nome da função**: Deve fazer sentido com a tarefa da função\n",
        "* **Tarefa**: O que ela irá executar\n",
        "* **Argumentos**: Definir quais ela irá receber\n",
        "* **Retorno**: O que a função deve retornar\n"
      ]
    },
    {
      "cell_type": "markdown",
      "metadata": {
        "id": "RxkIU6eua6ht",
        "colab_type": "text"
      },
      "source": [
        "##Funções"
      ]
    },
    {
      "cell_type": "code",
      "metadata": {
        "id": "PG1Efh_TTaIr",
        "colab_type": "code",
        "colab": {}
      },
      "source": [
        "#Definindo a função\n",
        "def funcao_imprime_nome(nome):\n",
        "  \"\"\" A função imprime o nome passado e retorna 1 se realizou com sucesso\"\"\"\n",
        "  print(\"O seu nome é \", nome)\n",
        "  return 1"
      ],
      "execution_count": null,
      "outputs": []
    },
    {
      "cell_type": "code",
      "metadata": {
        "id": "dk86opnftBak",
        "colab_type": "code",
        "colab": {
          "base_uri": "https://localhost:8080/",
          "height": 51
        },
        "outputId": "d74f9a11-76c0-494a-e05e-08c6877d0106"
      },
      "source": [
        "#Executando/Chamando a função\n",
        "funcao_imprimi_nome(\"Jose\")"
      ],
      "execution_count": null,
      "outputs": [
        {
          "output_type": "stream",
          "text": [
            "O seu nome é  Jose\n"
          ],
          "name": "stdout"
        },
        {
          "output_type": "execute_result",
          "data": {
            "text/plain": [
              "1"
            ]
          },
          "metadata": {
            "tags": []
          },
          "execution_count": 2
        }
      ]
    },
    {
      "cell_type": "markdown",
      "metadata": {
        "id": "T4r6Qduyr3Yi",
        "colab_type": "text"
      },
      "source": [
        "* Posso passar parâmetros;\n",
        "* A função pode me retornar valores;\n",
        "* A função tem um propósito específico (p.e. calcular uma reta, área de um obj.)\n",
        "* Proporciona reuso de código.\n"
      ]
    },
    {
      "cell_type": "markdown",
      "metadata": {
        "id": "4jevvD1kSVLU",
        "colab_type": "text"
      },
      "source": [
        "##Funções predicadas"
      ]
    },
    {
      "cell_type": "markdown",
      "metadata": {
        "id": "XEOSdc9YSvxs",
        "colab_type": "text"
      },
      "source": [
        "* São aquelas funções que retornam True or False."
      ]
    },
    {
      "cell_type": "code",
      "metadata": {
        "id": "ZB-2zZd0SApi",
        "colab_type": "code",
        "colab": {
          "base_uri": "https://localhost:8080/",
          "height": 34
        },
        "outputId": "23de0eed-a39d-4581-fb02-3361bee5e186"
      },
      "source": [
        "def verifica_par(numero):\n",
        "  eh_par = False\n",
        "  if (numero%2 == 0):\n",
        "    eh_par = True\n",
        "  return eh_par\n",
        "\n",
        "print(verifica_par(5))"
      ],
      "execution_count": null,
      "outputs": [
        {
          "output_type": "stream",
          "text": [
            "False\n"
          ],
          "name": "stdout"
        }
      ]
    },
    {
      "cell_type": "markdown",
      "metadata": {
        "id": "xf48o3Mkb69F",
        "colab_type": "text"
      },
      "source": [
        "##Abordagens de desenvolvimento"
      ]
    },
    {
      "cell_type": "markdown",
      "metadata": {
        "id": "fu_3-ECgccLo",
        "colab_type": "text"
      },
      "source": [
        "![texto alternativo](https://drive.google.com/uc?id=14rF9EmgLmwQafxh6Guawery8_46ACUa4)"
      ]
    },
    {
      "cell_type": "markdown",
      "metadata": {
        "id": "d_XhNADbdu-D",
        "colab_type": "text"
      },
      "source": [
        "* POO utiliza Bottom-up"
      ]
    },
    {
      "cell_type": "markdown",
      "metadata": {
        "id": "GCvm9J4fi9R3",
        "colab_type": "text"
      },
      "source": [
        "## Recursividade em funções\n",
        "* Uma função que chama a si mesma;\n",
        "* exemplos clássicos: \n",
        "    * Fatorial:  n! = n * (n-1)!  e 1!=1\n",
        "    * Número de Fibonatti : Fn = F*(n-1)* + F*(n-2)*  e F*1* = F*2* = 1   "
      ]
    },
    {
      "cell_type": "code",
      "metadata": {
        "id": "ONbMCg0ATcVq",
        "colab_type": "code",
        "colab": {}
      },
      "source": [
        "def fibonatti(n):\n",
        "  if (n==1 or n==2): return 1\n",
        "  else: return (fibonatti(n-1) + fibonatti(n-2))"
      ],
      "execution_count": null,
      "outputs": []
    },
    {
      "cell_type": "code",
      "metadata": {
        "id": "x2VRJqOXkfkV",
        "colab_type": "code",
        "colab": {
          "base_uri": "https://localhost:8080/",
          "height": 34
        },
        "outputId": "c1a727f0-4f2f-420d-a385-0a94280cc95f"
      },
      "source": [
        "print(fibonatti(6))"
      ],
      "execution_count": null,
      "outputs": [
        {
          "output_type": "stream",
          "text": [
            "8\n"
          ],
          "name": "stdout"
        }
      ]
    },
    {
      "cell_type": "markdown",
      "metadata": {
        "id": "EBkVOh2xk7o3",
        "colab_type": "text"
      },
      "source": [
        "## main()\n",
        "* Não precisa, mas facilita\n"
      ]
    },
    {
      "cell_type": "code",
      "metadata": {
        "id": "aRFMtmbmkudU",
        "colab_type": "code",
        "colab": {
          "base_uri": "https://localhost:8080/",
          "height": 34
        },
        "outputId": "ba5a57d2-d4f3-46d4-e716-9bb2a5a876ce"
      },
      "source": [
        "def main():\n",
        "  print(\"Estou no contexto main()\")\n",
        "\n",
        "if __name__ == \"__main__\": main() #se o meu contexto for o main, ele invoca o main()"
      ],
      "execution_count": null,
      "outputs": [
        {
          "output_type": "stream",
          "text": [
            "Estou no contexto main()\n"
          ],
          "name": "stdout"
        }
      ]
    },
    {
      "cell_type": "markdown",
      "metadata": {
        "id": "X7NPB7MbnKRW",
        "colab_type": "text"
      },
      "source": [
        "## Importando"
      ]
    },
    {
      "cell_type": "markdown",
      "metadata": {
        "id": "sZUon1wpnP8l",
        "colab_type": "text"
      },
      "source": [
        "* para importar o *código/módulo* todo  codigo. py ; executo:\n",
        "\n",
        " * *import codigo*  ou *import codigo as novo_nome*\n",
        "\n",
        "* para importar apenas a função *funcao* do código/módulo  codigo. py ; executo:\n",
        "\n",
        " * *from modulo import funcao*\n",
        "* O módulo é carregado uma única vez. \n",
        "  * Posso formar o recarregamento, usando *importlib.reload(nome_do_modulo)*\n",
        "* O Python procura na pasta do códio, se não encontrar pesquisa no diretório PYTHONPATH onde os módulos estão localizados.\n"
      ]
    },
    {
      "cell_type": "markdown",
      "metadata": {
        "id": "ZJou-j4douOs",
        "colab_type": "text"
      },
      "source": [
        "## Argumentos\n",
        "* 3 tipos:\n",
        "  * Argumento default: Já se encontram \"setados\"\n",
        "  * Argumento posicional: Os argumentos são passados na mesma ordem que a função pede.\n",
        "  * Argumento arbitrário: Uso de  **\\*args** e  **\\* \\*kwargs** \n",
        "    * \\*args : A função possui n parâmetros;\n",
        "    * \\* \\*kwargs : Funciona como um dicionário."
      ]
    },
    {
      "cell_type": "code",
      "metadata": {
        "id": "prruXFKUoy7R",
        "colab_type": "code",
        "colab": {
          "base_uri": "https://localhost:8080/",
          "height": 68
        },
        "outputId": "c5b76b23-504a-45da-88be-0e7ea6510e2a"
      },
      "source": [
        "#default \n",
        "def bom_dia(nome=\"Sr/Sra\", idade=\"sem idade\"):\n",
        "  if (idade == \"sem idade\"): print(\"Bom dia \"+ nome)\n",
        "  else: print(\"Bom dia \"+ nome + \" de \" + idade +\" anos.\")\n",
        "\n",
        "\n",
        "bom_dia()\n",
        "bom_dia(\"Joao\",\"20\")\n",
        "bom_dia(\"Joao\")"
      ],
      "execution_count": null,
      "outputs": [
        {
          "output_type": "stream",
          "text": [
            "Bom dia Sr/Sra\n",
            "Bom dia Joao de 20 anos.\n",
            "Bom dia Joao\n"
          ],
          "name": "stdout"
        }
      ]
    },
    {
      "cell_type": "code",
      "metadata": {
        "id": "inrwncs4t8bm",
        "colab_type": "code",
        "colab": {
          "base_uri": "https://localhost:8080/",
          "height": 68
        },
        "outputId": "6a14c963-ef09-46d2-b1dc-af25479140ad"
      },
      "source": [
        "#Indicando explicitamente os argumentos\n",
        "\n",
        "bom_dia(nome=\"Joao\",idade=\"20\")\n",
        "bom_dia(nome=\"Joao\")\n",
        "bom_dia(idade=\"20\")"
      ],
      "execution_count": null,
      "outputs": [
        {
          "output_type": "stream",
          "text": [
            "Bom dia Joao de 20 anos.\n",
            "Bom dia Joao\n",
            "Bom dia Sr/Sra de 20 anos.\n"
          ],
          "name": "stdout"
        }
      ]
    },
    {
      "cell_type": "code",
      "metadata": {
        "id": "jf3LqUXfuSVS",
        "colab_type": "code",
        "colab": {}
      },
      "source": [
        "#Argumento arbitrário:\n",
        "\n",
        "def media(*valores_inteiros):\n",
        "  n = len(valores_inteiros)\n",
        "  soma=0\n",
        "  for valor in valores_inteiros:\n",
        "    soma += valor\n",
        "  return soma/n"
      ],
      "execution_count": null,
      "outputs": []
    },
    {
      "cell_type": "code",
      "metadata": {
        "id": "_d-k8Wanwm2D",
        "colab_type": "code",
        "colab": {
          "base_uri": "https://localhost:8080/",
          "height": 34
        },
        "outputId": "9f90fd67-be10-4c89-ca19-411d0e2d494f"
      },
      "source": [
        "print(media(1,2,3))"
      ],
      "execution_count": null,
      "outputs": [
        {
          "output_type": "stream",
          "text": [
            "2.0\n"
          ],
          "name": "stdout"
        }
      ]
    },
    {
      "cell_type": "code",
      "metadata": {
        "id": "_FnYtRYzxmSn",
        "colab_type": "code",
        "colab": {
          "base_uri": "https://localhost:8080/",
          "height": 51
        },
        "outputId": "72a216b8-cbaf-4ce5-95e1-d2d19dea8f41"
      },
      "source": [
        "def alunos(**aluno_idade):\n",
        "  print(str(aluno_idade))\n",
        "\n",
        "alunos(julia=20, miguel=19)\n",
        "alunos(julia=20, miguel=19, rafael=21)"
      ],
      "execution_count": null,
      "outputs": [
        {
          "output_type": "stream",
          "text": [
            "{'julia': 20, 'miguel': 19}\n",
            "{'julia': 20, 'miguel': 19, 'rafael': 21}\n"
          ],
          "name": "stdout"
        }
      ]
    },
    {
      "cell_type": "markdown",
      "metadata": {
        "id": "KcdWorF_BB5m",
        "colab_type": "text"
      },
      "source": [
        "## Programação Orientada a Objeto"
      ]
    },
    {
      "cell_type": "markdown",
      "metadata": {
        "id": "i_bFrvmpBlIH",
        "colab_type": "text"
      },
      "source": [
        "* Programação procedural ou estruturada: Inicio -> Processamento -> Fim\n",
        "* POO: Classes, objetos, reuso de código, encapsulamento, atributos e métodos. Instância de uma classe."
      ]
    },
    {
      "cell_type": "markdown",
      "metadata": {
        "id": "MhzZJy3-CKvK",
        "colab_type": "text"
      },
      "source": [
        "* Pode-se criar módulos, contendo funções, classes e variáveis.\n",
        "* módulo"
      ]
    },
    {
      "cell_type": "markdown",
      "metadata": {
        "id": "77Cz2GWmHcxT",
        "colab_type": "text"
      },
      "source": [
        "## Módulos\n"
      ]
    },
    {
      "cell_type": "markdown",
      "metadata": {
        "id": "SJx8v3U2IXSq",
        "colab_type": "text"
      },
      "source": [
        "* Módulos build-in \n",
        "\n"
      ]
    },
    {
      "cell_type": "code",
      "metadata": {
        "id": "tBJE0oy4x3IG",
        "colab_type": "code",
        "colab": {
          "base_uri": "https://localhost:8080/",
          "height": 54
        },
        "outputId": "38f7ece5-1882-41c7-9a36-82b950c85c9b"
      },
      "source": [
        "# Vendo onde o Python pesquisa pelos módulos\n",
        "import sys\n",
        "print(sys.path)"
      ],
      "execution_count": null,
      "outputs": [
        {
          "output_type": "stream",
          "text": [
            "['', '/env/python', '/usr/lib/python36.zip', '/usr/lib/python3.6', '/usr/lib/python3.6/lib-dynload', '/usr/local/lib/python3.6/dist-packages', '/usr/lib/python3/dist-packages', '/usr/local/lib/python3.6/dist-packages/IPython/extensions', '/root/.ipython']\n"
          ],
          "name": "stdout"
        }
      ]
    },
    {
      "cell_type": "code",
      "metadata": {
        "id": "Vmq3SthJH1He",
        "colab_type": "code",
        "colab": {
          "base_uri": "https://localhost:8080/",
          "height": 68
        },
        "outputId": "08d50333-2233-4384-d78b-7b148cd216b0"
      },
      "source": [
        "#Módulo voltado para informações do PC\n",
        "import platform\n",
        "\n",
        "plataforma = platform\n",
        "sistema_operacional = plataforma.system() \n",
        "print(plataforma.python_version())\n",
        "print(plataforma.processor())\n",
        "print(sistema_operacional)"
      ],
      "execution_count": null,
      "outputs": [
        {
          "output_type": "stream",
          "text": [
            "3.6.9\n",
            "x86_64\n",
            "Linux\n"
          ],
          "name": "stdout"
        }
      ]
    },
    {
      "cell_type": "code",
      "metadata": {
        "id": "nd480mw9JRnx",
        "colab_type": "code",
        "colab": {
          "base_uri": "https://localhost:8080/",
          "height": 71
        },
        "outputId": "08593fbe-0746-4fb3-b39f-980b3f9b4e50"
      },
      "source": [
        "#Tabela de nomes existentes\n",
        "print(dir())\n",
        "\n",
        "#quando importo um módulo, ele insere esse nome nessa tabela\n",
        "import math as matematica\n",
        "\n",
        "print(dir())"
      ],
      "execution_count": null,
      "outputs": [
        {
          "output_type": "stream",
          "text": [
            "['In', 'Out', '_', '_3', '__', '___', '__builtin__', '__builtins__', '__doc__', '__loader__', '__name__', '__package__', '__spec__', '_dh', '_i', '_i1', '_i2', '_i3', '_i4', '_ih', '_ii', '_iii', '_oh', '_sh', 'exit', 'get_ipython', 'matematica', 'plataforma', 'platform', 'quit', 'sistema_operacional', 'sys']\n",
            "['In', 'Out', '_', '_3', '__', '___', '__builtin__', '__builtins__', '__doc__', '__loader__', '__name__', '__package__', '__spec__', '_dh', '_i', '_i1', '_i2', '_i3', '_i4', '_ih', '_ii', '_iii', '_oh', '_sh', 'exit', 'get_ipython', 'matematica', 'plataforma', 'platform', 'quit', 'sistema_operacional', 'sys']\n"
          ],
          "name": "stdout"
        }
      ]
    },
    {
      "cell_type": "markdown",
      "metadata": {
        "id": "CJ-fOxASLHtY",
        "colab_type": "text"
      },
      "source": [
        "* Como **INSTALAR MÓDULOS** no Google COLAB\n"
      ]
    },
    {
      "cell_type": "code",
      "metadata": {
        "id": "EcB3L2-IKoNh",
        "colab_type": "code",
        "colab": {
          "base_uri": "https://localhost:8080/",
          "height": 190
        },
        "outputId": "a8f36607-a46f-46ed-df97-085c93207c31"
      },
      "source": [
        "!pip3 install ColabTurtle"
      ],
      "execution_count": null,
      "outputs": [
        {
          "output_type": "stream",
          "text": [
            "Collecting ColabTurtle\n",
            "  Downloading https://files.pythonhosted.org/packages/49/01/6da7091c2c6c917cce99c000b89acb6aa27b66ef6eafc0c0ccf59b98694f/ColabTurtle-2.0.0.tar.gz\n",
            "Building wheels for collected packages: ColabTurtle\n",
            "  Building wheel for ColabTurtle (setup.py) ... \u001b[?25l\u001b[?25hdone\n",
            "  Created wheel for ColabTurtle: filename=ColabTurtle-2.0.0-cp36-none-any.whl size=4033 sha256=f3d204cc212b35683a9c1963f89096fa6bf0cc5c8d6a80e6a97839cf0bbbf273\n",
            "  Stored in directory: /root/.cache/pip/wheels/a8/29/ec/ad346f0042ae467cc74f4378916348faf975b07890651dcae7\n",
            "Successfully built ColabTurtle\n",
            "Installing collected packages: ColabTurtle\n",
            "Successfully installed ColabTurtle-2.0.0\n"
          ],
          "name": "stdout"
        }
      ]
    },
    {
      "cell_type": "code",
      "metadata": {
        "id": "sJvgn963KoRX",
        "colab_type": "code",
        "colab": {}
      },
      "source": [
        "from ColabTurtle import Turtle"
      ],
      "execution_count": null,
      "outputs": []
    },
    {
      "cell_type": "code",
      "metadata": {
        "id": "56WjNZd4LhYW",
        "colab_type": "code",
        "colab": {}
      },
      "source": [
        "t=Turtle\n",
        "t.initializeTurtle()\n",
        "t.forward(50)\n",
        "t.left(80)\n",
        "t.right(100)\n"
      ],
      "execution_count": null,
      "outputs": []
    },
    {
      "cell_type": "markdown",
      "metadata": {
        "id": "5aBeCI8BME4B",
        "colab_type": "text"
      },
      "source": [
        "## Pacote\n",
        "* import pacote.modulo1, pacote.modulo2\n",
        "* import pacote.*\n",
        "\n"
      ]
    },
    {
      "cell_type": "markdown",
      "metadata": {
        "id": "Y3diGlPZMJEg",
        "colab_type": "text"
      },
      "source": [
        "## Classes\n",
        "* Construtores: Servem para setar atributos de inicialização\n",
        "  * def \\_\\__init\\_\\__()\n"
      ]
    },
    {
      "cell_type": "code",
      "metadata": {
        "id": "LS6TTeC8L50G",
        "colab_type": "code",
        "colab": {}
      },
      "source": [
        "class aluno:\n",
        "  def __init__(self, nome, codigo):\n",
        "    self.nome = nome\n",
        "    self.codigo = codigo\n",
        "  def get_nome(self):     return self.nome\n",
        "  def get_codigo(self): return self.codigo\n",
        "\n",
        "  def set_nome(self,nome): self.nome = nome\n",
        "  def set_codigo(self,codigo): self.codigo = codigo "
      ],
      "execution_count": null,
      "outputs": []
    },
    {
      "cell_type": "code",
      "metadata": {
        "id": "5BH-KzY_TLyv",
        "colab_type": "code",
        "colab": {
          "base_uri": "https://localhost:8080/",
          "height": 68
        },
        "outputId": "0fb2a27b-7019-45e5-9894-d76fd1be5c82"
      },
      "source": [
        "julia = aluno(\"Julia\", 200)\n",
        "print(julia.get_nome())\n",
        "print(julia.get_codigo())\n",
        "\n",
        "julia.set_nome(\"Júlia\")\n",
        "print(julia.get_nome())"
      ],
      "execution_count": null,
      "outputs": [
        {
          "output_type": "stream",
          "text": [
            "Julia\n",
            "200\n",
            "Júlia\n"
          ],
          "name": "stdout"
        }
      ]
    },
    {
      "cell_type": "markdown",
      "metadata": {
        "id": "wi-TbSN7Vvif",
        "colab_type": "text"
      },
      "source": [
        "* Quando faço objeto_novo = objeto_velho, o que o Python faz é criar uma referência (só tenho 1 objeto em memória)"
      ]
    },
    {
      "cell_type": "code",
      "metadata": {
        "id": "xVK5HgmCV6Jf",
        "colab_type": "code",
        "colab": {
          "base_uri": "https://localhost:8080/",
          "height": 68
        },
        "outputId": "11bd065d-a848-42a1-a8fa-431abeeaaca0"
      },
      "source": [
        "mariana = julia\n",
        "print(id(mariana))\n",
        "print(id(julia))\n",
        "\n",
        "mariana.set_nome(\"Mariana\")  #Acabo mudando o nome do único obj aluno que tenho\n",
        "print(julia.get_nome())"
      ],
      "execution_count": null,
      "outputs": [
        {
          "output_type": "stream",
          "text": [
            "140643664921768\n",
            "140643664921768\n",
            "Mariana\n"
          ],
          "name": "stdout"
        }
      ]
    },
    {
      "cell_type": "markdown",
      "metadata": {
        "id": "yRB45622WgSd",
        "colab_type": "text"
      },
      "source": [
        "* Classes Imutáveis\n",
        "  * int, float, string"
      ]
    },
    {
      "cell_type": "code",
      "metadata": {
        "id": "rVfjg9kVWJ1R",
        "colab_type": "code",
        "colab": {
          "base_uri": "https://localhost:8080/",
          "height": 51
        },
        "outputId": "7ca7b899-6d46-4e90-ed34-92fc073637f4"
      },
      "source": [
        " idade_1= 12\n",
        " print(id(idade_1))\n",
        " idade_1 = 20            #Perceba que ao mudar o valor, o que ocorre é a criação de um novo objeto\n",
        " print(id(idade_1))"
      ],
      "execution_count": null,
      "outputs": [
        {
          "output_type": "stream",
          "text": [
            "10914848\n",
            "10915104\n"
          ],
          "name": "stdout"
        }
      ]
    }
  ]
}